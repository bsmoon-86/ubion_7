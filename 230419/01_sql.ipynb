{
 "cells": [
  {
   "attachments": {},
   "cell_type": "markdown",
   "metadata": {},
   "source": [
    "# 문제 \n",
    "1. emp table에서 SAL 1000이상이고 3000미만인 사원의 정보를 출력\n",
    "2. emp, dept를 left join을 이용하여 결합한 뒤 부서의 위치가 'NEW YORK'인 데이터를 출력"
   ]
  },
  {
   "cell_type": "code",
   "execution_count": null,
   "metadata": {},
   "outputs": [],
   "source": [
    "import mod_sql"
   ]
  },
  {
   "cell_type": "code",
   "execution_count": null,
   "metadata": {},
   "outputs": [],
   "source": [
    "# 클래스를 생성\n",
    "db = mod_sql.Database('localhost', 'root', '1234', 'ubion_test', 3306)"
   ]
  },
  {
   "cell_type": "code",
   "execution_count": null,
   "metadata": {},
   "outputs": [],
   "source": [
    "sql = \"\"\"\n",
    "    select \n",
    "    * \n",
    "    from \n",
    "    emp\n",
    "    where\n",
    "    (SAL >= 1000) \n",
    "    and \n",
    "    (SAL < 3000)\n",
    "\"\"\"\n",
    "db.sql_query(sql)"
   ]
  },
  {
   "cell_type": "code",
   "execution_count": null,
   "metadata": {},
   "outputs": [],
   "source": [
    "sql  = \"\"\"\n",
    "    select \n",
    "    * \n",
    "    from \n",
    "    emp \n",
    "    left join \n",
    "    dept \n",
    "    on \n",
    "    emp.DEPTNO = dept.DEPTNO\n",
    "    where \n",
    "    LOC = 'NEW YORK'\n",
    "\"\"\"\n",
    "\n",
    "db.sql_query(sql)"
   ]
  },
  {
   "attachments": {},
   "cell_type": "markdown",
   "metadata": {},
   "source": [
    "1. emp, dept를 right join 결합 \n",
    "2. 부서번호가 40인 데이터만 출력"
   ]
  },
  {
   "cell_type": "code",
   "execution_count": null,
   "metadata": {},
   "outputs": [],
   "source": []
  }
 ],
 "metadata": {
  "kernelspec": {
   "display_name": "Python 3",
   "language": "python",
   "name": "python3"
  },
  "language_info": {
   "codemirror_mode": {
    "name": "ipython",
    "version": 3
   },
   "file_extension": ".py",
   "mimetype": "text/x-python",
   "name": "python",
   "nbconvert_exporter": "python",
   "pygments_lexer": "ipython3",
   "version": "3.11.1"
  },
  "orig_nbformat": 4
 },
 "nbformat": 4,
 "nbformat_minor": 2
}
