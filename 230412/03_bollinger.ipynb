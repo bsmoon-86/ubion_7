{
 "cells": [
  {
   "attachments": {},
   "cell_type": "markdown",
   "metadata": {},
   "source": [
    "# 볼린저 밴드\n",
    "1. 파일 로드 \n",
    "2. 결측치와 이상치를 제거 \n",
    "3. 시간, 종가만의 데이터프레임을 생성\n",
    "4. 이동 평균선 : 데이터 20개의 평균을 구해서 새로운 파생변수 대입\n",
    "5. 상단 밴드 : 이동 평균선 + (2 * 데이터 20개의 표준편차)\n",
    "6. 하단 밴드 : 이동 평균선 - (2 * 데이터 20개의 표준편차)\n",
    "7. 구매 상태를 확인하는 파생변수 생성\n",
    "8. 구매 상태 입력\n",
    "9. 수익율 계산"
   ]
  },
  {
   "cell_type": "code",
   "execution_count": null,
   "metadata": {},
   "outputs": [],
   "source": [
    "import pandas as pd\n",
    "import numpy as np\n",
    "import matplotlib.pyplot as plt"
   ]
  },
  {
   "cell_type": "code",
   "execution_count": null,
   "metadata": {},
   "outputs": [],
   "source": [
    "df = pd.read_csv(\"../csv/GM.csv\", index_col='Date')\n",
    "df.head()"
   ]
  },
  {
   "cell_type": "code",
   "execution_count": null,
   "metadata": {},
   "outputs": [],
   "source": [
    "df = df.loc[~df.isin((np.nan, np.inf, -np.inf)).any(axis='columns')]\n",
    "df"
   ]
  },
  {
   "cell_type": "code",
   "execution_count": null,
   "metadata": {},
   "outputs": [],
   "source": [
    "# 시간과 종가만의 데이터프레임 생성\n",
    "price_df = df[['Adj Close']]\n",
    "price_df.head(1)"
   ]
  },
  {
   "cell_type": "code",
   "execution_count": null,
   "metadata": {},
   "outputs": [],
   "source": [
    "price_df['center'] = 0"
   ]
  },
  {
   "cell_type": "code",
   "execution_count": null,
   "metadata": {},
   "outputs": [],
   "source": [
    "# 이동 평균선 : 종가 데이터 20개의 평균값\n",
    "\n",
    "price_df['center'] = price_df['Adj Close'].rolling(20).mean()"
   ]
  },
  {
   "cell_type": "code",
   "execution_count": null,
   "metadata": {},
   "outputs": [],
   "source": [
    "# ub, lb 두개의 파생변수 생성\n",
    "# 상단밴드 생성\n",
    "price_df['ub'] = price_df['center'] + ( 2 * price_df['Adj Close'].rolling(20).std() )\n",
    "# 하단밴드 생성\n",
    "price_df['lb'] = price_df['center'] - ( 2 * price_df['Adj Close'].rolling(20).std() )"
   ]
  },
  {
   "cell_type": "code",
   "execution_count": null,
   "metadata": {},
   "outputs": [],
   "source": [
    "price_df.tail()"
   ]
  },
  {
   "cell_type": "code",
   "execution_count": null,
   "metadata": {},
   "outputs": [],
   "source": [
    "test_df = price_df.tail(100)"
   ]
  },
  {
   "cell_type": "code",
   "execution_count": null,
   "metadata": {},
   "outputs": [],
   "source": [
    "test_df.drop('Adj Close', axis=1).plot()"
   ]
  },
  {
   "cell_type": "code",
   "execution_count": null,
   "metadata": {},
   "outputs": [],
   "source": [
    "start = \"2011-01-02\"\n",
    "price_df2 = price_df.loc[start:]\n",
    "price_df2.head(2)"
   ]
  },
  {
   "cell_type": "code",
   "execution_count": null,
   "metadata": {},
   "outputs": [],
   "source": [
    "# 거래 내역이라는 파생변수 \n",
    "price_df2['trade'] = \"\"\n",
    "price_df2.head(2)"
   ]
  },
  {
   "attachments": {},
   "cell_type": "markdown",
   "metadata": {},
   "source": [
    "### 구매 내역 추가\n",
    "- 조건\n",
    "    1. 상단 밴드보다 종가가 높은 경우\n",
    "        - 현재 구매 상태이면\n",
    "            - 매도 trade = \"\"\n",
    "        - 구매 상태가 아니면\n",
    "            - 아무 행동도 하지 않는다. trade = \"\"\n",
    "    2. 하단 밴드보다 종가가 낮은 경우\n",
    "        - 현재 구매 상태이면\n",
    "            - 아무 행동도 하지 않는다. trade = 'buy'\n",
    "        - 구매 상태가 아니면\n",
    "            - 매수 trade = 'buy'\n",
    "    3. 하단 밴드와 상단 밴드 사이에 종가가 존재하는 경우\n",
    "        - 현재 구매 상태이면\n",
    "            - 아무 행동도 하지 않는다. trade = 'buy'\n",
    "        - 구매 상태가 아니면\n",
    "            - 아무 행동도 하지 않는다. trade = ''"
   ]
  },
  {
   "cell_type": "code",
   "execution_count": null,
   "metadata": {},
   "outputs": [],
   "source": [
    "for i in price_df2.index:\n",
    "    # 상단 밴드보다 종가가 높은 경우\n",
    "    if price_df2.loc[i, 'Adj Close'] > price_df2.loc[i, 'ub']:\n",
    "        # 현재 구매 상태이면\n",
    "        if price_df2.shift(1).loc[i, 'trade'] == 'buy':\n",
    "            # 매도\n",
    "            price_df2.loc[i, 'trade'] = ''\n",
    "        else:\n",
    "            price_df2.loc[i, 'trade'] = ''\n",
    "    # 하단 밴드보다 종가가 낮은 경우\n",
    "    elif price_df2.loc[i, 'Adj Close'] < price_df2.loc[i, 'lb']:\n",
    "        # 현재 구매 상태이면\n",
    "        if price_df2.shift(1).loc[i, 'trade'] == 'buy':\n",
    "            # 구매 상태를 유지\n",
    "            price_df2.loc[i, 'trade'] = 'buy'\n",
    "        else:\n",
    "            # 매수\n",
    "            price_df2.loc[i, 'trade'] = 'buy' \n",
    "    else:\n",
    "        # 현재 구매 상태이면\n",
    "        if price_df2.shift(1).loc[i, 'trade'] == 'buy':\n",
    "            # 구매 상태를 유지\n",
    "            price_df2.loc[i, 'trade'] = 'buy'\n",
    "        else:\n",
    "            price_df2.loc[i, 'trade'] = ''"
   ]
  },
  {
   "cell_type": "code",
   "execution_count": null,
   "metadata": {},
   "outputs": [],
   "source": [
    "price_df2['trade'].value_counts()"
   ]
  },
  {
   "attachments": {},
   "cell_type": "markdown",
   "metadata": {},
   "source": [
    "### 수익율 계산\n",
    "1. 구매한 날의 종가\n",
    "    - 전날의 trade 항목의 값이 '' 이고 현재의 trade가 'buy'인 날의 종가\n",
    "2. 판매한 날의 종가\n",
    "    - 전날의 trade 가 'buy' 현재의 trade가 ''인 날의 종가\n",
    "3. 수익율 계산\n",
    "    - (판매 가격 - 구매 가격) / 구매 가격 + 1\n",
    "4. 구매 가격과 판매 가격을 초기화\n",
    "5. 여러개의 수익율 발생\n",
    "6. 여러개의 수익율로 누적 수익율 계산"
   ]
  },
  {
   "cell_type": "code",
   "execution_count": null,
   "metadata": {},
   "outputs": [],
   "source": [
    "rtn = 1.0\n",
    "price_df2['return'] = 1\n",
    "buy = 0.0\n",
    "sell = 0.0\n",
    "\n",
    "for i in price_df2.index:\n",
    "    # 구매가를 출력\n",
    "    if (price_df2.shift(1).loc[i, 'trade'] == '') and \\\n",
    "        (price_df2.loc[i, 'trade'] == 'buy'):\n",
    "        buy = price_df2.loc[i, 'Adj Close']\n",
    "        print('진입일 :', i, '구매 가격 :', buy)\n",
    "    # 판매가를 출력\n",
    "    elif (price_df2.shift(1).loc[i, 'trade'] == 'buy') and \\\n",
    "        (price_df2.loc[i, 'trade'] == ''):\n",
    "        sell = price_df2.loc[i, 'Adj Close']\n",
    "        rtn = (sell - buy) / buy + 1\n",
    "        price_df2.loc[i, 'return'] = rtn\n",
    "        print('판매일 :', i, '판매 가격 :', sell, '수익율 :', rtn)\n",
    "\n",
    "    # 구매가, 판매가를 초기화\n",
    "    if price_df2.loc[i, 'trade'] == '':\n",
    "        buy = 0.0\n",
    "        sell = 0.0"
   ]
  },
  {
   "cell_type": "code",
   "execution_count": null,
   "metadata": {},
   "outputs": [],
   "source": [
    "#  누적 수익율 \n",
    "acc_rtn = 1.0\n",
    "\n",
    "for i in price_df2.index:\n",
    "    rtn = price_df2.loc[i, 'return']\n",
    "    acc_rtn *= rtn\n",
    "    price_df2.loc[i, 'acc_rtn'] = acc_rtn\n",
    "\n",
    "print('누적 수익율 :', acc_rtn)"
   ]
  },
  {
   "cell_type": "code",
   "execution_count": null,
   "metadata": {},
   "outputs": [],
   "source": [
    "price_df2.iloc[400:500]"
   ]
  },
  {
   "cell_type": "code",
   "execution_count": null,
   "metadata": {},
   "outputs": [],
   "source": []
  }
 ],
 "metadata": {
  "kernelspec": {
   "display_name": "Python 3",
   "language": "python",
   "name": "python3"
  },
  "language_info": {
   "codemirror_mode": {
    "name": "ipython",
    "version": 3
   },
   "file_extension": ".py",
   "mimetype": "text/x-python",
   "name": "python",
   "nbconvert_exporter": "python",
   "pygments_lexer": "ipython3",
   "version": "3.11.1"
  },
  "orig_nbformat": 4
 },
 "nbformat": 4,
 "nbformat_minor": 2
}
