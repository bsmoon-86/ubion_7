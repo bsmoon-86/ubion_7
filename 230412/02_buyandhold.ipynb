{
 "cells": [
  {
   "attachments": {},
   "cell_type": "markdown",
   "metadata": {},
   "source": [
    "# Buy and Hold\n",
    "1. 구매 후 일정기간 지나면 판매"
   ]
  },
  {
   "cell_type": "code",
   "execution_count": null,
   "metadata": {},
   "outputs": [],
   "source": [
    "import pandas as pd\n",
    "import numpy as np"
   ]
  },
  {
   "cell_type": "code",
   "execution_count": null,
   "metadata": {},
   "outputs": [],
   "source": [
    "df = pd.read_csv(\"../csv/AAPL.csv\", index_col='Date')\n",
    "df"
   ]
  },
  {
   "cell_type": "code",
   "execution_count": null,
   "metadata": {},
   "outputs": [],
   "source": [
    "# 결측치와 무한대의 값이 존재하는지 확인\n",
    "df = df.loc[~df.isin([np.nan, np.inf, -np.inf]).any(axis='columns')]"
   ]
  },
  {
   "cell_type": "code",
   "execution_count": null,
   "metadata": {},
   "outputs": [],
   "source": [
    "df.dropna(axis=0)"
   ]
  },
  {
   "cell_type": "code",
   "execution_count": null,
   "metadata": {},
   "outputs": [],
   "source": [
    "# df에 있는 수정종가 부분만 추출하여 데이터프레임의 형태로\n",
    "# case1\n",
    "df[['Adj Close']]\n",
    "# case2\n",
    "price_df = df.loc[:, ['Adj Close']]"
   ]
  },
  {
   "cell_type": "code",
   "execution_count": null,
   "metadata": {},
   "outputs": [],
   "source": [
    "# 수정종가를 그래프로 표시 \n",
    "price_df.plot()"
   ]
  },
  {
   "cell_type": "code",
   "execution_count": null,
   "metadata": {},
   "outputs": [],
   "source": [
    "# 파생 변수 생성(일별 수익율)\n",
    "# 일별 수익율 =   (오늘의 종가 - 전날의 종가) / 전날의 종가 \n",
    "# case1\n",
    "price_df['Adj Close'].diff() / price_df['Adj Close'].shift()\n",
    "# case2\n",
    "price_df['daily_rtn'] = price_df['Adj Close'].pct_change()"
   ]
  },
  {
   "cell_type": "code",
   "execution_count": null,
   "metadata": {},
   "outputs": [],
   "source": [
    "price_df.head(5)"
   ]
  },
  {
   "cell_type": "code",
   "execution_count": 30,
   "metadata": {},
   "outputs": [],
   "source": [
    "# 일별 수익율을 가지고 총 수익율 구하려면?\n",
    "\n",
    "test_df = price_df.iloc[500:600]"
   ]
  },
  {
   "cell_type": "code",
   "execution_count": 34,
   "metadata": {},
   "outputs": [
    {
     "name": "stdout",
     "output_type": "stream",
     "text": [
      "1.4907733209842349\n"
     ]
    }
   ],
   "source": [
    "rtn = 1\n",
    "\n",
    "for i in test_df.index:\n",
    "    rtn = rtn * (1+ test_df.loc[i, 'daily_rtn'])\n",
    "print(rtn)\n",
    "    "
   ]
  },
  {
   "cell_type": "code",
   "execution_count": 37,
   "metadata": {},
   "outputs": [
    {
     "data": {
      "text/plain": [
       "Date\n",
       "1982-12-08    0.977858\n",
       "1982-12-09    0.929889\n",
       "1982-12-10    0.863469\n",
       "1982-12-13    0.845017\n",
       "1982-12-14    0.837637\n",
       "                ...   \n",
       "1983-04-25    1.435422\n",
       "1983-04-26    1.476012\n",
       "1983-04-27    1.461253\n",
       "1983-04-28    1.476012\n",
       "1983-04-29    1.490773\n",
       "Name: daily_rtn, Length: 100, dtype: float64"
      ]
     },
     "execution_count": 37,
     "metadata": {},
     "output_type": "execute_result"
    }
   ],
   "source": [
    "(1 + test_df['daily_rtn']).cumprod()"
   ]
  },
  {
   "cell_type": "code",
   "execution_count": 41,
   "metadata": {},
   "outputs": [],
   "source": [
    "# 종가를 기준으로 수익율 계산\n",
    "\n",
    "price_df['st_rtn'] = (1 + price_df['daily_rtn']).cumprod()"
   ]
  },
  {
   "cell_type": "code",
   "execution_count": 46,
   "metadata": {},
   "outputs": [
    {
     "data": {
      "text/html": [
       "<div>\n",
       "<style scoped>\n",
       "    .dataframe tbody tr th:only-of-type {\n",
       "        vertical-align: middle;\n",
       "    }\n",
       "\n",
       "    .dataframe tbody tr th {\n",
       "        vertical-align: top;\n",
       "    }\n",
       "\n",
       "    .dataframe thead th {\n",
       "        text-align: right;\n",
       "    }\n",
       "</style>\n",
       "<table border=\"1\" class=\"dataframe\">\n",
       "  <thead>\n",
       "    <tr style=\"text-align: right;\">\n",
       "      <th></th>\n",
       "      <th>Adj Close</th>\n",
       "      <th>daily_rtn</th>\n",
       "      <th>st_rtn</th>\n",
       "    </tr>\n",
       "    <tr>\n",
       "      <th>Date</th>\n",
       "      <th></th>\n",
       "      <th></th>\n",
       "      <th></th>\n",
       "    </tr>\n",
       "  </thead>\n",
       "  <tbody>\n",
       "    <tr>\n",
       "      <th>2019-06-24</th>\n",
       "      <td>199.169998</td>\n",
       "      <td>0.001962</td>\n",
       "      <td>485.159242</td>\n",
       "    </tr>\n",
       "  </tbody>\n",
       "</table>\n",
       "</div>"
      ],
      "text/plain": [
       "             Adj Close  daily_rtn      st_rtn\n",
       "Date                                         \n",
       "2019-06-24  199.169998   0.001962  485.159242"
      ]
     },
     "execution_count": 46,
     "metadata": {},
     "output_type": "execute_result"
    }
   ],
   "source": [
    "price_df.tail(1)"
   ]
  },
  {
   "cell_type": "code",
   "execution_count": 45,
   "metadata": {},
   "outputs": [
    {
     "name": "stdout",
     "output_type": "stream",
     "text": [
      "0.410525 199.169998\n"
     ]
    }
   ],
   "source": [
    "# 첫날의 종가와 마지막 날의 종가\n",
    "first = price_df.iloc[0, 0]\n",
    "last = price_df.iloc[-1, 0]\n",
    "print(first, last)"
   ]
  },
  {
   "cell_type": "code",
   "execution_count": 47,
   "metadata": {},
   "outputs": [
    {
     "name": "stdout",
     "output_type": "stream",
     "text": [
      "485.15924243346933\n"
     ]
    }
   ],
   "source": [
    "print(last / first)"
   ]
  },
  {
   "attachments": {},
   "cell_type": "markdown",
   "metadata": {},
   "source": [
    "# Buy and Hold 함수로 생성 \n",
    "1. 매개변수는 1개(데이터프레임)\n",
    "2. 결측치, 무한대를 제거 \n",
    "3. 수정종가만 있는 데이터프레임으로 변경\n",
    "4. 일별 수익율 파생변수 생성\n",
    "5. 누적 수익율 파생변수를 생성\n",
    "6. 데이터프레임을 리턴\n"
   ]
  },
  {
   "cell_type": "code",
   "execution_count": 48,
   "metadata": {},
   "outputs": [],
   "source": [
    "df = pd.read_csv(\"../csv/AAPL.csv\")"
   ]
  },
  {
   "cell_type": "code",
   "execution_count": 60,
   "metadata": {},
   "outputs": [],
   "source": [
    "# 함수에 기준이되는 컬럼을 매개변수 생성\n",
    "# 매개변수 2개 구매 시기와 판매 시기\n",
    "\n",
    "def buyandhold(df, column, start, end):\n",
    "    # 결측치, 무한대 제외\n",
    "    df = df.loc[~df.isin([np.nan, np.inf, -np.inf]).any(axis='columns')]\n",
    "    # 수정 종가만 있는 데이터프레임으로 변경\n",
    "    df = df[[column]] \n",
    "    # 일별 수익율 변수 생성\n",
    "    df['daily_rtn'] = df[column].pct_change()\n",
    "    # 누적 수입율 변수 생성\n",
    "    df['st_rtn'] = (1 + df['daily_rtn']).cumprod()\n",
    "    # 데이터프레임을 리턴\n",
    "    return df\n"
   ]
  },
  {
   "cell_type": "code",
   "execution_count": null,
   "metadata": {},
   "outputs": [],
   "source": [
    "buyandhold(df)"
   ]
  },
  {
   "cell_type": "code",
   "execution_count": 58,
   "metadata": {},
   "outputs": [],
   "source": [
    "df = pd.read_csv(\"../csv/AMZN.csv\", index_col='Date')"
   ]
  },
  {
   "cell_type": "code",
   "execution_count": 63,
   "metadata": {},
   "outputs": [
    {
     "data": {
      "text/plain": [
       "Index(['1997-05-15', '1997-05-16', '1997-05-19', '1997-05-20', '1997-05-21',\n",
       "       '1997-05-22', '1997-05-23', '1997-05-27', '1997-05-28', '1997-05-29',\n",
       "       ...\n",
       "       '2019-06-11', '2019-06-12', '2019-06-13', '2019-06-14', '2019-06-17',\n",
       "       '2019-06-18', '2019-06-19', '2019-06-20', '2019-06-21', '2019-06-24'],\n",
       "      dtype='object', name='Date', length=5563)"
      ]
     },
     "execution_count": 63,
     "metadata": {},
     "output_type": "execute_result"
    }
   ],
   "source": [
    "df.index"
   ]
  },
  {
   "cell_type": "code",
   "execution_count": 96,
   "metadata": {},
   "outputs": [],
   "source": [
    "df.index = pd.to_datetime(df.index, format=\"%Y-%m-%d\")"
   ]
  },
  {
   "cell_type": "code",
   "execution_count": 115,
   "metadata": {},
   "outputs": [],
   "source": [
    "from datetime import datetime"
   ]
  },
  {
   "cell_type": "code",
   "execution_count": 118,
   "metadata": {},
   "outputs": [
    {
     "data": {
      "text/plain": [
       "'2008-01-01T00:00:00'"
      ]
     },
     "execution_count": 118,
     "metadata": {},
     "output_type": "execute_result"
    }
   ],
   "source": [
    "start = \"20080101\"\n",
    "end = \"20150101\"\n",
    "start = datetime.strptime(start, '%Y%m%d').isoformat()\n",
    "end = datetime.strptime(end, '%Y%m%d').isoformat()\n",
    "start"
   ]
  },
  {
   "cell_type": "code",
   "execution_count": 119,
   "metadata": {},
   "outputs": [
    {
     "data": {
      "text/html": [
       "<div>\n",
       "<style scoped>\n",
       "    .dataframe tbody tr th:only-of-type {\n",
       "        vertical-align: middle;\n",
       "    }\n",
       "\n",
       "    .dataframe tbody tr th {\n",
       "        vertical-align: top;\n",
       "    }\n",
       "\n",
       "    .dataframe thead th {\n",
       "        text-align: right;\n",
       "    }\n",
       "</style>\n",
       "<table border=\"1\" class=\"dataframe\">\n",
       "  <thead>\n",
       "    <tr style=\"text-align: right;\">\n",
       "      <th></th>\n",
       "      <th>Open</th>\n",
       "      <th>High</th>\n",
       "      <th>Low</th>\n",
       "      <th>Close</th>\n",
       "      <th>Adj Close</th>\n",
       "      <th>Volume</th>\n",
       "    </tr>\n",
       "    <tr>\n",
       "      <th>Date</th>\n",
       "      <th></th>\n",
       "      <th></th>\n",
       "      <th></th>\n",
       "      <th></th>\n",
       "      <th></th>\n",
       "      <th></th>\n",
       "    </tr>\n",
       "  </thead>\n",
       "  <tbody>\n",
       "    <tr>\n",
       "      <th>2008-01-02</th>\n",
       "      <td>78.260002</td>\n",
       "      <td>78.260002</td>\n",
       "      <td>76.910004</td>\n",
       "      <td>77.360001</td>\n",
       "      <td>54.651798</td>\n",
       "      <td>2723300</td>\n",
       "    </tr>\n",
       "    <tr>\n",
       "      <th>2008-01-03</th>\n",
       "      <td>78.050003</td>\n",
       "      <td>78.050003</td>\n",
       "      <td>77.129997</td>\n",
       "      <td>77.459999</td>\n",
       "      <td>54.722462</td>\n",
       "      <td>281400</td>\n",
       "    </tr>\n",
       "    <tr>\n",
       "      <th>2008-01-04</th>\n",
       "      <td>77.739998</td>\n",
       "      <td>77.739998</td>\n",
       "      <td>77.480003</td>\n",
       "      <td>77.550003</td>\n",
       "      <td>54.786034</td>\n",
       "      <td>231100</td>\n",
       "    </tr>\n",
       "    <tr>\n",
       "      <th>2008-01-07</th>\n",
       "      <td>77.699997</td>\n",
       "      <td>77.699997</td>\n",
       "      <td>77.370003</td>\n",
       "      <td>77.570000</td>\n",
       "      <td>54.800144</td>\n",
       "      <td>186300</td>\n",
       "    </tr>\n",
       "    <tr>\n",
       "      <th>2008-01-08</th>\n",
       "      <td>77.889999</td>\n",
       "      <td>77.889999</td>\n",
       "      <td>77.360001</td>\n",
       "      <td>77.650002</td>\n",
       "      <td>54.856682</td>\n",
       "      <td>144000</td>\n",
       "    </tr>\n",
       "    <tr>\n",
       "      <th>...</th>\n",
       "      <td>...</td>\n",
       "      <td>...</td>\n",
       "      <td>...</td>\n",
       "      <td>...</td>\n",
       "      <td>...</td>\n",
       "      <td>...</td>\n",
       "    </tr>\n",
       "    <tr>\n",
       "      <th>2014-12-24</th>\n",
       "      <td>81.989998</td>\n",
       "      <td>82.040001</td>\n",
       "      <td>81.849998</td>\n",
       "      <td>82.040001</td>\n",
       "      <td>73.073853</td>\n",
       "      <td>2280100</td>\n",
       "    </tr>\n",
       "    <tr>\n",
       "      <th>2014-12-26</th>\n",
       "      <td>82.110001</td>\n",
       "      <td>82.190002</td>\n",
       "      <td>82.050003</td>\n",
       "      <td>82.110001</td>\n",
       "      <td>73.136253</td>\n",
       "      <td>1300800</td>\n",
       "    </tr>\n",
       "    <tr>\n",
       "      <th>2014-12-29</th>\n",
       "      <td>82.239998</td>\n",
       "      <td>82.349998</td>\n",
       "      <td>82.160004</td>\n",
       "      <td>82.250000</td>\n",
       "      <td>73.260918</td>\n",
       "      <td>2730600</td>\n",
       "    </tr>\n",
       "    <tr>\n",
       "      <th>2014-12-30</th>\n",
       "      <td>82.440002</td>\n",
       "      <td>82.480003</td>\n",
       "      <td>82.290001</td>\n",
       "      <td>82.309998</td>\n",
       "      <td>73.314362</td>\n",
       "      <td>5854700</td>\n",
       "    </tr>\n",
       "    <tr>\n",
       "      <th>2014-12-31</th>\n",
       "      <td>82.400002</td>\n",
       "      <td>82.449997</td>\n",
       "      <td>82.349998</td>\n",
       "      <td>82.370003</td>\n",
       "      <td>73.367821</td>\n",
       "      <td>1708900</td>\n",
       "    </tr>\n",
       "  </tbody>\n",
       "</table>\n",
       "<p>1763 rows × 6 columns</p>\n",
       "</div>"
      ],
      "text/plain": [
       "                 Open       High        Low      Close  Adj Close   Volume\n",
       "Date                                                                      \n",
       "2008-01-02  78.260002  78.260002  76.910004  77.360001  54.651798  2723300\n",
       "2008-01-03  78.050003  78.050003  77.129997  77.459999  54.722462   281400\n",
       "2008-01-04  77.739998  77.739998  77.480003  77.550003  54.786034   231100\n",
       "2008-01-07  77.699997  77.699997  77.370003  77.570000  54.800144   186300\n",
       "2008-01-08  77.889999  77.889999  77.360001  77.650002  54.856682   144000\n",
       "...               ...        ...        ...        ...        ...      ...\n",
       "2014-12-24  81.989998  82.040001  81.849998  82.040001  73.073853  2280100\n",
       "2014-12-26  82.110001  82.190002  82.050003  82.110001  73.136253  1300800\n",
       "2014-12-29  82.239998  82.349998  82.160004  82.250000  73.260918  2730600\n",
       "2014-12-30  82.440002  82.480003  82.290001  82.309998  73.314362  5854700\n",
       "2014-12-31  82.400002  82.449997  82.349998  82.370003  73.367821  1708900\n",
       "\n",
       "[1763 rows x 6 columns]"
      ]
     },
     "execution_count": 119,
     "metadata": {},
     "output_type": "execute_result"
    }
   ],
   "source": [
    "df.loc[start:end]"
   ]
  },
  {
   "cell_type": "code",
   "execution_count": 120,
   "metadata": {},
   "outputs": [
    {
     "data": {
      "text/plain": [
       "<module 'buyandhold' from 'c:\\\\Users\\\\moons\\\\Documents\\\\GitHub\\\\ubion_7\\\\230412\\\\buyandhold.py'>"
      ]
     },
     "execution_count": 120,
     "metadata": {},
     "output_type": "execute_result"
    }
   ],
   "source": [
    "import buyandhold\n",
    "# 라이브러리 리로드 \n",
    "import imp\n",
    "imp.reload(buyandhold)"
   ]
  },
  {
   "cell_type": "code",
   "execution_count": 121,
   "metadata": {},
   "outputs": [],
   "source": [
    "df = pd.read_csv(\"../csv/BND.csv\", index_col='Date')"
   ]
  },
  {
   "cell_type": "code",
   "execution_count": 122,
   "metadata": {},
   "outputs": [
    {
     "data": {
      "text/html": [
       "<div>\n",
       "<style scoped>\n",
       "    .dataframe tbody tr th:only-of-type {\n",
       "        vertical-align: middle;\n",
       "    }\n",
       "\n",
       "    .dataframe tbody tr th {\n",
       "        vertical-align: top;\n",
       "    }\n",
       "\n",
       "    .dataframe thead th {\n",
       "        text-align: right;\n",
       "    }\n",
       "</style>\n",
       "<table border=\"1\" class=\"dataframe\">\n",
       "  <thead>\n",
       "    <tr style=\"text-align: right;\">\n",
       "      <th></th>\n",
       "      <th>Adj Close</th>\n",
       "      <th>daily_rtn</th>\n",
       "      <th>st_rtn</th>\n",
       "    </tr>\n",
       "    <tr>\n",
       "      <th>Date</th>\n",
       "      <th></th>\n",
       "      <th></th>\n",
       "      <th></th>\n",
       "    </tr>\n",
       "  </thead>\n",
       "  <tbody>\n",
       "    <tr>\n",
       "      <th>2010-01-04</th>\n",
       "      <td>60.611969</td>\n",
       "      <td>NaN</td>\n",
       "      <td>NaN</td>\n",
       "    </tr>\n",
       "    <tr>\n",
       "      <th>2010-01-05</th>\n",
       "      <td>60.789135</td>\n",
       "      <td>0.002923</td>\n",
       "      <td>1.002923</td>\n",
       "    </tr>\n",
       "    <tr>\n",
       "      <th>2010-01-06</th>\n",
       "      <td>60.766037</td>\n",
       "      <td>-0.000380</td>\n",
       "      <td>1.002542</td>\n",
       "    </tr>\n",
       "    <tr>\n",
       "      <th>2010-01-07</th>\n",
       "      <td>60.719822</td>\n",
       "      <td>-0.000761</td>\n",
       "      <td>1.001779</td>\n",
       "    </tr>\n",
       "    <tr>\n",
       "      <th>2010-01-08</th>\n",
       "      <td>60.781410</td>\n",
       "      <td>0.001014</td>\n",
       "      <td>1.002796</td>\n",
       "    </tr>\n",
       "    <tr>\n",
       "      <th>...</th>\n",
       "      <td>...</td>\n",
       "      <td>...</td>\n",
       "      <td>...</td>\n",
       "    </tr>\n",
       "    <tr>\n",
       "      <th>2014-12-24</th>\n",
       "      <td>73.073853</td>\n",
       "      <td>0.000366</td>\n",
       "      <td>1.205601</td>\n",
       "    </tr>\n",
       "    <tr>\n",
       "      <th>2014-12-26</th>\n",
       "      <td>73.136253</td>\n",
       "      <td>0.000854</td>\n",
       "      <td>1.206631</td>\n",
       "    </tr>\n",
       "    <tr>\n",
       "      <th>2014-12-29</th>\n",
       "      <td>73.260918</td>\n",
       "      <td>0.001705</td>\n",
       "      <td>1.208687</td>\n",
       "    </tr>\n",
       "    <tr>\n",
       "      <th>2014-12-30</th>\n",
       "      <td>73.314362</td>\n",
       "      <td>0.000730</td>\n",
       "      <td>1.209569</td>\n",
       "    </tr>\n",
       "    <tr>\n",
       "      <th>2014-12-31</th>\n",
       "      <td>73.367821</td>\n",
       "      <td>0.000729</td>\n",
       "      <td>1.210451</td>\n",
       "    </tr>\n",
       "  </tbody>\n",
       "</table>\n",
       "<p>1258 rows × 3 columns</p>\n",
       "</div>"
      ],
      "text/plain": [
       "            Adj Close  daily_rtn    st_rtn\n",
       "Date                                      \n",
       "2010-01-04  60.611969        NaN       NaN\n",
       "2010-01-05  60.789135   0.002923  1.002923\n",
       "2010-01-06  60.766037  -0.000380  1.002542\n",
       "2010-01-07  60.719822  -0.000761  1.001779\n",
       "2010-01-08  60.781410   0.001014  1.002796\n",
       "...               ...        ...       ...\n",
       "2014-12-24  73.073853   0.000366  1.205601\n",
       "2014-12-26  73.136253   0.000854  1.206631\n",
       "2014-12-29  73.260918   0.001705  1.208687\n",
       "2014-12-30  73.314362   0.000730  1.209569\n",
       "2014-12-31  73.367821   0.000729  1.210451\n",
       "\n",
       "[1258 rows x 3 columns]"
      ]
     },
     "execution_count": 122,
     "metadata": {},
     "output_type": "execute_result"
    }
   ],
   "source": [
    "buyandhold.bnh(df, 'Adj Close', '20100101', '20150101')"
   ]
  },
  {
   "cell_type": "code",
   "execution_count": null,
   "metadata": {},
   "outputs": [],
   "source": []
  }
 ],
 "metadata": {
  "kernelspec": {
   "display_name": "Python 3",
   "language": "python",
   "name": "python3"
  },
  "language_info": {
   "codemirror_mode": {
    "name": "ipython",
    "version": 3
   },
   "file_extension": ".py",
   "mimetype": "text/x-python",
   "name": "python",
   "nbconvert_exporter": "python",
   "pygments_lexer": "ipython3",
   "version": "3.11.1"
  },
  "orig_nbformat": 4
 },
 "nbformat": 4,
 "nbformat_minor": 2
}
