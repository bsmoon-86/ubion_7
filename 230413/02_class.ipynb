{
 "cells": [
  {
   "attachments": {},
   "cell_type": "markdown",
   "metadata": {},
   "source": [
    "# Class 생성\n",
    "1. class 이름은 User\n",
    "2. 생성자 함수(\\__init__)에서 유저의 이름, 휴대폰 번호, 생년월일 매개변수를 이용하여 self변수 만들어서 저장\n",
    "3. info() 함수를 생성하여 유저의 정보를 출력하는 함수 생성"
   ]
  },
  {
   "cell_type": "code",
   "execution_count": null,
   "metadata": {},
   "outputs": [],
   "source": [
    "# class 선언\n",
    "class User:\n",
    "    # 생성자 함수 생성 : self를 제외한 매개변수는 3개\n",
    "    def __init__(self, _name, _phone, _birth):\n",
    "        self.name = _name\n",
    "        self.phone = _phone\n",
    "        self.birth = _birth\n",
    "    \n",
    "    def info(self):\n",
    "        return (self.name, self.phone, self.birth)"
   ]
  },
  {
   "cell_type": "code",
   "execution_count": null,
   "metadata": {},
   "outputs": [],
   "source": [
    "# test\n",
    "# 클래스 생성\n",
    "test = User('test', '01012345678', '900101')"
   ]
  },
  {
   "cell_type": "code",
   "execution_count": null,
   "metadata": {},
   "outputs": [],
   "source": [
    "test.name"
   ]
  },
  {
   "cell_type": "code",
   "execution_count": null,
   "metadata": {},
   "outputs": [],
   "source": [
    "test.phone"
   ]
  },
  {
   "cell_type": "code",
   "execution_count": null,
   "metadata": {},
   "outputs": [],
   "source": [
    "test.birth"
   ]
  },
  {
   "cell_type": "code",
   "execution_count": 6,
   "metadata": {},
   "outputs": [
    {
     "data": {
      "text/plain": [
       "('test', '01012345678', '900101')"
      ]
     },
     "execution_count": 6,
     "metadata": {},
     "output_type": "execute_result"
    }
   ],
   "source": [
    "test.info()"
   ]
  },
  {
   "attachments": {},
   "cell_type": "markdown",
   "metadata": {},
   "source": [
    "# 지갑 클래스 선언\n",
    "1. 클래스의 이름은 Wallet\n",
    "2. 생성자 함수에는 소유자의 이름, 지갑의 브랜드, 지갑의 가치, 잔액\n",
    "3. 잔액은 기본값은 0\n",
    "4. work() 함수를 생성 : 매개변수에 일의 종류, 일의 종류가 'TM'이면 지갑의 잔액은 500증가, alba이면 지갑의 잔액을 300 증가, serving이면 잔액을 400 증가\n",
    "5. wallet_info() 함수를 생성 : 지갑의 정보(소유자의 이름, 지갑의 브랜드, 지갑의 가치, 잔액)를 출력 "
   ]
  },
  {
   "cell_type": "code",
   "execution_count": 67,
   "metadata": {},
   "outputs": [],
   "source": [
    "class Wallet(User):\n",
    "\n",
    "    # 클래스 변수 생성\n",
    "    work_type = {\n",
    "        'TM' : 500, \n",
    "        'alba' : 300, \n",
    "        'serving' : 400\n",
    "    }\n",
    "\n",
    "    item_type = {\n",
    "        'cash' : 200, \n",
    "        'food' : 300, \n",
    "        'clothes' : 500\n",
    "    }\n",
    "\n",
    "    # 생성자 함수 \n",
    "    def __init__(self, _name, _phone, _birth, _brand, _value, _balance = 0):\n",
    "        # 부모 클래스의 __init__함수 실행\n",
    "        super().__init__(_name, _phone, _birth)\n",
    "        self.brand = _brand\n",
    "        self.value = _value\n",
    "        self.balance = _balance\n",
    "\n",
    "    # work() 함수를 생성\n",
    "    def work(self, _type):\n",
    "        # 일의 조건에 따라 잔액이 다르게 변동\n",
    "        # if _type == 'TM':\n",
    "        #     # self.balance = self.balance + 500\n",
    "        #     self.balance += 500\n",
    "        # elif _type == 'alba':\n",
    "        #     self.balance += 300\n",
    "        # elif _type == 'serving':\n",
    "        #     self.balance += 400\n",
    "        # else : \n",
    "        #     return \"일의 타입이 맞지 않습니다. \"\n",
    "        # return f\"{_type}의 일을 완료하였습니다. 현재의 잔액은 {self.balance}입니다\"\n",
    "        if _type in self.work_type.keys():\n",
    "            self.balance += self.work_type[_type]\n",
    "        else:\n",
    "            return \"일의 타입이 맞지 않습니다.\"\n",
    "        return f\"{_type}의 일을 완료하였습니다. 현재의 잔액은 {self.balance}입니다\"\n",
    "\n",
    "    # 구매하는 함수 생성\n",
    "    def buy(self, _item):\n",
    "        # if _item == 'cash':\n",
    "        #     self.cost = 200\n",
    "        # elif _item == 'food':\n",
    "        #     self.cost = 300\n",
    "        # elif _item == 'clothes':\n",
    "        #     self.cost = 500\n",
    "        # else :\n",
    "        #     return \"item의 타입이 맞지 않습니다.\"\n",
    "\n",
    "        if _item in self.item_type.keys():\n",
    "            if self.balance >= self.item_type[_item]:\n",
    "                self.balance -= self.item_type[_item]\n",
    "            else:\n",
    "                return \"지갑의 잔액이 부족합니다.\"\n",
    "        else:\n",
    "            return 'item의 타입이 맞지 않습니다.'\n",
    "\n",
    "        return f\"{_item}을(를) 구매하였습니다. 현재의 잔액은 {self.balance}입니다.\"\n",
    "\n",
    "    # 일과 구매의 목록을 추가하는 함수 생성\n",
    "    def add_type(self, _choose, _key, _value):\n",
    "        # _choose : 일이냐 아니면 구매\n",
    "        # _key : dict의 키 값\n",
    "        # _value : dict의 value 값\n",
    "        if _choose == \"work\":\n",
    "            if _key not in self.work_type.keys():\n",
    "                self.work_type[_key] = _value\n",
    "            else:\n",
    "                return \"일 목록이 존재합니다.\"\n",
    "        elif _choose == 'buy':\n",
    "            if _key not in self.item_type.keys():\n",
    "                self.item_type[_key] = _value\n",
    "            else:\n",
    "                return \"구매 목록이 존재합니다. \"\n",
    "        else:\n",
    "            return \"choose의 값이 잘못 되었습니다.\"\n",
    "        \n",
    "        return f\"{_choose}의 목록이 추가되었습니다.\"\n",
    "    # 지갑의 정보를 출력하는 함수 생성\n",
    "    def info(self):\n",
    "        return (self.brand, self.value, self.balance)\n"
   ]
  },
  {
   "cell_type": "code",
   "execution_count": 68,
   "metadata": {},
   "outputs": [],
   "source": [
    "test = Wallet(\"test\",\"01012345678\",\"900101\", \"gucci\", \"5000\")"
   ]
  },
  {
   "cell_type": "code",
   "execution_count": 69,
   "metadata": {},
   "outputs": [
    {
     "data": {
      "text/plain": [
       "('gucci', '5000', 0)"
      ]
     },
     "execution_count": 69,
     "metadata": {},
     "output_type": "execute_result"
    }
   ],
   "source": [
    "test.info()"
   ]
  },
  {
   "cell_type": "code",
   "execution_count": 70,
   "metadata": {},
   "outputs": [],
   "source": [
    "test2 = User('test2', '01011112222', '000101')"
   ]
  },
  {
   "cell_type": "code",
   "execution_count": 71,
   "metadata": {},
   "outputs": [
    {
     "data": {
      "text/plain": [
       "('test2', '01011112222', '000101')"
      ]
     },
     "execution_count": 71,
     "metadata": {},
     "output_type": "execute_result"
    }
   ],
   "source": [
    "test2.info()"
   ]
  },
  {
   "cell_type": "code",
   "execution_count": 66,
   "metadata": {},
   "outputs": [
    {
     "data": {
      "text/plain": [
       "'TM의 일을 완료하였습니다. 현재의 잔액은 500입니다'"
      ]
     },
     "execution_count": 66,
     "metadata": {},
     "output_type": "execute_result"
    }
   ],
   "source": [
    "test.work('TM')"
   ]
  },
  {
   "cell_type": "code",
   "execution_count": 51,
   "metadata": {},
   "outputs": [
    {
     "data": {
      "text/plain": [
       "'alba의 일을 완료하였습니다. 현재의 잔액은 800입니다'"
      ]
     },
     "execution_count": 51,
     "metadata": {},
     "output_type": "execute_result"
    }
   ],
   "source": [
    "test.work(\"alba\")"
   ]
  },
  {
   "cell_type": "code",
   "execution_count": 54,
   "metadata": {},
   "outputs": [
    {
     "data": {
      "text/plain": [
       "'teach의 일을 완료하였습니다. 현재의 잔액은 1000입니다'"
      ]
     },
     "execution_count": 54,
     "metadata": {},
     "output_type": "execute_result"
    }
   ],
   "source": [
    "test.work('teach')"
   ]
  },
  {
   "cell_type": "code",
   "execution_count": 53,
   "metadata": {},
   "outputs": [
    {
     "data": {
      "text/plain": [
       "'work의 목록이 추가되었습니다.'"
      ]
     },
     "execution_count": 53,
     "metadata": {},
     "output_type": "execute_result"
    }
   ],
   "source": [
    "test.add_type('work', 'teach', 200)"
   ]
  },
  {
   "cell_type": "code",
   "execution_count": 55,
   "metadata": {},
   "outputs": [
    {
     "data": {
      "text/plain": [
       "'cash을(를) 구매하였습니다. 현재의 잔액은 800입니다.'"
      ]
     },
     "execution_count": 55,
     "metadata": {},
     "output_type": "execute_result"
    }
   ],
   "source": [
    "test.buy('cash')"
   ]
  },
  {
   "cell_type": "code",
   "execution_count": 56,
   "metadata": {},
   "outputs": [
    {
     "data": {
      "text/plain": [
       "'food을(를) 구매하였습니다. 현재의 잔액은 500입니다.'"
      ]
     },
     "execution_count": 56,
     "metadata": {},
     "output_type": "execute_result"
    }
   ],
   "source": [
    "test.buy('food')"
   ]
  },
  {
   "cell_type": "code",
   "execution_count": 57,
   "metadata": {},
   "outputs": [
    {
     "data": {
      "text/plain": [
       "'clothes을(를) 구매하였습니다. 현재의 잔액은 0입니다.'"
      ]
     },
     "execution_count": 57,
     "metadata": {},
     "output_type": "execute_result"
    }
   ],
   "source": [
    "test.buy('clothes')"
   ]
  },
  {
   "cell_type": "code",
   "execution_count": 58,
   "metadata": {},
   "outputs": [
    {
     "data": {
      "text/plain": [
       "'buy의 목록이 추가되었습니다.'"
      ]
     },
     "execution_count": 58,
     "metadata": {},
     "output_type": "execute_result"
    }
   ],
   "source": [
    "test.add_type('buy', 'coffee', 100)"
   ]
  },
  {
   "cell_type": "code",
   "execution_count": 59,
   "metadata": {},
   "outputs": [
    {
     "data": {
      "text/plain": [
       "'지갑의 잔액이 부족합니다.'"
      ]
     },
     "execution_count": 59,
     "metadata": {},
     "output_type": "execute_result"
    }
   ],
   "source": [
    "test.buy('coffee')"
   ]
  },
  {
   "cell_type": "code",
   "execution_count": 12,
   "metadata": {},
   "outputs": [
    {
     "data": {
      "text/plain": [
       "('test', 'gucci', '5000', 800)"
      ]
     },
     "execution_count": 12,
     "metadata": {},
     "output_type": "execute_result"
    }
   ],
   "source": [
    "test.wallet_info()"
   ]
  },
  {
   "cell_type": "code",
   "execution_count": 60,
   "metadata": {},
   "outputs": [],
   "source": [
    "test2 = Wallet(\"test2\", \"chanel\", '100000')"
   ]
  },
  {
   "cell_type": "code",
   "execution_count": 61,
   "metadata": {},
   "outputs": [
    {
     "data": {
      "text/plain": [
       "'alba의 일을 완료하였습니다. 현재의 잔액은 300입니다'"
      ]
     },
     "execution_count": 61,
     "metadata": {},
     "output_type": "execute_result"
    }
   ],
   "source": [
    "test2.work('alba')"
   ]
  },
  {
   "cell_type": "code",
   "execution_count": 62,
   "metadata": {},
   "outputs": [
    {
     "data": {
      "text/plain": [
       "'teach의 일을 완료하였습니다. 현재의 잔액은 500입니다'"
      ]
     },
     "execution_count": 62,
     "metadata": {},
     "output_type": "execute_result"
    }
   ],
   "source": [
    "test2.work('teach')"
   ]
  },
  {
   "cell_type": "code",
   "execution_count": 15,
   "metadata": {},
   "outputs": [
    {
     "data": {
      "text/plain": [
       "('test', 'gucci', '5000', 800)"
      ]
     },
     "execution_count": 15,
     "metadata": {},
     "output_type": "execute_result"
    }
   ],
   "source": [
    "test.wallet_info()"
   ]
  },
  {
   "cell_type": "code",
   "execution_count": 16,
   "metadata": {},
   "outputs": [
    {
     "data": {
      "text/plain": [
       "('test2', 'chanel', '100000', 300)"
      ]
     },
     "execution_count": 16,
     "metadata": {},
     "output_type": "execute_result"
    }
   ],
   "source": [
    "test2.wallet_info()"
   ]
  },
  {
   "cell_type": "code",
   "execution_count": null,
   "metadata": {},
   "outputs": [],
   "source": []
  }
 ],
 "metadata": {
  "kernelspec": {
   "display_name": "Python 3",
   "language": "python",
   "name": "python3"
  },
  "language_info": {
   "codemirror_mode": {
    "name": "ipython",
    "version": 3
   },
   "file_extension": ".py",
   "mimetype": "text/x-python",
   "name": "python",
   "nbconvert_exporter": "python",
   "pygments_lexer": "ipython3",
   "version": "3.11.1"
  },
  "orig_nbformat": 4
 },
 "nbformat": 4,
 "nbformat_minor": 2
}
