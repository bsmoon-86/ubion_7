{
 "cells": [
  {
   "attachments": {},
   "cell_type": "markdown",
   "metadata": {},
   "source": [
    "# 볼린저 밴드 함수화\n",
    "1. 첫 번째 함수를 생성(매개변수 데이터프레임 하나)\n",
    "    1. 결측치와 이상치를 제거한다. \n",
    "    2. 컬럼을 종가만 두고 모두 삭제\n",
    "    3. 이동 평균선, 상단 밴드, 하단 밴드 파생변수 생성\n",
    "2. 두 번째 함수를 생성(매개변수 데이터프레임 하나)\n",
    "    1. 거래 내역이라는 파생 변수 생성 값은 \"\"\n",
    "    2. 볼린저 밴드의 거래 내역을 추가\n",
    "    3. 거래 내역을 출력(print) \n",
    "3. 세 번째 함수를 생성(매개변수 데이터프레임 하나)\n",
    "    1. 수익율 파생변수 생성 값은 \"1\"\n",
    "    2. 판매를 한 날의 수익율 변경\n",
    "    3. 누적 수익율을 계산하여 새로운 파생변수를 생성\n",
    "    4. 최종 누적 수익율을 출력(print)"
   ]
  },
  {
   "cell_type": "code",
   "execution_count": null,
   "metadata": {},
   "outputs": [],
   "source": [
    "import pandas as pd\n",
    "import numpy as np\n",
    "from datetime import datetime"
   ]
  },
  {
   "cell_type": "code",
   "execution_count": null,
   "metadata": {},
   "outputs": [],
   "source": [
    "# 1번 함수 생성\n",
    "# 매개 변수 추가 \n",
    "def create_band(df, col, start, end):\n",
    "    # 인덱스를 시계열로 변경\n",
    "    df.index = pd.to_datetime(df.index)\n",
    "    # start, end를 시계열로 변경\n",
    "    start = datetime.strptime(start, '%Y%m%d').isoformat()\n",
    "    end = datetime.strptime(end, '%Y%m%d').isoformat()\n",
    "    # 데이터를 시작시간부터 종료 시간까지 필터\n",
    "    df = df.loc[start:end]\n",
    "    # 결측치와 이상치를 제거 \n",
    "    df = df.loc[~df.isin([np.nan, np.inf, -np.inf]).any(axis='columns'), [col]]\n",
    "    # 수정 종가 컬럼을 제외한 데이터프레임 생성\n",
    "    # df = df[[col]]\n",
    "    # 이동 평균선 생성\n",
    "    df['center'] = df.rolling(20).mean()\n",
    "    # 상단 밴드 생성\n",
    "    df['ub'] = df['center'] + ( 2 * df[col].rolling(20).std() )\n",
    "    # 하단 밴드 생성\n",
    "    df['lb'] = df['center'] - ( 2 * df[col].rolling(20).std() )\n",
    "    # 결과를 리턴\n",
    "    return df"
   ]
  },
  {
   "cell_type": "code",
   "execution_count": null,
   "metadata": {},
   "outputs": [],
   "source": [
    "load_data = pd.read_csv(\"../csv/GM.csv\", index_col='Date')"
   ]
  },
  {
   "cell_type": "code",
   "execution_count": null,
   "metadata": {},
   "outputs": [],
   "source": [
    "data = create_band(load_data, 'Close', '20110101', '20150101')"
   ]
  },
  {
   "cell_type": "code",
   "execution_count": null,
   "metadata": {},
   "outputs": [],
   "source": [
    "data2 = create_band(load_data, 'Adj Close')"
   ]
  },
  {
   "cell_type": "code",
   "execution_count": null,
   "metadata": {},
   "outputs": [],
   "source": [
    "data.head(1)"
   ]
  },
  {
   "cell_type": "code",
   "execution_count": null,
   "metadata": {},
   "outputs": [],
   "source": [
    "data2.head(1)"
   ]
  },
  {
   "cell_type": "code",
   "execution_count": null,
   "metadata": {},
   "outputs": [],
   "source": [
    "# 2번째 함수\n",
    "def add_trade(df):\n",
    "    # 기준이되는 컬럼이 무엇인가?\n",
    "    # 기준이 되는 컬럼은 컬럼 중에 첫번째 이기 때문에 df.columns[0]\n",
    "    col = df.columns[0]\n",
    "    # trade 파생변수 생성\n",
    "    df['trade'] = \"\"\n",
    "    for i in df.index:\n",
    "        # 상단 밴드보다 종가가 높은 경우\n",
    "        if df.loc[i, col] > df.loc[i, 'ub']:\n",
    "            # 현재 구매 상태이면\n",
    "            if df.shift(1).loc[i, 'trade'] == 'buy':\n",
    "                # 매도\n",
    "                df.loc[i, 'trade'] = ''\n",
    "            else:\n",
    "                df.loc[i, 'trade'] = ''\n",
    "        # 하단 밴드보다 종가가 낮은 경우\n",
    "        elif df.loc[i, col] < df.loc[i, 'lb']:\n",
    "            # 현재 구매 상태이면\n",
    "            if df.shift(1).loc[i, 'trade'] == 'buy':\n",
    "                # 구매 상태를 유지\n",
    "                df.loc[i, 'trade'] = 'buy'\n",
    "            else:\n",
    "                # 매수\n",
    "                df.loc[i, 'trade'] = 'buy' \n",
    "        else:\n",
    "            # 현재 구매 상태이면\n",
    "            if df.shift(1).loc[i, 'trade'] == 'buy':\n",
    "                # 구매 상태를 유지\n",
    "                df.loc[i, 'trade'] = 'buy'\n",
    "            else:\n",
    "                df.loc[i, 'trade'] = ''\n",
    "    return df"
   ]
  },
  {
   "cell_type": "code",
   "execution_count": null,
   "metadata": {},
   "outputs": [],
   "source": [
    "add_trade(data)['trade'].value_counts()"
   ]
  },
  {
   "cell_type": "code",
   "execution_count": null,
   "metadata": {},
   "outputs": [],
   "source": [
    "add_trade(data2)['trade'].value_counts()"
   ]
  },
  {
   "cell_type": "code",
   "execution_count": null,
   "metadata": {},
   "outputs": [],
   "source": [
    "data = add_trade(data)"
   ]
  },
  {
   "cell_type": "code",
   "execution_count": null,
   "metadata": {},
   "outputs": [],
   "source": [
    "# 3번째 함수 생성\n",
    "def add_rtn(df):\n",
    "    col = df.columns[0]\n",
    "    # 수익율 파생변수 생성\n",
    "    df['return'] = 1\n",
    "    # 판매한 날의 수익율 대입\n",
    "    rtn = 1.0\n",
    "    buy = 0.0\n",
    "    sell = 0.0\n",
    "\n",
    "    for i in df.index:\n",
    "        # 구매가를 출력\n",
    "        if (df.shift(1).loc[i, 'trade'] == '') and \\\n",
    "            (df.loc[i, 'trade'] == 'buy'):\n",
    "            buy = df.loc[i, col]\n",
    "            print('진입일 :', i, '구매 가격 :', buy)\n",
    "        # 판매가를 출력\n",
    "        elif (df.shift(1).loc[i, 'trade'] == 'buy') and \\\n",
    "            (df.loc[i, 'trade'] == ''):\n",
    "            sell = df.loc[i, col]\n",
    "            rtn = (sell - buy) / buy + 1\n",
    "            df.loc[i, 'return'] = rtn\n",
    "            print('판매일 :', i, '판매 가격 :', sell, '수익율 :', rtn)\n",
    "\n",
    "        # 구매가, 판매가를 초기화\n",
    "        if df.loc[i, 'trade'] == '':\n",
    "            buy = 0.0\n",
    "            sell = 0.0\n",
    "    \n",
    "    # 누적 수익율 계산하여 파생변수에 대입\n",
    "    acc_rtn = 1.0\n",
    "\n",
    "    for i in df.index:\n",
    "        rtn = df.loc[i, 'return']\n",
    "        acc_rtn *= rtn\n",
    "        df.loc[i, 'acc_rtn'] = acc_rtn\n",
    "\n",
    "    print('누적 수익율 :', acc_rtn)\n",
    "\n",
    "    return df\n"
   ]
  },
  {
   "cell_type": "code",
   "execution_count": null,
   "metadata": {},
   "outputs": [],
   "source": [
    "add_rtn(data)"
   ]
  },
  {
   "cell_type": "code",
   "execution_count": null,
   "metadata": {},
   "outputs": [],
   "source": [
    "import bollinger as bg\n",
    "import imp\n",
    "imp.reload(bg)"
   ]
  },
  {
   "cell_type": "code",
   "execution_count": null,
   "metadata": {},
   "outputs": [],
   "source": [
    "df = pd.read_csv(\"../csv/MSFT.csv\", index_col='Date')"
   ]
  },
  {
   "cell_type": "code",
   "execution_count": null,
   "metadata": {},
   "outputs": [],
   "source": [
    "# 1번 함수를 실행\n",
    "data = bg.create_band(df, 'Adj Close', '20100101', '20190101')"
   ]
  },
  {
   "cell_type": "code",
   "execution_count": null,
   "metadata": {},
   "outputs": [],
   "source": [
    "# 2번 함수 실행\n",
    "data2 = bg.add_trade(data)"
   ]
  },
  {
   "cell_type": "code",
   "execution_count": null,
   "metadata": {},
   "outputs": [],
   "source": [
    "# 3번 함수를 실행\n",
    "bg.add_rtn(data2)"
   ]
  },
  {
   "cell_type": "code",
   "execution_count": null,
   "metadata": {},
   "outputs": [],
   "source": [
    "\n",
    "data = pd.read_csv(\"../csv/AAPL.csv\", index_col='Date')"
   ]
  },
  {
   "cell_type": "code",
   "execution_count": null,
   "metadata": {},
   "outputs": [],
   "source": [
    "data.head(5)"
   ]
  },
  {
   "cell_type": "code",
   "execution_count": null,
   "metadata": {},
   "outputs": [],
   "source": [
    "# 클래스 생성\n",
    "class_a = bg.Invest(data, 'Adj Close')"
   ]
  },
  {
   "cell_type": "code",
   "execution_count": null,
   "metadata": {},
   "outputs": [],
   "source": [
    "class_a.col"
   ]
  },
  {
   "cell_type": "code",
   "execution_count": null,
   "metadata": {},
   "outputs": [],
   "source": [
    "class_a.create_band('20100101', '20150101')"
   ]
  },
  {
   "cell_type": "code",
   "execution_count": null,
   "metadata": {},
   "outputs": [],
   "source": [
    "class_a.df"
   ]
  },
  {
   "cell_type": "code",
   "execution_count": null,
   "metadata": {},
   "outputs": [],
   "source": [
    "class_a.add_trade()"
   ]
  },
  {
   "cell_type": "code",
   "execution_count": null,
   "metadata": {},
   "outputs": [],
   "source": [
    "class_a.df"
   ]
  },
  {
   "cell_type": "code",
   "execution_count": null,
   "metadata": {},
   "outputs": [],
   "source": [
    "class_a.add_rtn()"
   ]
  },
  {
   "cell_type": "code",
   "execution_count": null,
   "metadata": {},
   "outputs": [],
   "source": [
    "class_a.df"
   ]
  },
  {
   "cell_type": "code",
   "execution_count": null,
   "metadata": {},
   "outputs": [],
   "source": []
  }
 ],
 "metadata": {
  "kernelspec": {
   "display_name": "Python 3",
   "language": "python",
   "name": "python3"
  },
  "language_info": {
   "codemirror_mode": {
    "name": "ipython",
    "version": 3
   },
   "file_extension": ".py",
   "mimetype": "text/x-python",
   "name": "python",
   "nbconvert_exporter": "python",
   "pygments_lexer": "ipython3",
   "version": "3.11.1"
  },
  "orig_nbformat": 4
 },
 "nbformat": 4,
 "nbformat_minor": 2
}
