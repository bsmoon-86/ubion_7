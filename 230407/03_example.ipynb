{
 "cells": [
  {
   "attachments": {},
   "cell_type": "markdown",
   "metadata": {},
   "source": [
    "## 예제\n",
    "1. test_csv폴더에 있는 '유통+업종(백화점,+할인점,+슈퍼마켓,+편의점)+카드소비트렌드+데이터_1901_2109'파일을 로드 \n",
    "2. 각 컬럼의 이름을 ['기준연월', '업종', '성별', '연령대', '총이용건수', '총이용금액']\n",
    "3. 기준년월을 시계열데이터로 변경\n",
    "4. 성별 컬럼의 데이터를 1은 남자, 2는 여자로 변경, 9는 무관\n",
    "5. 남, 녀 성별을 기준으로 연도별 건당 이용금액의 평균이 몇인지 출력"
   ]
  },
  {
   "cell_type": "code",
   "execution_count": null,
   "metadata": {},
   "outputs": [],
   "source": [
    "import pandas as pd"
   ]
  },
  {
   "cell_type": "code",
   "execution_count": null,
   "metadata": {},
   "outputs": [],
   "source": [
    "df = pd.read_csv(\"../test_csv/유통+업종(백화점,+할인점,+슈퍼마켓,+편의점)+카드소비트렌드+데이터_1901_2109.csv\", encoding='euc-kr')"
   ]
  },
  {
   "cell_type": "code",
   "execution_count": null,
   "metadata": {},
   "outputs": [],
   "source": [
    "df.head()"
   ]
  },
  {
   "cell_type": "code",
   "execution_count": null,
   "metadata": {},
   "outputs": [],
   "source": [
    "df.columns = ['기준년월', '업종', '성별', '연령대', '총이용건수', '총이용금액']"
   ]
  },
  {
   "cell_type": "code",
   "execution_count": null,
   "metadata": {},
   "outputs": [],
   "source": [
    "df.head()"
   ]
  },
  {
   "cell_type": "code",
   "execution_count": null,
   "metadata": {},
   "outputs": [],
   "source": [
    "# 판다스에서 지수표현 없애기 \n",
    "pd.options.display.float_format = '{:2f}'.format"
   ]
  },
  {
   "cell_type": "code",
   "execution_count": null,
   "metadata": {},
   "outputs": [],
   "source": [
    "# 기준년월 데이터를 시계열 변경\n",
    "df['기준년월'] = pd.to_datetime(df['기준년월'], format='%Y%m')"
   ]
  },
  {
   "cell_type": "code",
   "execution_count": null,
   "metadata": {},
   "outputs": [],
   "source": [
    "# 인덱스를 기준년월로 설정\n",
    "df.set_index('기준년월', inplace=True)"
   ]
  },
  {
   "cell_type": "code",
   "execution_count": null,
   "metadata": {},
   "outputs": [],
   "source": [
    "# 괴상한 데이터 \n",
    "df['연령대'].value_counts()"
   ]
  },
  {
   "cell_type": "code",
   "execution_count": null,
   "metadata": {},
   "outputs": [],
   "source": [
    "# 성별 컬럼에서 1은 남자 2는 여자 9는 무관\n",
    "\n",
    "# case1\n",
    "def change(x):\n",
    "    if x == 1:\n",
    "        result = '남자'\n",
    "    elif x == 2:\n",
    "        result = '여자'\n",
    "    elif x == 9:\n",
    "        result = '무관'\n",
    "    else:\n",
    "        result = \"-\"\n",
    "    return result\n",
    "\n",
    "df['성별'].apply(change).value_counts()"
   ]
  },
  {
   "cell_type": "code",
   "execution_count": null,
   "metadata": {},
   "outputs": [],
   "source": [
    "df['성별'].apply(lambda x : \"남자\" if (x == 1) else (\"여자\" if (x ==2) else \"무관\"))"
   ]
  },
  {
   "cell_type": "code",
   "execution_count": null,
   "metadata": {},
   "outputs": [],
   "source": [
    "df['성별'] = df['성별'].replace(\n",
    "    {\n",
    "        1 : '남자', \n",
    "        2 : '여자', \n",
    "        9 : \"무관\"\n",
    "    }\n",
    ")"
   ]
  },
  {
   "cell_type": "code",
   "execution_count": null,
   "metadata": {},
   "outputs": [],
   "source": [
    "df['성별'].value_counts()"
   ]
  },
  {
   "cell_type": "code",
   "execution_count": null,
   "metadata": {},
   "outputs": [],
   "source": [
    "# 연도 파생변수 생성\n",
    "df['연도'] = df.index.strftime('%Y')"
   ]
  },
  {
   "cell_type": "code",
   "execution_count": null,
   "metadata": {},
   "outputs": [],
   "source": [
    "df.head()"
   ]
  },
  {
   "cell_type": "code",
   "execution_count": null,
   "metadata": {},
   "outputs": [],
   "source": [
    "# 건당 이용금액 파생변수 생성\n",
    "# 총이용금액 / 총이용건수\n",
    "df['건당이용금액'] = df['총이용금액'] / df['총이용건수']"
   ]
  },
  {
   "cell_type": "code",
   "execution_count": null,
   "metadata": {},
   "outputs": [],
   "source": [
    "df.head()"
   ]
  },
  {
   "cell_type": "code",
   "execution_count": null,
   "metadata": {},
   "outputs": [],
   "source": [
    "import platform"
   ]
  },
  {
   "cell_type": "code",
   "execution_count": null,
   "metadata": {},
   "outputs": [],
   "source": [
    "import matplotlib.pyplot as plt"
   ]
  },
  {
   "cell_type": "code",
   "execution_count": null,
   "metadata": {},
   "outputs": [],
   "source": [
    "# 그래프에서 한글 깨짐 방지 \n",
    "if platform.system() == \"Darwin\":    # MAC 인 경우\n",
    "    plt.rc('font', family = 'AppleGothic')\n",
    "else:\n",
    "    plt.rc('font', family = 'Malgun Gothic')"
   ]
  },
  {
   "cell_type": "code",
   "execution_count": null,
   "metadata": {},
   "outputs": [],
   "source": [
    "(df[['연도', \"성별\" ,'건당이용금액']].groupby(['연도', '성별']).mean()).plot.bar()"
   ]
  },
  {
   "cell_type": "code",
   "execution_count": null,
   "metadata": {},
   "outputs": [],
   "source": [
    "pivot = pd.pivot_table(\n",
    "    df, \n",
    "    index= '연도', \n",
    "    columns = '성별', \n",
    "    aggfunc = \"mean\", \n",
    "    values = '건당이용금액'\n",
    ")"
   ]
  },
  {
   "cell_type": "code",
   "execution_count": null,
   "metadata": {},
   "outputs": [],
   "source": [
    "pivot.plot.bar()"
   ]
  },
  {
   "attachments": {},
   "cell_type": "markdown",
   "metadata": {},
   "source": [
    "### 온라인 카드 매출과 오프라인 카드 매출을 월별로 비교\n",
    "1. 오프라인 데이터 df를 월별로 그룹화 총이용금액의 합계\n",
    "    - 인덱스는 기준년월을 시계열로 변경한 데이터로 설정\n",
    "2. 온라인 데이터 df_online도 월별로 그룹화 총이용금액의 합계\n",
    "    - 인덱스는 기준년월을 시계열로 변경한 데이터로 설정"
   ]
  },
  {
   "cell_type": "code",
   "execution_count": null,
   "metadata": {},
   "outputs": [],
   "source": [
    "df.head()"
   ]
  },
  {
   "cell_type": "code",
   "execution_count": null,
   "metadata": {},
   "outputs": [],
   "source": [
    "group_data = df.groupby(df.index).sum()['총이용금액']"
   ]
  },
  {
   "cell_type": "code",
   "execution_count": null,
   "metadata": {},
   "outputs": [],
   "source": [
    "df_online = pd.read_csv(\"../test_csv/온라인+카드소비트렌드+데이터_1901_2109.csv\")"
   ]
  },
  {
   "cell_type": "code",
   "execution_count": null,
   "metadata": {},
   "outputs": [],
   "source": [
    "df_online.head()"
   ]
  },
  {
   "cell_type": "code",
   "execution_count": null,
   "metadata": {},
   "outputs": [],
   "source": [
    "# 컬럼의 이름을 변경\n",
    "df_online.columns = ['기준년월', '성별', '연령대', '총이용건수', '총이용금액']"
   ]
  },
  {
   "cell_type": "code",
   "execution_count": null,
   "metadata": {},
   "outputs": [],
   "source": [
    "# 기준년월을 시계열로 변경하고 인덱스로 설정\n",
    "df_online['기준년월'] = pd.to_datetime(df_online['기준년월'], format='%Y%m')"
   ]
  },
  {
   "cell_type": "code",
   "execution_count": null,
   "metadata": {},
   "outputs": [],
   "source": [
    "df_online.set_index('기준년월', inplace=True)"
   ]
  },
  {
   "cell_type": "code",
   "execution_count": null,
   "metadata": {},
   "outputs": [],
   "source": [
    "# 그룹화\n",
    "group_data2 = df_online.groupby('기준년월').sum()['총이용금액']"
   ]
  },
  {
   "cell_type": "code",
   "execution_count": null,
   "metadata": {},
   "outputs": [],
   "source": [
    "# 그래프로 시각화\n",
    "\n",
    "# 그래프의 사이즈 변경\n",
    "plt.figure(figsize = (14, 6))\n",
    "\n",
    "# grid 추가\n",
    "plt.grid(True, axis = 'y')\n",
    "\n",
    "# 지수표현 제거 \n",
    "plt.ticklabel_format(axis = 'y', style='plain')\n",
    "\n",
    "plt.plot(group_data, label='오프라인')\n",
    "plt.plot(group_data2, label = '온라인')\n",
    "plt.title('온라인/오프라인 카드매출 비교')\n",
    "plt.legend()\n",
    "plt.show()"
   ]
  },
  {
   "cell_type": "code",
   "execution_count": null,
   "metadata": {},
   "outputs": [],
   "source": [
    "df"
   ]
  },
  {
   "cell_type": "code",
   "execution_count": null,
   "metadata": {},
   "outputs": [],
   "source": [
    "df_online['업종'] = \"온라인\""
   ]
  },
  {
   "cell_type": "code",
   "execution_count": null,
   "metadata": {},
   "outputs": [],
   "source": [
    "df_online.head()"
   ]
  },
  {
   "cell_type": "code",
   "execution_count": null,
   "metadata": {},
   "outputs": [],
   "source": [
    "total_df = pd.concat([df, df_online], axis='rows')"
   ]
  },
  {
   "cell_type": "code",
   "execution_count": 85,
   "metadata": {},
   "outputs": [
    {
     "data": {
      "text/plain": [
       "편의점     667\n",
       "백화점     664\n",
       "슈퍼마켓    663\n",
       "할인점     654\n",
       "온라인     651\n",
       "Name: 업종, dtype: int64"
      ]
     },
     "execution_count": 85,
     "metadata": {},
     "output_type": "execute_result"
    }
   ],
   "source": [
    "total_df['업종'].value_counts()"
   ]
  },
  {
   "cell_type": "code",
   "execution_count": null,
   "metadata": {},
   "outputs": [],
   "source": []
  }
 ],
 "metadata": {
  "kernelspec": {
   "display_name": "Python 3",
   "language": "python",
   "name": "python3"
  },
  "language_info": {
   "codemirror_mode": {
    "name": "ipython",
    "version": 3
   },
   "file_extension": ".py",
   "mimetype": "text/x-python",
   "name": "python",
   "nbconvert_exporter": "python",
   "pygments_lexer": "ipython3",
   "version": "3.11.1"
  },
  "orig_nbformat": 4
 },
 "nbformat": 4,
 "nbformat_minor": 2
}
