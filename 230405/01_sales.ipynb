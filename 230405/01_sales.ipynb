{
 "cells": [
  {
   "cell_type": "code",
   "execution_count": null,
   "metadata": {},
   "outputs": [],
   "source": [
    "import pandas as pd"
   ]
  },
  {
   "attachments": {},
   "cell_type": "markdown",
   "metadata": {},
   "source": [
    "### 연습문제\n",
    "1. csv 폴더에 있는 Sales Records.csv 파일 로드 \n",
    "2. 'Order ID', 'Total Revenue', 'Total Cost', 'Total Profit', 'Sales Channel' 컬럼을 삭제\n",
    "3. 컬럼의 이름을 변경 -> ['권역', '국가', '상품종류', '우선순위', '주문일자', '발송일자', '판매단위', '단가', '원가']\n",
    "4. 권역과 국가를 기준으로 오름차순 정렬\n",
    "5. index를 초기화하고 기존의 인덱스는 삭제"
   ]
  },
  {
   "cell_type": "code",
   "execution_count": null,
   "metadata": {},
   "outputs": [],
   "source": [
    "# 파일 로드 \n",
    "# 상위 폴더로 이동 -> csv 폴더로 이동 -> 파일명\n",
    "sales = pd.read_csv(\"../csv/Sales Records.csv\")"
   ]
  },
  {
   "cell_type": "code",
   "execution_count": null,
   "metadata": {},
   "outputs": [],
   "source": [
    "# Order ID 컬럼을 삭제\n",
    "sales = sales.drop(\"Order ID\", axis=1)"
   ]
  },
  {
   "cell_type": "code",
   "execution_count": null,
   "metadata": {},
   "outputs": [],
   "source": [
    "# 남은 4개 컬럼 동시에 삭제\n",
    "sales.drop([\"Sales Channel\", \n",
    "            \"Total Revenue\", \n",
    "            \"Total Cost\", \n",
    "            \"Total Profit\"], axis=1, inplace=True)"
   ]
  },
  {
   "cell_type": "code",
   "execution_count": null,
   "metadata": {},
   "outputs": [],
   "source": [
    "# 컬럼의 이름을 변경\n",
    "sales.columns = ['권역', \n",
    "                '국가', \n",
    "                '상품종류', \n",
    "                '우선순위', \n",
    "                '주문일자', \n",
    "                '발송일자', \n",
    "                '판매단위', \n",
    "                '단가', \n",
    "                '원가']"
   ]
  },
  {
   "cell_type": "code",
   "execution_count": null,
   "metadata": {},
   "outputs": [],
   "source": [
    "sales.head(1)"
   ]
  },
  {
   "cell_type": "code",
   "execution_count": 14,
   "metadata": {},
   "outputs": [],
   "source": [
    "# 권역, 국가를 기준으로 오름차순 정렬\n",
    "sales.sort_values([\"권역\", \"국가\"], inplace=True)"
   ]
  },
  {
   "cell_type": "code",
   "execution_count": 17,
   "metadata": {},
   "outputs": [],
   "source": [
    "# 인덱스를 초기화하고 기존의 인덱스를 삭제\n",
    "sales.reset_index(drop=True, inplace=True)"
   ]
  },
  {
   "cell_type": "code",
   "execution_count": 18,
   "metadata": {},
   "outputs": [
    {
     "data": {
      "text/html": [
       "<div>\n",
       "<style scoped>\n",
       "    .dataframe tbody tr th:only-of-type {\n",
       "        vertical-align: middle;\n",
       "    }\n",
       "\n",
       "    .dataframe tbody tr th {\n",
       "        vertical-align: top;\n",
       "    }\n",
       "\n",
       "    .dataframe thead th {\n",
       "        text-align: right;\n",
       "    }\n",
       "</style>\n",
       "<table border=\"1\" class=\"dataframe\">\n",
       "  <thead>\n",
       "    <tr style=\"text-align: right;\">\n",
       "      <th></th>\n",
       "      <th>권역</th>\n",
       "      <th>국가</th>\n",
       "      <th>상품종류</th>\n",
       "      <th>우선순위</th>\n",
       "      <th>주문일자</th>\n",
       "      <th>발송일자</th>\n",
       "      <th>판매단위</th>\n",
       "      <th>단가</th>\n",
       "      <th>원가</th>\n",
       "    </tr>\n",
       "  </thead>\n",
       "  <tbody>\n",
       "    <tr>\n",
       "      <th>0</th>\n",
       "      <td>Asia</td>\n",
       "      <td>Bangladesh</td>\n",
       "      <td>Personal Care</td>\n",
       "      <td>L</td>\n",
       "      <td>12/11/2016</td>\n",
       "      <td>1/13/2017</td>\n",
       "      <td>9420</td>\n",
       "      <td>81.73</td>\n",
       "      <td>56.67</td>\n",
       "    </tr>\n",
       "    <tr>\n",
       "      <th>1</th>\n",
       "      <td>Asia</td>\n",
       "      <td>Bangladesh</td>\n",
       "      <td>Cosmetics</td>\n",
       "      <td>M</td>\n",
       "      <td>7/29/2010</td>\n",
       "      <td>9/11/2010</td>\n",
       "      <td>577</td>\n",
       "      <td>437.20</td>\n",
       "      <td>263.33</td>\n",
       "    </tr>\n",
       "    <tr>\n",
       "      <th>2</th>\n",
       "      <td>Asia</td>\n",
       "      <td>Bangladesh</td>\n",
       "      <td>Vegetables</td>\n",
       "      <td>C</td>\n",
       "      <td>4/28/2014</td>\n",
       "      <td>5/5/2014</td>\n",
       "      <td>34</td>\n",
       "      <td>154.06</td>\n",
       "      <td>90.93</td>\n",
       "    </tr>\n",
       "    <tr>\n",
       "      <th>3</th>\n",
       "      <td>Asia</td>\n",
       "      <td>Bangladesh</td>\n",
       "      <td>Cereal</td>\n",
       "      <td>L</td>\n",
       "      <td>6/22/2010</td>\n",
       "      <td>6/28/2010</td>\n",
       "      <td>9768</td>\n",
       "      <td>205.70</td>\n",
       "      <td>117.11</td>\n",
       "    </tr>\n",
       "    <tr>\n",
       "      <th>4</th>\n",
       "      <td>Asia</td>\n",
       "      <td>Bangladesh</td>\n",
       "      <td>Office Supplies</td>\n",
       "      <td>H</td>\n",
       "      <td>3/20/2013</td>\n",
       "      <td>4/11/2013</td>\n",
       "      <td>7731</td>\n",
       "      <td>651.21</td>\n",
       "      <td>524.96</td>\n",
       "    </tr>\n",
       "  </tbody>\n",
       "</table>\n",
       "</div>"
      ],
      "text/plain": [
       "     권역          국가             상품종류 우선순위        주문일자       발송일자  판매단위  \\\n",
       "0  Asia  Bangladesh    Personal Care    L  12/11/2016  1/13/2017  9420   \n",
       "1  Asia  Bangladesh        Cosmetics    M   7/29/2010  9/11/2010   577   \n",
       "2  Asia  Bangladesh       Vegetables    C   4/28/2014   5/5/2014    34   \n",
       "3  Asia  Bangladesh           Cereal    L   6/22/2010  6/28/2010  9768   \n",
       "4  Asia  Bangladesh  Office Supplies    H   3/20/2013  4/11/2013  7731   \n",
       "\n",
       "       단가      원가  \n",
       "0   81.73   56.67  \n",
       "1  437.20  263.33  \n",
       "2  154.06   90.93  \n",
       "3  205.70  117.11  \n",
       "4  651.21  524.96  "
      ]
     },
     "execution_count": 18,
     "metadata": {},
     "output_type": "execute_result"
    }
   ],
   "source": [
    "sales.head()"
   ]
  },
  {
   "attachments": {},
   "cell_type": "markdown",
   "metadata": {},
   "source": [
    "- 새로운 파생 변수 생성\n",
    "    1. 총단가 --> 판매단위 * 단가\n",
    "    2. 총원가 --> 판매단위 * 원가\n",
    "    3. 총이윤 --> 총단가 - 총원가"
   ]
  },
  {
   "cell_type": "code",
   "execution_count": 20,
   "metadata": {},
   "outputs": [],
   "source": [
    "sales['총단가'] = sales['판매단위'] * sales['단가']"
   ]
  },
  {
   "cell_type": "code",
   "execution_count": 21,
   "metadata": {},
   "outputs": [],
   "source": [
    "sales['총원가'] = sales['판매단위'] * sales['원가']"
   ]
  },
  {
   "cell_type": "code",
   "execution_count": 22,
   "metadata": {},
   "outputs": [],
   "source": [
    "# 총이윤 -> 총단가 - 총원가\n",
    "sales['총이윤'] = sales['총단가'] - sales['총원가']"
   ]
  },
  {
   "cell_type": "code",
   "execution_count": 24,
   "metadata": {},
   "outputs": [
    {
     "data": {
      "text/html": [
       "<div>\n",
       "<style scoped>\n",
       "    .dataframe tbody tr th:only-of-type {\n",
       "        vertical-align: middle;\n",
       "    }\n",
       "\n",
       "    .dataframe tbody tr th {\n",
       "        vertical-align: top;\n",
       "    }\n",
       "\n",
       "    .dataframe thead th {\n",
       "        text-align: right;\n",
       "    }\n",
       "</style>\n",
       "<table border=\"1\" class=\"dataframe\">\n",
       "  <thead>\n",
       "    <tr style=\"text-align: right;\">\n",
       "      <th></th>\n",
       "      <th>권역</th>\n",
       "      <th>국가</th>\n",
       "      <th>상품종류</th>\n",
       "      <th>우선순위</th>\n",
       "      <th>주문일자</th>\n",
       "      <th>발송일자</th>\n",
       "      <th>판매단위</th>\n",
       "      <th>단가</th>\n",
       "      <th>원가</th>\n",
       "      <th>총단가</th>\n",
       "      <th>총원가</th>\n",
       "      <th>총이윤</th>\n",
       "    </tr>\n",
       "  </thead>\n",
       "  <tbody>\n",
       "    <tr>\n",
       "      <th>9995</th>\n",
       "      <td>Sub-Saharan Africa</td>\n",
       "      <td>Zimbabwe</td>\n",
       "      <td>Clothes</td>\n",
       "      <td>H</td>\n",
       "      <td>11/27/2013</td>\n",
       "      <td>1/9/2014</td>\n",
       "      <td>8431</td>\n",
       "      <td>109.28</td>\n",
       "      <td>35.84</td>\n",
       "      <td>921339.68</td>\n",
       "      <td>302167.04</td>\n",
       "      <td>619172.64</td>\n",
       "    </tr>\n",
       "    <tr>\n",
       "      <th>9996</th>\n",
       "      <td>Sub-Saharan Africa</td>\n",
       "      <td>Zimbabwe</td>\n",
       "      <td>Baby Food</td>\n",
       "      <td>M</td>\n",
       "      <td>3/11/2013</td>\n",
       "      <td>3/11/2013</td>\n",
       "      <td>9304</td>\n",
       "      <td>255.28</td>\n",
       "      <td>159.42</td>\n",
       "      <td>2375125.12</td>\n",
       "      <td>1483243.68</td>\n",
       "      <td>891881.44</td>\n",
       "    </tr>\n",
       "    <tr>\n",
       "      <th>9997</th>\n",
       "      <td>Sub-Saharan Africa</td>\n",
       "      <td>Zimbabwe</td>\n",
       "      <td>Clothes</td>\n",
       "      <td>H</td>\n",
       "      <td>6/9/2010</td>\n",
       "      <td>7/20/2010</td>\n",
       "      <td>3235</td>\n",
       "      <td>109.28</td>\n",
       "      <td>35.84</td>\n",
       "      <td>353520.80</td>\n",
       "      <td>115942.40</td>\n",
       "      <td>237578.40</td>\n",
       "    </tr>\n",
       "    <tr>\n",
       "      <th>9998</th>\n",
       "      <td>Sub-Saharan Africa</td>\n",
       "      <td>Zimbabwe</td>\n",
       "      <td>Fruits</td>\n",
       "      <td>C</td>\n",
       "      <td>11/20/2015</td>\n",
       "      <td>11/27/2015</td>\n",
       "      <td>5904</td>\n",
       "      <td>9.33</td>\n",
       "      <td>6.92</td>\n",
       "      <td>55084.32</td>\n",
       "      <td>40855.68</td>\n",
       "      <td>14228.64</td>\n",
       "    </tr>\n",
       "    <tr>\n",
       "      <th>9999</th>\n",
       "      <td>Sub-Saharan Africa</td>\n",
       "      <td>Zimbabwe</td>\n",
       "      <td>Cereal</td>\n",
       "      <td>H</td>\n",
       "      <td>2/15/2010</td>\n",
       "      <td>3/1/2010</td>\n",
       "      <td>7309</td>\n",
       "      <td>205.70</td>\n",
       "      <td>117.11</td>\n",
       "      <td>1503461.30</td>\n",
       "      <td>855956.99</td>\n",
       "      <td>647504.31</td>\n",
       "    </tr>\n",
       "  </tbody>\n",
       "</table>\n",
       "</div>"
      ],
      "text/plain": [
       "                      권역        국가       상품종류 우선순위        주문일자        발송일자  \\\n",
       "9995  Sub-Saharan Africa  Zimbabwe    Clothes    H  11/27/2013    1/9/2014   \n",
       "9996  Sub-Saharan Africa  Zimbabwe  Baby Food    M   3/11/2013   3/11/2013   \n",
       "9997  Sub-Saharan Africa  Zimbabwe    Clothes    H    6/9/2010   7/20/2010   \n",
       "9998  Sub-Saharan Africa  Zimbabwe     Fruits    C  11/20/2015  11/27/2015   \n",
       "9999  Sub-Saharan Africa  Zimbabwe     Cereal    H   2/15/2010    3/1/2010   \n",
       "\n",
       "      판매단위      단가      원가         총단가         총원가        총이윤  \n",
       "9995  8431  109.28   35.84   921339.68   302167.04  619172.64  \n",
       "9996  9304  255.28  159.42  2375125.12  1483243.68  891881.44  \n",
       "9997  3235  109.28   35.84   353520.80   115942.40  237578.40  \n",
       "9998  5904    9.33    6.92    55084.32    40855.68   14228.64  \n",
       "9999  7309  205.70  117.11  1503461.30   855956.99  647504.31  "
      ]
     },
     "execution_count": 24,
     "metadata": {},
     "output_type": "execute_result"
    }
   ],
   "source": [
    "sales.tail()"
   ]
  },
  {
   "cell_type": "code",
   "execution_count": null,
   "metadata": {},
   "outputs": [],
   "source": [
    "# 국가 컬럼의 데이터가 항목들의 카운트를 출력하는 함수\n",
    "sales['국가'].value_counts().index"
   ]
  },
  {
   "cell_type": "code",
   "execution_count": 37,
   "metadata": {},
   "outputs": [],
   "source": [
    "_list = sales['국가'].unique()"
   ]
  },
  {
   "cell_type": "code",
   "execution_count": 51,
   "metadata": {},
   "outputs": [],
   "source": [
    "df = sales.loc[sales['국가'] == 'South Korea']\n"
   ]
  },
  {
   "cell_type": "code",
   "execution_count": 52,
   "metadata": {},
   "outputs": [
    {
     "data": {
      "text/plain": [
       "23893933.75"
      ]
     },
     "execution_count": 52,
     "metadata": {},
     "output_type": "execute_result"
    }
   ],
   "source": [
    "df['총이윤'].sum()"
   ]
  },
  {
   "cell_type": "code",
   "execution_count": 38,
   "metadata": {},
   "outputs": [],
   "source": [
    "profit_list = {}\n",
    "\n",
    "for i in _list:\n",
    "    # 총이윤의 합계\n",
    "    total_profit = sales.loc[sales['국가'] == i]['총이윤'].sum()\n",
    "    profit_list[i] = total_profit"
   ]
  },
  {
   "cell_type": "code",
   "execution_count": null,
   "metadata": {},
   "outputs": [],
   "source": [
    "pd.Series(profit_list).sort_values(ascending=False)"
   ]
  },
  {
   "cell_type": "code",
   "execution_count": 54,
   "metadata": {},
   "outputs": [
    {
     "data": {
      "text/plain": [
       "dict_values([28092720.770000003, 23833769.239999995, 21198560.200000003, 23744162.89, 24708015.720000003, 24289892.460000005, 16010222.29, 18574894.88, 23265602.749999996, 22736962.389999997, 18775038.479999997, 16015753.2, 22027274.19, 25107838.949999996, 18948513.110000003, 16677397.509999998, 22062373.05, 24616126.67, 14709325.91, 23893933.75, 22393764.24, 30044779.98, 13662027.260000002, 20707529.619999997, 22995182.160000004, 24896258.16, 23415377.02, 22393836.8, 15514056.290000001, 24231292.529999997, 23738722.65, 32454798.259999998, 17438109.330000002, 18646871.84, 25895477.039999995, 23894809.949999996, 22083108.349999998, 19499628.09, 17814961.649999995, 17229813.759999998, 23279592.0, 19956132.869999997, 17792979.410000004, 19091685.05, 14384763.7, 18931889.28, 17888775.8, 19953536.129999995, 18082348.470000003, 26661333.33, 30302769.9, 22478915.509999998, 20239742.029999994, 23919286.869999997, 19610345.959999997, 17843364.299999997, 22253481.509999998, 23055279.040000007, 16973452.63, 18375321.24, 17012150.990000002, 18506428.57, 19583969.700000003, 16653936.870000001, 15509887.290000001, 26799045.64, 18612786.01, 19992722.34, 24070486.579999994, 20787888.73, 26096999.840000004, 21441456.669999994, 19679058.240000006, 23120649.29, 19139460.849999998, 23066495.2, 19199104.959999993, 21670883.449999996, 25249874.359999996, 25308983.419999998, 15943684.1, 26554631.849999998, 27807805.050000004, 14199991.249999996, 20595410.25, 17878505.86, 23301377.830000002, 28063374.019999996, 21219788.11, 20092232.369999997, 14163744.549999999, 25700896.769999996, 17391076.44, 22082815.770000007, 23340250.869999997, 18836470.189999998, 22846126.09, 25449810.79, 21184881.839999996, 24860366.229999997, 18369190.229999997, 23310104.509999998, 20322490.05, 22158888.66, 20406015.35, 18874303.51, 22497403.849999998, 21057819.959999997, 25528037.97, 16978429.04, 22977020.059999995, 22125886.639999997, 25826707.999999996, 27517228.199999996, 24253082.98, 24141593.919999998, 19631817.380000003, 21072528.91, 21165744.029999997, 24806422.689999998, 20381122.180000003, 18622683.36, 26827648.119999997, 18611356.62, 19728342.380000003, 30861356.79, 21007766.990000002, 23285546.1, 14536103.719999999, 26189597.159999996, 15019621.170000002, 24667842.060000002, 16666875.070000002, 26880954.799999997, 21588001.479999997, 24491787.4, 26534771.439999998, 19596150.58, 22273920.68, 29019726.669999998, 23363130.599999998, 27911293.449999996, 19125131.249999996, 14383303.520000001, 18990655.55, 22863353.099999998, 17670491.47, 14521698.84, 20433705.790000003, 18127339.099999998, 15561670.410000002, 20805875.41, 26936729.400000002, 17988031.400000006, 21031887.89, 21702071.21, 23049675.020000003, 20805944.22, 16821465.939999998, 15406339.429999998, 21260893.289999995, 29329125.05, 13800334.9, 17659556.279999997, 19702913.750000004, 20902729.009999998, 16774838.75, 22306185.25, 24139351.98, 16694580.900000002, 27726111.499999996, 14810451.219999999, 24776094.02, 23695801.12, 19665083.039999995, 18511026.569999997, 21193783.380000003, 22945568.529999997, 25107661.700000003, 21152258.929999992, 18318875.150000002, 20026536.18, 25940655.31, 23637453.000000004, 21174631.759999998])"
      ]
     },
     "execution_count": 54,
     "metadata": {},
     "output_type": "execute_result"
    }
   ],
   "source": [
    "profit_list.values()"
   ]
  },
  {
   "cell_type": "code",
   "execution_count": 57,
   "metadata": {},
   "outputs": [
    {
     "data": {
      "text/plain": [
       "dict_keys(['Bangladesh', 'Bhutan', 'Brunei', 'Cambodia', 'China', 'India', 'Indonesia', 'Japan', 'Kazakhstan', 'Kyrgyzstan', 'Laos', 'Malaysia', 'Maldives', 'Mongolia', 'Myanmar', 'Nepal', 'North Korea', 'Philippines', 'Singapore', 'South Korea', 'Sri Lanka', 'Taiwan', 'Tajikistan', 'Thailand', 'Turkmenistan', 'Uzbekistan', 'Vietnam', 'Australia', 'East Timor', 'Federated States of Micronesia', 'Fiji', 'Kiribati', 'Marshall Islands', 'Nauru', 'New Zealand', 'Palau', 'Papua New Guinea', 'Samoa ', 'Solomon Islands', 'Tonga', 'Tuvalu', 'Vanuatu', 'Antigua and Barbuda ', 'Barbados', 'Belize', 'Costa Rica', 'Cuba', 'Dominica', 'Dominican Republic', 'El Salvador', 'Grenada', 'Guatemala', 'Haiti', 'Honduras', 'Jamaica', 'Nicaragua', 'Panama', 'Saint Kitts and Nevis ', 'Saint Lucia', 'Saint Vincent and the Grenadines', 'The Bahamas', 'Trinidad and Tobago', 'Albania', 'Andorra', 'Armenia', 'Austria', 'Belarus', 'Belgium', 'Bosnia and Herzegovina', 'Bulgaria', 'Croatia', 'Cyprus', 'Czech Republic', 'Denmark', 'Estonia', 'Finland', 'France', 'Georgia', 'Germany', 'Greece', 'Hungary', 'Iceland', 'Ireland', 'Italy', 'Kosovo', 'Latvia', 'Liechtenstein', 'Lithuania', 'Luxembourg', 'Macedonia', 'Malta', 'Moldova ', 'Monaco', 'Montenegro', 'Netherlands', 'Norway', 'Poland', 'Portugal', 'Romania', 'Russia', 'San Marino', 'Serbia', 'Slovakia', 'Slovenia', 'Spain', 'Sweden', 'Switzerland', 'Ukraine', 'United Kingdom', 'Vatican City', 'Afghanistan', 'Algeria', 'Azerbaijan', 'Bahrain', 'Egypt', 'Iran', 'Iraq', 'Israel', 'Jordan', 'Kuwait', 'Lebanon', 'Libya', 'Morocco', 'Oman', 'Pakistan', 'Qatar', 'Saudi Arabia', 'Somalia', 'Syria', 'Tunisia ', 'Turkey', 'United Arab Emirates', 'Yemen', 'Canada', 'Greenland', 'Mexico', 'United States of America', 'Angola', 'Benin', 'Botswana', 'Burkina Faso', 'Burundi', 'Cameroon', 'Cape Verde', 'Central African Republic', 'Chad', 'Comoros', \"Cote d'Ivoire\", 'Democratic Republic of the Congo', 'Djibouti', 'Equatorial Guinea', 'Eritrea', 'Ethiopia', 'Gabon', 'Ghana', 'Guinea', 'Guinea-Bissau', 'Kenya', 'Lesotho', 'Liberia', 'Madagascar', 'Malawi', 'Mali', 'Mauritania', 'Mauritius ', 'Mozambique', 'Namibia', 'Niger', 'Nigeria', 'Republic of the Congo', 'Rwanda', 'Sao Tome and Principe', 'Senegal', 'Seychelles ', 'Sierra Leone', 'South Africa', 'South Sudan', 'Sudan', 'Swaziland', 'Tanzania', 'The Gambia', 'Togo', 'Uganda', 'Zambia', 'Zimbabwe'])"
      ]
     },
     "execution_count": 57,
     "metadata": {},
     "output_type": "execute_result"
    }
   ],
   "source": [
    "profit_list.keys()"
   ]
  },
  {
   "cell_type": "code",
   "execution_count": null,
   "metadata": {},
   "outputs": [],
   "source": [
    "pd.DataFrame(profit_list.values(), \n",
    "            index=profit_list.keys(), \n",
    "            columns=['SUM'])"
   ]
  },
  {
   "cell_type": "code",
   "execution_count": 61,
   "metadata": {},
   "outputs": [
    {
     "name": "stderr",
     "output_type": "stream",
     "text": [
      "C:\\Users\\moons\\AppData\\Local\\Temp\\ipykernel_7716\\1011220295.py:4: FutureWarning: The default value of numeric_only in DataFrameGroupBy.sum is deprecated. In a future version, numeric_only will default to False. Either specify numeric_only or select only columns which should be valid for the function.\n",
      "  group_data = sales.groupby(['권역','국가']).sum()\n"
     ]
    }
   ],
   "source": [
    "# 그룹화 함수\n",
    "# groupby()\n",
    "# 인자 값 : 특정 컬럼을 지정\n",
    "group_data = sales.groupby(['권역','국가']).sum()"
   ]
  },
  {
   "cell_type": "code",
   "execution_count": 68,
   "metadata": {},
   "outputs": [
    {
     "data": {
      "text/plain": [
       "MultiIndex([(              'Asia',   'Bangladesh'),\n",
       "            (              'Asia',       'Bhutan'),\n",
       "            (              'Asia',       'Brunei'),\n",
       "            (              'Asia',     'Cambodia'),\n",
       "            (              'Asia',        'China'),\n",
       "            (              'Asia',        'India'),\n",
       "            (              'Asia',    'Indonesia'),\n",
       "            (              'Asia',        'Japan'),\n",
       "            (              'Asia',   'Kazakhstan'),\n",
       "            (              'Asia',   'Kyrgyzstan'),\n",
       "            ...\n",
       "            ('Sub-Saharan Africa', 'South Africa'),\n",
       "            ('Sub-Saharan Africa',  'South Sudan'),\n",
       "            ('Sub-Saharan Africa',        'Sudan'),\n",
       "            ('Sub-Saharan Africa',    'Swaziland'),\n",
       "            ('Sub-Saharan Africa',     'Tanzania'),\n",
       "            ('Sub-Saharan Africa',   'The Gambia'),\n",
       "            ('Sub-Saharan Africa',         'Togo'),\n",
       "            ('Sub-Saharan Africa',       'Uganda'),\n",
       "            ('Sub-Saharan Africa',       'Zambia'),\n",
       "            ('Sub-Saharan Africa',     'Zimbabwe')],\n",
       "           names=['권역', '국가'], length=185)"
      ]
     },
     "execution_count": 68,
     "metadata": {},
     "output_type": "execute_result"
    }
   ],
   "source": [
    "group_data.index"
   ]
  },
  {
   "cell_type": "code",
   "execution_count": 65,
   "metadata": {},
   "outputs": [
    {
     "data": {
      "text/plain": [
       "판매단위      319921.00\n",
       "단가         17190.51\n",
       "원가         12337.75\n",
       "총단가     88488084.46\n",
       "총원가     64594150.71\n",
       "총이윤     23893933.75\n",
       "Name: (Asia, South Korea), dtype: float64"
      ]
     },
     "execution_count": 65,
     "metadata": {},
     "output_type": "execute_result"
    }
   ],
   "source": [
    "# group_data에서 한국의 데이터만 출력하려면?\n",
    "group_data.loc[('Asia', 'South Korea')]"
   ]
  },
  {
   "cell_type": "code",
   "execution_count": null,
   "metadata": {},
   "outputs": [],
   "source": [
    "sales.head()"
   ]
  },
  {
   "cell_type": "code",
   "execution_count": null,
   "metadata": {},
   "outputs": [],
   "source": [
    "# sales에서 상품의 종류에 따라 총 이윤이 가장 높은 물건은 무엇인가?\n",
    "# 1. sales에서 그룹화 진행 -> 그룹조건 상품종류\n",
    "# 2. 그룹화된 데이터에서 총 이윤이라는 컬럼의 데이터의 평균을 출력\n",
    "# 3. 총이윤의 평균값을 기준으로 내림차순 정렬\n",
    "# 4. ???????"
   ]
  }
 ],
 "metadata": {
  "kernelspec": {
   "display_name": "Python 3",
   "language": "python",
   "name": "python3"
  },
  "language_info": {
   "codemirror_mode": {
    "name": "ipython",
    "version": 3
   },
   "file_extension": ".py",
   "mimetype": "text/x-python",
   "name": "python",
   "nbconvert_exporter": "python",
   "pygments_lexer": "ipython3",
   "version": "3.11.1"
  },
  "orig_nbformat": 4
 },
 "nbformat": 4,
 "nbformat_minor": 2
}
