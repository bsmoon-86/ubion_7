{
 "cells": [
  {
   "cell_type": "code",
   "execution_count": null,
   "metadata": {},
   "outputs": [],
   "source": [
    "import pandas as pd"
   ]
  },
  {
   "attachments": {},
   "cell_type": "markdown",
   "metadata": {},
   "source": [
    "1. csv폴더에서 uriage.csv 로드 \n",
    "2. purchase_date 컬럼의 데이터를 시계열데이터 변경\n",
    "3. item_name의 데이터의 모든 문자열을 대문자로 변경\n",
    "4. item_name의 데이터의 공백을 모두 삭제\n",
    "5. item_name을 기준으로 오름차순 정렬\n",
    "6. 인덱스를 초기화\n",
    "7. 결측치를 채우는 작업\n",
    "    - item_price 컬럼에 결측치가 존재\n",
    "    - 상품A인 경우 결측치는 상품A의 item_price중 결측치가 아닌 값으로 치환\n",
    "    - 위의 작업을 상품A부터 상품Z까지 반복 작업"
   ]
  },
  {
   "cell_type": "code",
   "execution_count": null,
   "metadata": {},
   "outputs": [],
   "source": [
    "uriage = pd.read_csv(\"../csv/uriage.csv\")\n",
    "uriage.head()"
   ]
  },
  {
   "cell_type": "code",
   "execution_count": null,
   "metadata": {},
   "outputs": [],
   "source": [
    "uriage.info()"
   ]
  },
  {
   "cell_type": "code",
   "execution_count": null,
   "metadata": {},
   "outputs": [],
   "source": [
    "uriage.isna().sum()"
   ]
  },
  {
   "cell_type": "code",
   "execution_count": null,
   "metadata": {},
   "outputs": [],
   "source": [
    "# 시계열 데이터로 데이터의 형태를 변경\n",
    "# pd.to_datetime(변경할 데이터, format = \"\")\n",
    "t = '04/05/05'\n",
    "pd.to_datetime(t, format=\"%y/%m/%d\")"
   ]
  },
  {
   "cell_type": "code",
   "execution_count": null,
   "metadata": {},
   "outputs": [],
   "source": [
    "# purchase_date 컬럼을 시계열로 변경\n",
    "uriage['purchase_date']\n",
    "uriage['purchase_date'] = pd.to_datetime(uriage['purchase_date'], \n",
    "                format = '%Y-%m-%d %H:%M')"
   ]
  },
  {
   "cell_type": "code",
   "execution_count": null,
   "metadata": {},
   "outputs": [],
   "source": [
    "uriage.info()"
   ]
  },
  {
   "cell_type": "code",
   "execution_count": null,
   "metadata": {},
   "outputs": [],
   "source": [
    "# 원본데이터를 생성\n",
    "origin_data = uriage.copy()"
   ]
  },
  {
   "cell_type": "code",
   "execution_count": null,
   "metadata": {},
   "outputs": [],
   "source": [
    "origin_data"
   ]
  },
  {
   "cell_type": "code",
   "execution_count": null,
   "metadata": {},
   "outputs": [],
   "source": [
    "uriage.drop(\"item_name\", axis=1, inplace=True)\n",
    "uriage.head(1)"
   ]
  },
  {
   "cell_type": "code",
   "execution_count": null,
   "metadata": {},
   "outputs": [],
   "source": [
    "uriage = origin_data.copy()"
   ]
  },
  {
   "cell_type": "code",
   "execution_count": null,
   "metadata": {},
   "outputs": [],
   "source": [
    "uriage.info()"
   ]
  },
  {
   "cell_type": "code",
   "execution_count": null,
   "metadata": {},
   "outputs": [],
   "source": [
    "# item_name컬럼의 데이터를 모두 대문자로 변경\n",
    "# upper() : 문자열을 모두 대문자 변환\n",
    "# str.upper() 사용하여 문자열을 대문자로 변경하는 방식\n",
    "uriage['item_name'] = uriage['item_name'].str.upper()"
   ]
  },
  {
   "cell_type": "code",
   "execution_count": null,
   "metadata": {},
   "outputs": [],
   "source": [
    "# apply() 함수를 이용하여 글자를 모두 소문자로 변경\n",
    "# apply()는 스리즈형태데이터.apply(함수) --> \n",
    "# 스리즈의 데이터들을 하나씩 함수안에 넣어서 결과값으로 \n",
    "# 새로운 스리즈형태의 데이터를 생성 \n",
    "\n",
    "def change(x):\n",
    "    result = x.lower()\n",
    "    return result\n",
    "\n",
    "uriage['item_name'] = uriage['item_name'].apply(change)"
   ]
  },
  {
   "cell_type": "code",
   "execution_count": null,
   "metadata": {},
   "outputs": [],
   "source": [
    "# apply(lambda함수)\n",
    "\n",
    "uriage['item_name'] = uriage['item_name'].apply(lambda x : x.upper())"
   ]
  },
  {
   "cell_type": "code",
   "execution_count": null,
   "metadata": {},
   "outputs": [],
   "source": [
    "def change(x):\n",
    "    print(x)\n",
    "    return x\n",
    "\n",
    "uriage.apply(change)"
   ]
  },
  {
   "cell_type": "code",
   "execution_count": null,
   "metadata": {},
   "outputs": [],
   "source": [
    "# item_name에 있는 공백을 제거 한다.\n",
    "# 공백을 제거 하는 함수 : strip() -> 문자열의 좌우 공백을 제거 -> \n",
    "# 현재 데이터에서는 strip() 사용 불가\n",
    "# 문자열 사이의 공백까지 제거하려면 사용할 함수의 이름?\n",
    "# replace(기준문자열, 대체할문자열)\n",
    "# replace(\" \", \"\")\n",
    "uriage[\"item_name\"].str.replace(\" \", \"\")"
   ]
  },
  {
   "cell_type": "code",
   "execution_count": null,
   "metadata": {},
   "outputs": [],
   "source": [
    "def change(x):\n",
    "    result = x.replace(\" \", \"\")\n",
    "    result = result.lower()\n",
    "    return result\n",
    "\n",
    "uriage['item_name'].apply(change)"
   ]
  },
  {
   "cell_type": "code",
   "execution_count": null,
   "metadata": {},
   "outputs": [],
   "source": [
    "uriage['item_name'] = uriage['item_name'].apply(lambda x : x.replace(\" \", \"\").upper())"
   ]
  },
  {
   "cell_type": "code",
   "execution_count": null,
   "metadata": {},
   "outputs": [],
   "source": [
    "uriage.head()"
   ]
  },
  {
   "cell_type": "code",
   "execution_count": null,
   "metadata": {},
   "outputs": [],
   "source": [
    "# item_name기준으로 오름차순 정렬\n",
    "uriage.sort_values(\"item_name\", inplace=True)"
   ]
  },
  {
   "cell_type": "code",
   "execution_count": null,
   "metadata": {},
   "outputs": [],
   "source": [
    "# 인덱스를 초기화 -> 기존의 인덱스는 삭제\n",
    "uriage.reset_index(drop=True, inplace=True)"
   ]
  },
  {
   "cell_type": "code",
   "execution_count": null,
   "metadata": {},
   "outputs": [],
   "source": [
    "uriage['item_price'].isna().value_counts()"
   ]
  },
  {
   "attachments": {},
   "cell_type": "markdown",
   "metadata": {},
   "source": [
    "1. 상품A의 item_price의 값은 결측치 중 상품A이면 이 값을 치환\n",
    "2. 나머지 상품들도 같은 작업을 반복 "
   ]
  },
  {
   "cell_type": "code",
   "execution_count": null,
   "metadata": {},
   "outputs": [],
   "source": [
    "# 상품A의 item_price을 출력\n",
    "# 행의 조건? 결측치가 아니다, item_name이 상품A이다, \n",
    "# 열의 조건? item_price\n",
    "\n",
    "# 결측치가 아닌 조건\n",
    "flg_null = uriage['item_price'].isna()\n",
    "# uriage.isna().any(1)\n"
   ]
  },
  {
   "cell_type": "code",
   "execution_count": null,
   "metadata": {},
   "outputs": [],
   "source": [
    "# 결측치인 값들을 출력\n",
    "uriage.loc[flg_null]"
   ]
  },
  {
   "cell_type": "code",
   "execution_count": null,
   "metadata": {},
   "outputs": [],
   "source": [
    "# item_name이 상품A인 경우만 출력\n",
    "uriage.loc[uriage['item_name'] == '상품A']"
   ]
  },
  {
   "cell_type": "code",
   "execution_count": 104,
   "metadata": {},
   "outputs": [
    {
     "data": {
      "text/html": [
       "<div>\n",
       "<style scoped>\n",
       "    .dataframe tbody tr th:only-of-type {\n",
       "        vertical-align: middle;\n",
       "    }\n",
       "\n",
       "    .dataframe tbody tr th {\n",
       "        vertical-align: top;\n",
       "    }\n",
       "\n",
       "    .dataframe thead th {\n",
       "        text-align: right;\n",
       "    }\n",
       "</style>\n",
       "<table border=\"1\" class=\"dataframe\">\n",
       "  <thead>\n",
       "    <tr style=\"text-align: right;\">\n",
       "      <th></th>\n",
       "      <th>purchase_date</th>\n",
       "      <th>item_name</th>\n",
       "      <th>item_price</th>\n",
       "      <th>customer_name</th>\n",
       "    </tr>\n",
       "  </thead>\n",
       "  <tbody>\n",
       "    <tr>\n",
       "      <th>18</th>\n",
       "      <td>2019-04-11 02:22:00</td>\n",
       "      <td>상품A</td>\n",
       "      <td>100.0</td>\n",
       "      <td>김선우</td>\n",
       "    </tr>\n",
       "    <tr>\n",
       "      <th>22</th>\n",
       "      <td>2019-07-07 21:49:00</td>\n",
       "      <td>상품A</td>\n",
       "      <td>100.0</td>\n",
       "      <td>김은우</td>\n",
       "    </tr>\n",
       "    <tr>\n",
       "      <th>32</th>\n",
       "      <td>2019-07-14 03:39:00</td>\n",
       "      <td>상품A</td>\n",
       "      <td>100.0</td>\n",
       "      <td>김시우</td>\n",
       "    </tr>\n",
       "    <tr>\n",
       "      <th>38</th>\n",
       "      <td>2019-05-25 12:51:00</td>\n",
       "      <td>상품A</td>\n",
       "      <td>100.0</td>\n",
       "      <td>김재민</td>\n",
       "    </tr>\n",
       "    <tr>\n",
       "      <th>44</th>\n",
       "      <td>2019-02-28 04:11:00</td>\n",
       "      <td>상품A</td>\n",
       "      <td>100.0</td>\n",
       "      <td>김서준</td>\n",
       "    </tr>\n",
       "    <tr>\n",
       "      <th>46</th>\n",
       "      <td>2019-02-13 07:28:00</td>\n",
       "      <td>상품A</td>\n",
       "      <td>100.0</td>\n",
       "      <td>김시환</td>\n",
       "    </tr>\n",
       "    <tr>\n",
       "      <th>48</th>\n",
       "      <td>2019-07-31 01:32:00</td>\n",
       "      <td>상품A</td>\n",
       "      <td>100.0</td>\n",
       "      <td>김윤찬</td>\n",
       "    </tr>\n",
       "    <tr>\n",
       "      <th>51</th>\n",
       "      <td>2019-04-06 11:06:00</td>\n",
       "      <td>상품A</td>\n",
       "      <td>100.0</td>\n",
       "      <td>김태인</td>\n",
       "    </tr>\n",
       "    <tr>\n",
       "      <th>58</th>\n",
       "      <td>2019-03-15 09:14:00</td>\n",
       "      <td>상품A</td>\n",
       "      <td>100.0</td>\n",
       "      <td>김강현</td>\n",
       "    </tr>\n",
       "    <tr>\n",
       "      <th>59</th>\n",
       "      <td>2019-06-24 05:06:00</td>\n",
       "      <td>상품A</td>\n",
       "      <td>100.0</td>\n",
       "      <td>김시호</td>\n",
       "    </tr>\n",
       "    <tr>\n",
       "      <th>68</th>\n",
       "      <td>2019-03-16 17:23:00</td>\n",
       "      <td>상품A</td>\n",
       "      <td>100.0</td>\n",
       "      <td>김주원</td>\n",
       "    </tr>\n",
       "    <tr>\n",
       "      <th>86</th>\n",
       "      <td>2019-01-15 22:59:00</td>\n",
       "      <td>상품A</td>\n",
       "      <td>100.0</td>\n",
       "      <td>김하진</td>\n",
       "    </tr>\n",
       "    <tr>\n",
       "      <th>96</th>\n",
       "      <td>2019-01-21 03:33:00</td>\n",
       "      <td>상품A</td>\n",
       "      <td>100.0</td>\n",
       "      <td>김진우</td>\n",
       "    </tr>\n",
       "    <tr>\n",
       "      <th>102</th>\n",
       "      <td>2019-07-19 14:12:00</td>\n",
       "      <td>상품A</td>\n",
       "      <td>100.0</td>\n",
       "      <td>김서윤</td>\n",
       "    </tr>\n",
       "    <tr>\n",
       "      <th>110</th>\n",
       "      <td>2019-03-05 20:21:00</td>\n",
       "      <td>상품A</td>\n",
       "      <td>100.0</td>\n",
       "      <td>김주혁</td>\n",
       "    </tr>\n",
       "    <tr>\n",
       "      <th>112</th>\n",
       "      <td>2019-05-18 19:16:00</td>\n",
       "      <td>상품A</td>\n",
       "      <td>100.0</td>\n",
       "      <td>김재준</td>\n",
       "    </tr>\n",
       "    <tr>\n",
       "      <th>115</th>\n",
       "      <td>2019-01-28 22:13:00</td>\n",
       "      <td>상품A</td>\n",
       "      <td>100.0</td>\n",
       "      <td>김윤호</td>\n",
       "    </tr>\n",
       "    <tr>\n",
       "      <th>118</th>\n",
       "      <td>2019-06-11 12:57:00</td>\n",
       "      <td>상품A</td>\n",
       "      <td>100.0</td>\n",
       "      <td>김재호</td>\n",
       "    </tr>\n",
       "    <tr>\n",
       "      <th>128</th>\n",
       "      <td>2019-04-22 03:09:00</td>\n",
       "      <td>상품A</td>\n",
       "      <td>100.0</td>\n",
       "      <td>김강현</td>\n",
       "    </tr>\n",
       "    <tr>\n",
       "      <th>132</th>\n",
       "      <td>2019-06-21 11:09:00</td>\n",
       "      <td>상품A</td>\n",
       "      <td>100.0</td>\n",
       "      <td>김승훈</td>\n",
       "    </tr>\n",
       "    <tr>\n",
       "      <th>135</th>\n",
       "      <td>2019-03-09 14:20:00</td>\n",
       "      <td>상품A</td>\n",
       "      <td>100.0</td>\n",
       "      <td>김우찬</td>\n",
       "    </tr>\n",
       "    <tr>\n",
       "      <th>136</th>\n",
       "      <td>2019-05-11 19:42:00</td>\n",
       "      <td>상품A</td>\n",
       "      <td>100.0</td>\n",
       "      <td>김유찬</td>\n",
       "    </tr>\n",
       "  </tbody>\n",
       "</table>\n",
       "</div>"
      ],
      "text/plain": [
       "          purchase_date item_name  item_price customer_name\n",
       "18  2019-04-11 02:22:00       상품A       100.0           김선우\n",
       "22  2019-07-07 21:49:00       상품A       100.0           김은우\n",
       "32  2019-07-14 03:39:00       상품A       100.0           김시우\n",
       "38  2019-05-25 12:51:00       상품A       100.0           김재민\n",
       "44  2019-02-28 04:11:00       상품A       100.0           김서준\n",
       "46  2019-02-13 07:28:00       상품A       100.0           김시환\n",
       "48  2019-07-31 01:32:00       상품A       100.0           김윤찬\n",
       "51  2019-04-06 11:06:00       상품A       100.0           김태인\n",
       "58  2019-03-15 09:14:00       상품A       100.0           김강현\n",
       "59  2019-06-24 05:06:00       상품A       100.0           김시호\n",
       "68  2019-03-16 17:23:00       상품A       100.0           김주원\n",
       "86  2019-01-15 22:59:00       상품A       100.0           김하진\n",
       "96  2019-01-21 03:33:00       상품A       100.0           김진우\n",
       "102 2019-07-19 14:12:00       상품A       100.0           김서윤\n",
       "110 2019-03-05 20:21:00       상품A       100.0           김주혁\n",
       "112 2019-05-18 19:16:00       상품A       100.0           김재준\n",
       "115 2019-01-28 22:13:00       상품A       100.0           김윤호\n",
       "118 2019-06-11 12:57:00       상품A       100.0           김재호\n",
       "128 2019-04-22 03:09:00       상품A       100.0           김강현\n",
       "132 2019-06-21 11:09:00       상품A       100.0           김승훈\n",
       "135 2019-03-09 14:20:00       상품A       100.0           김우찬\n",
       "136 2019-05-11 19:42:00       상품A       100.0           김유찬"
      ]
     },
     "execution_count": 104,
     "metadata": {},
     "output_type": "execute_result"
    }
   ],
   "source": [
    "# 상품A이고 item_price가 결측치인 경우\n",
    "uriage.loc[(flg_null) & (uriage['item_name'] == '상품A')]"
   ]
  },
  {
   "cell_type": "code",
   "execution_count": 100,
   "metadata": {},
   "outputs": [],
   "source": [
    "# 상품A이고 item_price가 결측치가 아닌 경우\n",
    "price = uriage.loc[(uriage['item_name'] == '상품A') &\\\n",
    "     ~(flg_null), 'item_price'].value_counts().index[0]"
   ]
  },
  {
   "cell_type": "code",
   "execution_count": null,
   "metadata": {},
   "outputs": [],
   "source": [
    "# 결측치에 값을 치환하는 함수\n",
    "# fillna(n) : n의 값으로 결측치를 채운다.\n",
    "\n",
    "uriage.loc[(flg_null) & (uriage['item_name'] == '상품A')].fillna(price)"
   ]
  },
  {
   "cell_type": "code",
   "execution_count": 103,
   "metadata": {},
   "outputs": [],
   "source": [
    "uriage.loc[(flg_null) &\\\n",
    "     (uriage['item_name'] == '상품A'), 'item_price'] = price"
   ]
  },
  {
   "cell_type": "code",
   "execution_count": 106,
   "metadata": {},
   "outputs": [],
   "source": [
    "# item_name의 리스트를 출력\n",
    "name_list = uriage['item_name'].unique()"
   ]
  },
  {
   "cell_type": "code",
   "execution_count": 107,
   "metadata": {},
   "outputs": [],
   "source": [
    "for i in name_list:\n",
    "    # item_price의 값을 구한다. \n",
    "    # item_name이 i와 같고 결측치가 아닌 데이터에서 price를 출력\n",
    "    price = uriage.loc[~(flg_null) & \\\n",
    "        (uriage['item_name'] == i), 'item_price']\\\n",
    "            .value_counts().index[0]\n",
    "\n",
    "    # item_name이 i와 같고 결측치인 데이터에서 item_price에 \n",
    "    # price라는 변수를 삽입\n",
    "    uriage.loc[(flg_null) & \\\n",
    "        (uriage['item_name'] == i), 'item_price'] = price\n",
    "    "
   ]
  },
  {
   "cell_type": "code",
   "execution_count": 108,
   "metadata": {},
   "outputs": [
    {
     "data": {
      "text/plain": [
       "purchase_date    0\n",
       "item_name        0\n",
       "item_price       0\n",
       "customer_name    0\n",
       "dtype: int64"
      ]
     },
     "execution_count": 108,
     "metadata": {},
     "output_type": "execute_result"
    }
   ],
   "source": [
    "uriage.isna().sum()"
   ]
  },
  {
   "cell_type": "code",
   "execution_count": null,
   "metadata": {},
   "outputs": [],
   "source": []
  }
 ],
 "metadata": {
  "kernelspec": {
   "display_name": "Python 3",
   "language": "python",
   "name": "python3"
  },
  "language_info": {
   "codemirror_mode": {
    "name": "ipython",
    "version": 3
   },
   "file_extension": ".py",
   "mimetype": "text/x-python",
   "name": "python",
   "nbconvert_exporter": "python",
   "pygments_lexer": "ipython3",
   "version": "3.11.1"
  },
  "orig_nbformat": 4
 },
 "nbformat": 4,
 "nbformat_minor": 2
}
