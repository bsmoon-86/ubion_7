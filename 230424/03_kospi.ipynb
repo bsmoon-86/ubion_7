{
 "cells": [
  {
   "cell_type": "code",
   "execution_count": null,
   "metadata": {},
   "outputs": [],
   "source": [
    "import pandas as pd"
   ]
  },
  {
   "cell_type": "code",
   "execution_count": null,
   "metadata": {},
   "outputs": [],
   "source": [
    "df = pd.read_excel(\"../data/kospi.xlsx\", index_col=0)"
   ]
  },
  {
   "cell_type": "code",
   "execution_count": null,
   "metadata": {},
   "outputs": [],
   "source": [
    "df.head(2)"
   ]
  },
  {
   "cell_type": "code",
   "execution_count": null,
   "metadata": {},
   "outputs": [],
   "source": [
    "samsung = pd.read_excel(\"../data/samsung.xlsx\", index_col=0)"
   ]
  },
  {
   "cell_type": "code",
   "execution_count": null,
   "metadata": {},
   "outputs": [],
   "source": [
    "data = [df['종가'], samsung['종가']]\n",
    "data"
   ]
  },
  {
   "cell_type": "code",
   "execution_count": null,
   "metadata": {},
   "outputs": [],
   "source": [
    "df = pd.concat(data, axis=1, keys=['kospi', 'samsung'])\n",
    "df"
   ]
  },
  {
   "cell_type": "code",
   "execution_count": null,
   "metadata": {},
   "outputs": [],
   "source": [
    "df.corr()"
   ]
  },
  {
   "cell_type": "code",
   "execution_count": null,
   "metadata": {},
   "outputs": [],
   "source": [
    "df.plot.scatter(x='samsung', y='kospi')"
   ]
  },
  {
   "cell_type": "code",
   "execution_count": null,
   "metadata": {},
   "outputs": [],
   "source": [
    "kospi = pd.read_excel(\"../data/kospi.xlsx\", usecols=[0, 1, 4, 5, 6, 7], parse_dates=[0])"
   ]
  },
  {
   "cell_type": "code",
   "execution_count": null,
   "metadata": {},
   "outputs": [],
   "source": [
    "kospi.info()"
   ]
  },
  {
   "cell_type": "code",
   "execution_count": null,
   "metadata": {},
   "outputs": [],
   "source": [
    "how = {\n",
    "    '시가' : 'first', \n",
    "    '고가' : 'max', \n",
    "    '저가' : 'min', \n",
    "    '종가' : 'last', \n",
    "    '거래량' : 'sum'\n",
    "}\n",
    "\n",
    "group_data = kospi.groupby(pd.Grouper(key='일자', freq='W')).agg(how)"
   ]
  },
  {
   "cell_type": "code",
   "execution_count": null,
   "metadata": {},
   "outputs": [],
   "source": [
    "kospi.loc[0, '일자'].weekday()"
   ]
  },
  {
   "cell_type": "code",
   "execution_count": null,
   "metadata": {},
   "outputs": [],
   "source": [
    "for i in kospi.index:\n",
    "    kospi.loc[i, '요일'] = kospi.loc[i, \"일자\"].weekday()"
   ]
  },
  {
   "cell_type": "code",
   "execution_count": null,
   "metadata": {},
   "outputs": [],
   "source": [
    "kospi = kospi.sort_values('일자').set_index('일자')"
   ]
  },
  {
   "cell_type": "code",
   "execution_count": null,
   "metadata": {},
   "outputs": [],
   "source": [
    "# 한주의 시작의 조건?\n",
    "# 전의 요일 데이터보다 현재의 요일 데이터가 작거나 같은 경우 \n",
    "kospi.loc[kospi.shift(1)[\"요일\"] >= kospi[\"요일\"]].value_counts('요일')"
   ]
  },
  {
   "cell_type": "code",
   "execution_count": null,
   "metadata": {},
   "outputs": [],
   "source": [
    "# 한주의 마지막의 조건?\n",
    "# 다음날의 요일이 현재 요일보다 작거나 같은 경우\n",
    "kospi.loc[kospi.shift(-1)['요일'] <= kospi['요일']].value_counts('요일')"
   ]
  },
  {
   "cell_type": "code",
   "execution_count": null,
   "metadata": {},
   "outputs": [],
   "source": [
    "group_data[\"수익율\"] = (group_data['종가'] - group_data['시가']) / group_data['시가'] +1"
   ]
  },
  {
   "cell_type": "code",
   "execution_count": null,
   "metadata": {},
   "outputs": [],
   "source": [
    "for i in group_data.index:\n",
    "    group_data['요일'] = i.weekday()\n",
    "group_data"
   ]
  },
  {
   "cell_type": "code",
   "execution_count": null,
   "metadata": {},
   "outputs": [],
   "source": [
    "kospi"
   ]
  },
  {
   "cell_type": "code",
   "execution_count": null,
   "metadata": {},
   "outputs": [],
   "source": [
    "kospi['rtn'] = 1\n",
    "buy = kospi.iloc[0, 1]\n",
    "# print(buy)\n",
    "for i in kospi.index:\n",
    "    # 1월 3일이 주의 마지막이기 때문에 buy가 존재할수가 없어서 미리 첫날의 시가를 지정\n",
    "\n",
    "    # 주의 시작날의 시가를 buy에 지정\n",
    "    if kospi.shift(1).loc[i, '요일'] >= kospi.loc[i, '요일']:\n",
    "        buy = kospi.loc[i, '시가']\n",
    "        # print(i, buy)\n",
    "    # 주의 마지막 날의 종가를 sell에 지정\n",
    "    elif kospi.shift(-1).loc[i, '요일'] <= kospi.loc[i, '요일']:\n",
    "        sell = kospi.loc[i, '종가']\n",
    "        # print(i, sell)\n",
    "        rtn = (sell - buy) / buy + 1\n",
    "        kospi.loc[i, 'rtn'] = rtn"
   ]
  },
  {
   "cell_type": "code",
   "execution_count": 69,
   "metadata": {},
   "outputs": [
    {
     "data": {
      "text/plain": [
       "array([0.98875618, 1.02386112, 1.02090279, 0.99324755, 0.96660463,\n",
       "       1.06006872, 1.02651867, 0.96423206, 0.93991126, 1.02162712,\n",
       "       0.89420602, 0.86746648, 1.16499712, 1.0329873 , 1.06615098,\n",
       "       1.03303836, 0.98987078, 1.02662014, 1.02066701, 0.98657289,\n",
       "       1.01841293, 1.02478654, 1.07109826, 0.96240296, 1.01272695,\n",
       "       1.00388924, 1.02226032, 0.99597026, 1.01413493, 0.99585896,\n",
       "       1.02082615, 1.04442076, 1.02275778, 0.95791491, 1.0192346 ,\n",
       "       0.99628117, 1.01132561, 0.99754789, 0.94459966, 1.01161588,\n",
       "       1.02635   , 0.97394122, 1.00335328, 0.95801817, 1.06144662,\n",
       "       1.02265206, 1.01836121, 1.02867533, 1.03149487, 1.01166863,\n",
       "       1.00099298, 1.01258306, 1.01861784, 1.09660115, 0.97596382,\n",
       "       1.01971817, 0.94662867, 1.04831346, 0.99580875, 0.99965259,\n",
       "       0.96754045, 1.00151571, 1.00738789, 0.99426573, 1.00032895,\n",
       "       1.02135702, 1.00341212, 1.02033252, 0.995311  , 0.98637563,\n",
       "       1.01529033, 0.98496311, 0.99785345, 1.01039954, 1.01504358,\n",
       "       1.00145781, 1.00564069, 1.01184371, 0.9928361 , 0.97950257,\n",
       "       1.01530592, 0.9986345 , 0.98050515, 1.01613835, 0.97335564,\n",
       "       0.96553976, 1.01525523])"
      ]
     },
     "execution_count": 69,
     "metadata": {},
     "output_type": "execute_result"
    }
   ],
   "source": [
    "kospi.loc[kospi['rtn'] != 1]['rtn'].values"
   ]
  },
  {
   "cell_type": "code",
   "execution_count": 70,
   "metadata": {},
   "outputs": [
    {
     "data": {
      "text/plain": [
       "array([0.98875618, 1.02386112, 1.02090279, 0.99324755, 0.96660463,\n",
       "       1.06006872, 1.02651867, 0.96423206, 0.93991126, 1.02162712,\n",
       "       0.89420602, 0.86746648, 1.16499712, 1.0329873 , 1.06615098,\n",
       "       1.03303836, 0.98987078, 1.02662014, 1.02066701, 0.98657289,\n",
       "       1.01841293, 1.02478654, 1.07109826, 0.96240296, 1.01272695,\n",
       "       1.00388924, 1.02226032, 0.99597026, 1.01413493, 0.99585896,\n",
       "       1.02082615, 1.04442076, 1.02275778, 0.95791491, 1.0192346 ,\n",
       "       0.99628117, 1.01132561, 0.99754789, 0.94459966, 1.01161588,\n",
       "       1.02635   , 0.97394122, 1.00335328, 0.95801817, 1.06144662,\n",
       "       1.02265206, 1.01836121, 1.02867533, 1.03149487, 1.01166863,\n",
       "       1.00099298, 1.01258306, 1.01861784, 1.09660115, 0.97596382,\n",
       "       1.01971817, 0.94662867, 1.04831346, 0.99580875, 0.99965259,\n",
       "       0.96754045, 1.00151571, 1.00738789, 0.99426573, 1.00032895,\n",
       "       1.02135702, 1.00341212, 1.02033252, 0.995311  , 0.98637563,\n",
       "       1.01529033, 0.98496311, 0.99785345, 1.01039954, 1.01504358,\n",
       "       1.00145781, 1.00564069, 1.01184371, 0.9928361 , 0.97950257,\n",
       "       1.01530592, 0.9986345 , 0.98050515, 1.01613835, 0.97335564,\n",
       "       0.96553976, 1.01525523, 1.01214855])"
      ]
     },
     "execution_count": 70,
     "metadata": {},
     "output_type": "execute_result"
    }
   ],
   "source": [
    "group_data['수익율'].values"
   ]
  },
  {
   "cell_type": "code",
   "execution_count": null,
   "metadata": {},
   "outputs": [],
   "source": [
    "(2206.39 - 2154.97) / 2154.97 + 1"
   ]
  },
  {
   "cell_type": "code",
   "execution_count": 64,
   "metadata": {},
   "outputs": [
    {
     "data": {
      "text/html": [
       "<div>\n",
       "<style scoped>\n",
       "    .dataframe tbody tr th:only-of-type {\n",
       "        vertical-align: middle;\n",
       "    }\n",
       "\n",
       "    .dataframe tbody tr th {\n",
       "        vertical-align: top;\n",
       "    }\n",
       "\n",
       "    .dataframe thead th {\n",
       "        text-align: right;\n",
       "    }\n",
       "</style>\n",
       "<table border=\"1\" class=\"dataframe\">\n",
       "  <thead>\n",
       "    <tr style=\"text-align: right;\">\n",
       "      <th></th>\n",
       "      <th>시가</th>\n",
       "      <th>고가</th>\n",
       "      <th>저가</th>\n",
       "      <th>종가</th>\n",
       "      <th>거래량</th>\n",
       "      <th>수익율</th>\n",
       "      <th>요일</th>\n",
       "    </tr>\n",
       "    <tr>\n",
       "      <th>일자</th>\n",
       "      <th></th>\n",
       "      <th></th>\n",
       "      <th></th>\n",
       "      <th></th>\n",
       "      <th></th>\n",
       "      <th></th>\n",
       "      <th></th>\n",
       "    </tr>\n",
       "  </thead>\n",
       "  <tbody>\n",
       "    <tr>\n",
       "      <th>2020-01-05</th>\n",
       "      <td>2201.21</td>\n",
       "      <td>2203.38</td>\n",
       "      <td>2165.39</td>\n",
       "      <td>2176.46</td>\n",
       "      <td>1126241</td>\n",
       "      <td>0.988756</td>\n",
       "      <td>6</td>\n",
       "    </tr>\n",
       "    <tr>\n",
       "      <th>2020-01-12</th>\n",
       "      <td>2154.97</td>\n",
       "      <td>2206.92</td>\n",
       "      <td>2137.72</td>\n",
       "      <td>2206.39</td>\n",
       "      <td>3261879</td>\n",
       "      <td>1.023861</td>\n",
       "      <td>6</td>\n",
       "    </tr>\n",
       "    <tr>\n",
       "      <th>2020-01-19</th>\n",
       "      <td>2204.49</td>\n",
       "      <td>2268.71</td>\n",
       "      <td>2204.49</td>\n",
       "      <td>2250.57</td>\n",
       "      <td>3459492</td>\n",
       "      <td>1.020903</td>\n",
       "      <td>6</td>\n",
       "    </tr>\n",
       "    <tr>\n",
       "      <th>2020-01-26</th>\n",
       "      <td>2261.40</td>\n",
       "      <td>2277.23</td>\n",
       "      <td>2235.13</td>\n",
       "      <td>2246.13</td>\n",
       "      <td>2433930</td>\n",
       "      <td>0.993248</td>\n",
       "      <td>6</td>\n",
       "    </tr>\n",
       "    <tr>\n",
       "      <th>2020-02-02</th>\n",
       "      <td>2192.22</td>\n",
       "      <td>2199.93</td>\n",
       "      <td>2119.01</td>\n",
       "      <td>2119.01</td>\n",
       "      <td>2814526</td>\n",
       "      <td>0.966605</td>\n",
       "      <td>6</td>\n",
       "    </tr>\n",
       "    <tr>\n",
       "      <th>...</th>\n",
       "      <td>...</td>\n",
       "      <td>...</td>\n",
       "      <td>...</td>\n",
       "      <td>...</td>\n",
       "      <td>...</td>\n",
       "      <td>...</td>\n",
       "      <td>...</td>\n",
       "    </tr>\n",
       "    <tr>\n",
       "      <th>2021-08-08</th>\n",
       "      <td>3218.42</td>\n",
       "      <td>3296.17</td>\n",
       "      <td>3194.00</td>\n",
       "      <td>3270.36</td>\n",
       "      <td>3469060</td>\n",
       "      <td>1.016138</td>\n",
       "      <td>6</td>\n",
       "    </tr>\n",
       "    <tr>\n",
       "      <th>2021-08-15</th>\n",
       "      <td>3258.10</td>\n",
       "      <td>3275.15</td>\n",
       "      <td>3146.76</td>\n",
       "      <td>3171.29</td>\n",
       "      <td>3395847</td>\n",
       "      <td>0.973356</td>\n",
       "      <td>6</td>\n",
       "    </tr>\n",
       "    <tr>\n",
       "      <th>2021-08-22</th>\n",
       "      <td>3169.74</td>\n",
       "      <td>3179.49</td>\n",
       "      <td>3049.03</td>\n",
       "      <td>3060.51</td>\n",
       "      <td>2641351</td>\n",
       "      <td>0.965540</td>\n",
       "      <td>6</td>\n",
       "    </tr>\n",
       "    <tr>\n",
       "      <th>2021-08-29</th>\n",
       "      <td>3086.81</td>\n",
       "      <td>3161.00</td>\n",
       "      <td>3064.65</td>\n",
       "      <td>3133.90</td>\n",
       "      <td>3030591</td>\n",
       "      <td>1.015255</td>\n",
       "      <td>6</td>\n",
       "    </tr>\n",
       "    <tr>\n",
       "      <th>2021-09-05</th>\n",
       "      <td>3160.87</td>\n",
       "      <td>3199.89</td>\n",
       "      <td>3130.30</td>\n",
       "      <td>3199.27</td>\n",
       "      <td>1264079</td>\n",
       "      <td>1.012149</td>\n",
       "      <td>6</td>\n",
       "    </tr>\n",
       "  </tbody>\n",
       "</table>\n",
       "<p>88 rows × 7 columns</p>\n",
       "</div>"
      ],
      "text/plain": [
       "                 시가       고가       저가       종가      거래량       수익율  요일\n",
       "일자                                                                   \n",
       "2020-01-05  2201.21  2203.38  2165.39  2176.46  1126241  0.988756   6\n",
       "2020-01-12  2154.97  2206.92  2137.72  2206.39  3261879  1.023861   6\n",
       "2020-01-19  2204.49  2268.71  2204.49  2250.57  3459492  1.020903   6\n",
       "2020-01-26  2261.40  2277.23  2235.13  2246.13  2433930  0.993248   6\n",
       "2020-02-02  2192.22  2199.93  2119.01  2119.01  2814526  0.966605   6\n",
       "...             ...      ...      ...      ...      ...       ...  ..\n",
       "2021-08-08  3218.42  3296.17  3194.00  3270.36  3469060  1.016138   6\n",
       "2021-08-15  3258.10  3275.15  3146.76  3171.29  3395847  0.973356   6\n",
       "2021-08-22  3169.74  3179.49  3049.03  3060.51  2641351  0.965540   6\n",
       "2021-08-29  3086.81  3161.00  3064.65  3133.90  3030591  1.015255   6\n",
       "2021-09-05  3160.87  3199.89  3130.30  3199.27  1264079  1.012149   6\n",
       "\n",
       "[88 rows x 7 columns]"
      ]
     },
     "execution_count": 64,
     "metadata": {},
     "output_type": "execute_result"
    }
   ],
   "source": [
    "group_data"
   ]
  },
  {
   "cell_type": "code",
   "execution_count": null,
   "metadata": {},
   "outputs": [],
   "source": []
  }
 ],
 "metadata": {
  "kernelspec": {
   "display_name": "Python 3",
   "language": "python",
   "name": "python3"
  },
  "language_info": {
   "codemirror_mode": {
    "name": "ipython",
    "version": 3
   },
   "file_extension": ".py",
   "mimetype": "text/x-python",
   "name": "python",
   "nbconvert_exporter": "python",
   "pygments_lexer": "ipython3",
   "version": "3.11.1"
  },
  "orig_nbformat": 4
 },
 "nbformat": 4,
 "nbformat_minor": 2
}
