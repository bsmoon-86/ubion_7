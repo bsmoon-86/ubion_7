{
 "cells": [
  {
   "cell_type": "code",
   "execution_count": null,
   "metadata": {},
   "outputs": [],
   "source": [
    "import pandas as pd"
   ]
  },
  {
   "cell_type": "code",
   "execution_count": null,
   "metadata": {},
   "outputs": [],
   "source": [
    "df = pd.read_csv(\"../csv/AAPL.csv\")"
   ]
  },
  {
   "cell_type": "code",
   "execution_count": null,
   "metadata": {},
   "outputs": [],
   "source": [
    "df.head()"
   ]
  },
  {
   "cell_type": "code",
   "execution_count": null,
   "metadata": {},
   "outputs": [],
   "source": [
    "# 컬럼의 데이터를 인덱스로 변경\n",
    "# set_index(컬럼명)\n",
    "df = df.set_index('Date')"
   ]
  },
  {
   "cell_type": "code",
   "execution_count": null,
   "metadata": {},
   "outputs": [],
   "source": [
    "# 컬럼의 이름을 변경하려면?\n",
    "df.columns = ['시가', '고가', '저가', '종가', '수정종가', '거래량']"
   ]
  },
  {
   "cell_type": "code",
   "execution_count": null,
   "metadata": {},
   "outputs": [],
   "source": [
    "df.head(1)"
   ]
  },
  {
   "cell_type": "code",
   "execution_count": null,
   "metadata": {},
   "outputs": [],
   "source": [
    "df.index.name = \"날짜\""
   ]
  },
  {
   "cell_type": "code",
   "execution_count": null,
   "metadata": {},
   "outputs": [],
   "source": [
    "df.head(1)"
   ]
  },
  {
   "cell_type": "code",
   "execution_count": null,
   "metadata": {},
   "outputs": [],
   "source": [
    "# 데이터프레임에서 특정 컬럼으로 필터\n",
    "df.loc[:,'시가' : '수정종가']\n",
    "df.iloc[:, 1:3]"
   ]
  },
  {
   "cell_type": "code",
   "execution_count": null,
   "metadata": {},
   "outputs": [],
   "source": [
    "# 시가가 100달러 이상인 경우\n",
    "df.loc[df['시가'] >= 100]"
   ]
  },
  {
   "cell_type": "code",
   "execution_count": null,
   "metadata": {},
   "outputs": [],
   "source": [
    "# query() 함수\n",
    "# query(조건식)\n",
    "df.query(\"시가 >= 100 & 고가 < 150\")"
   ]
  },
  {
   "cell_type": "code",
   "execution_count": null,
   "metadata": {},
   "outputs": [],
   "source": [
    "data = [\n",
    "    [100, 900, 800, 700], \n",
    "    [1200, 1400, 900, 800]\n",
    "]\n",
    "columns = [\n",
    "    ['영업이익', '영업이익', '당기순이익', '당기순이익'],\n",
    "    ['컨센서스', '잠정치', '컨센서스', '잠정치']\n",
    "]\n",
    "\n",
    "df = pd.DataFrame(data, columns=columns)"
   ]
  },
  {
   "cell_type": "code",
   "execution_count": null,
   "metadata": {},
   "outputs": [],
   "source": [
    "df"
   ]
  },
  {
   "cell_type": "code",
   "execution_count": null,
   "metadata": {},
   "outputs": [],
   "source": [
    "# stack(), unstack()\n",
    "stack_df = df.stack()"
   ]
  },
  {
   "cell_type": "code",
   "execution_count": null,
   "metadata": {},
   "outputs": [],
   "source": [
    "stack_df"
   ]
  },
  {
   "cell_type": "code",
   "execution_count": null,
   "metadata": {},
   "outputs": [],
   "source": [
    "stack_df.stack()"
   ]
  },
  {
   "cell_type": "code",
   "execution_count": null,
   "metadata": {},
   "outputs": [],
   "source": [
    "stack_df.unstack()"
   ]
  },
  {
   "cell_type": "code",
   "execution_count": null,
   "metadata": {},
   "outputs": [],
   "source": [
    "df"
   ]
  },
  {
   "cell_type": "code",
   "execution_count": null,
   "metadata": {},
   "outputs": [],
   "source": [
    "df.stack(level=0)"
   ]
  },
  {
   "attachments": {},
   "cell_type": "markdown",
   "metadata": {},
   "source": [
    "## 할로윈 투자 전략\n",
    "1. 11월 1일에 구매 -> 6개월간 유지 4월 말일에 판매\n",
    "2. 11월 첫날의 시가로 구매\n",
    "3. 4월 마지막 날의 종가 판매\n",
    "4. 수익율 = (3번과정 - 2번 과정) / 2번 과정\n",
    "5. AMZN 데이터로 2000년부터 2019년까지 데이터로 백테스팅"
   ]
  },
  {
   "cell_type": "code",
   "execution_count": null,
   "metadata": {},
   "outputs": [],
   "source": [
    "df = pd.read_csv(\"../csv/AMZN.csv\")"
   ]
  },
  {
   "cell_type": "code",
   "execution_count": null,
   "metadata": {},
   "outputs": [],
   "source": [
    "df"
   ]
  },
  {
   "cell_type": "code",
   "execution_count": null,
   "metadata": {},
   "outputs": [],
   "source": [
    "# Date 컬럼의 데이터를 시계열로 변경\n",
    "df['Date'] = pd.to_datetime(df['Date'], format=\"%Y-%m-%d\")"
   ]
  },
  {
   "cell_type": "code",
   "execution_count": null,
   "metadata": {},
   "outputs": [],
   "source": [
    "# Date 컬럼을 인덱스로 변환\n",
    "df.set_index('Date', inplace=True)"
   ]
  },
  {
   "cell_type": "code",
   "execution_count": null,
   "metadata": {},
   "outputs": [],
   "source": [
    "df.loc[\"2000-11\"].iloc[0]['Open']"
   ]
  },
  {
   "cell_type": "code",
   "execution_count": null,
   "metadata": {},
   "outputs": [],
   "source": [
    "df.loc[\"2001-04\"].iloc[-1]['Close']"
   ]
  },
  {
   "cell_type": "code",
   "execution_count": null,
   "metadata": {},
   "outputs": [],
   "source": [
    "for i in range(2000, 2020, 1):\n",
    "    buy_mon = str(i)+\"-11\"\n",
    "    sell_mon = str(i+1)+\"-04\"\n",
    "    print(buy_mon, sell_mon)"
   ]
  },
  {
   "cell_type": "code",
   "execution_count": null,
   "metadata": {},
   "outputs": [],
   "source": [
    "acc_rtn = 1\n",
    "\n",
    "for i in range(2000, 2019, 1):\n",
    "    buy_mon = str(i) + \"-11\"\n",
    "    sell_mon = str(i+1) + \"-04\"\n",
    "\n",
    "    # 구입가 저장 \n",
    "    buy = df.loc[buy_mon].iloc[0]['Open']\n",
    "    sell = df.loc[sell_mon].iloc[-1]['Close']\n",
    "\n",
    "    # 수익율 \n",
    "    rtn = (sell - buy) / buy + 1\n",
    "\n",
    "    # 누적 수익율\n",
    "    acc_rtn *= rtn\n",
    "\n"
   ]
  },
  {
   "cell_type": "code",
   "execution_count": null,
   "metadata": {},
   "outputs": [],
   "source": [
    "acc_rtn"
   ]
  },
  {
   "cell_type": "code",
   "execution_count": 19,
   "metadata": {},
   "outputs": [
    {
     "data": {
      "text/plain": [
       "53.794625340314134"
      ]
     },
     "execution_count": 19,
     "metadata": {},
     "output_type": "execute_result"
    }
   ],
   "source": [
    "# buyandhold 인 경우\n",
    "buy = df.loc[\"2000-11\"].iloc[0]['Open']\n",
    "sell = df.loc['2019-04'].iloc[-1]['Close']\n",
    "\n",
    "rtn = (sell-buy)/buy +1\n",
    "\n",
    "rtn"
   ]
  },
  {
   "cell_type": "code",
   "execution_count": 20,
   "metadata": {},
   "outputs": [
    {
     "name": "stdout",
     "output_type": "stream",
     "text": [
      "11.124213625243007\n"
     ]
    }
   ],
   "source": [
    "# CAGR(연복리수익율)\n",
    "# (수익율 ** (1/투자기간)) - 1 \n",
    "\n",
    "#  할로윈 CAGR\n",
    "CAGR = (acc_rtn ** (1/20)) - 1\n",
    "print(CAGR * 100)"
   ]
  },
  {
   "cell_type": "code",
   "execution_count": 21,
   "metadata": {},
   "outputs": [
    {
     "name": "stdout",
     "output_type": "stream",
     "text": [
      "22.04976410456394\n"
     ]
    }
   ],
   "source": [
    "# 바이앤홀드 CAGR\n",
    "CAGR = (rtn ** (1/20)) - 1 \n",
    "print(CAGR * 100)"
   ]
  },
  {
   "cell_type": "code",
   "execution_count": 22,
   "metadata": {},
   "outputs": [],
   "source": [
    "from datetime import datetime\n",
    "from dateutil.relativedelta import relativedelta"
   ]
  },
  {
   "cell_type": "code",
   "execution_count": 23,
   "metadata": {},
   "outputs": [
    {
     "data": {
      "text/plain": [
       "datetime.datetime(2000, 11, 1, 0, 0)"
      ]
     },
     "execution_count": 23,
     "metadata": {},
     "output_type": "execute_result"
    }
   ],
   "source": [
    "start = datetime(year = 2000, month=11, day=1)\n",
    "start"
   ]
  },
  {
   "cell_type": "code",
   "execution_count": 24,
   "metadata": {},
   "outputs": [
    {
     "data": {
      "text/plain": [
       "datetime.datetime(2001, 4, 1, 0, 0)"
      ]
     },
     "execution_count": 24,
     "metadata": {},
     "output_type": "execute_result"
    }
   ],
   "source": [
    "end = start + relativedelta(months=5)\n",
    "end"
   ]
  },
  {
   "cell_type": "code",
   "execution_count": 25,
   "metadata": {},
   "outputs": [
    {
     "name": "stdout",
     "output_type": "stream",
     "text": [
      "2000-11 2001-04\n"
     ]
    }
   ],
   "source": [
    "print(start.strftime(\"%Y-%m\"), end.strftime(\"%Y-%m\"))"
   ]
  },
  {
   "cell_type": "code",
   "execution_count": 41,
   "metadata": {},
   "outputs": [],
   "source": [
    "def six_month(df, start = 2000, end = 2019, month=11):\n",
    "    if 'Date' in df.columns:\n",
    "        df['Date'] = pd.to_datetime(df['Date'], format=\"%Y-%m-%d\")\n",
    "        df.set_index('Date', inplace=True)\n",
    "\n",
    "    # 누적 수익율 변수를 생성\n",
    "    acc_rtn = 1\n",
    "\n",
    "    for i in range(start, end):\n",
    "        start_ = datetime(year=i, month=month, day=1)\n",
    "        end_ = start_ + relativedelta(months=5)\n",
    "\n",
    "        buy_mon = start_.strftime(\"%Y-%m\")\n",
    "        sell_mon = end_.strftime(\"%Y-%m\")\n",
    "\n",
    "        buy = df.loc[buy_mon].iloc[0]['Open']\n",
    "        sell = df.loc[sell_mon].iloc[-1]['Close']\n",
    "\n",
    "        rtn = (sell - buy) / buy + 1\n",
    "\n",
    "        acc_rtn *= rtn\n",
    "    \n",
    "    return acc_rtn"
   ]
  },
  {
   "cell_type": "code",
   "execution_count": 42,
   "metadata": {},
   "outputs": [],
   "source": [
    "data = pd.read_csv('../csv/AMZN.csv')"
   ]
  },
  {
   "cell_type": "code",
   "execution_count": 43,
   "metadata": {},
   "outputs": [
    {
     "data": {
      "text/plain": [
       "8.244683980501206"
      ]
     },
     "execution_count": 43,
     "metadata": {},
     "output_type": "execute_result"
    }
   ],
   "source": [
    "six_month(data)"
   ]
  },
  {
   "cell_type": "code",
   "execution_count": 44,
   "metadata": {},
   "outputs": [
    {
     "name": "stdout",
     "output_type": "stream",
     "text": [
      "1월 : 4.470910943811504\n",
      "2월 : 4.408415564523263\n",
      "3월 : 18.50624959809526\n",
      "4월 : 13.582616833702685\n",
      "5월 : 4.304179383672146\n",
      "6월 : 5.111566986774566\n",
      "7월 : 3.589575312504607\n",
      "8월 : 6.418767529470167\n",
      "9월 : 1.3058661611037958\n",
      "10월 : 1.9960729229032756\n",
      "11월 : 8.244683980501206\n",
      "12월 : 6.23900557812782\n"
     ]
    }
   ],
   "source": [
    "for i in range(1, 13, 1):\n",
    "    print(f\"{i}월 :\", six_month(data, month=i))"
   ]
  }
 ],
 "metadata": {
  "kernelspec": {
   "display_name": "Python 3",
   "language": "python",
   "name": "python3"
  },
  "language_info": {
   "codemirror_mode": {
    "name": "ipython",
    "version": 3
   },
   "file_extension": ".py",
   "mimetype": "text/x-python",
   "name": "python",
   "nbconvert_exporter": "python",
   "pygments_lexer": "ipython3",
   "version": "3.11.1"
  },
  "orig_nbformat": 4
 },
 "nbformat": 4,
 "nbformat_minor": 2
}
