{
 "cells": [
  {
   "cell_type": "code",
   "execution_count": null,
   "metadata": {},
   "outputs": [],
   "source": [
    "import pandas as pd\n",
    "import numpy as np"
   ]
  },
  {
   "attachments": {},
   "cell_type": "markdown",
   "metadata": {},
   "source": [
    "# 절대 모멘텀\n",
    "1. 주식 데이터 로드 \n",
    "2. 파생변수 년월 파생변수 생성 -> Date 컬럼에서 년-월 추출하여 대입\n",
    "3. 년, 월 별 마지막날의 month_last_dt 데이터프레임을 생성\n",
    "4. 전월의 종가를 가지는 파생변수 하나 생성\n",
    "5. 전년도의 종가를 가지는 파생변수 하나 생성\n",
    "6. 전월, 전년도의 종가를 가지고 거래내역 생성\n",
    "7. 수익율 계산"
   ]
  },
  {
   "cell_type": "code",
   "execution_count": null,
   "metadata": {},
   "outputs": [],
   "source": [
    "df = pd.read_csv(\"../csv/GDX.csv\", index_col='Date')\n",
    "df.head(3)"
   ]
  },
  {
   "cell_type": "code",
   "execution_count": null,
   "metadata": {},
   "outputs": [],
   "source": [
    "# index를 시계열 데이터로 변경\n",
    "df.index = pd.to_datetime(df.index, format='%Y-%m-%d')"
   ]
  },
  {
   "cell_type": "code",
   "execution_count": null,
   "metadata": {},
   "outputs": [],
   "source": [
    "from datetime import datetime"
   ]
  },
  {
   "cell_type": "code",
   "execution_count": null,
   "metadata": {},
   "outputs": [],
   "source": [
    "# datetime 라이브러리를 이용하여 시계열로 변경\n",
    "test_df = df.copy()"
   ]
  },
  {
   "cell_type": "code",
   "execution_count": null,
   "metadata": {},
   "outputs": [],
   "source": [
    "# case1\n",
    "test_df = test_df.reset_index()\n",
    "test_df['Date'] = test_df['Date'].apply(lambda x : datetime.strptime(x, '%Y-%m-%d'))\n",
    "test_df.set_index('Date')"
   ]
  },
  {
   "cell_type": "code",
   "execution_count": null,
   "metadata": {},
   "outputs": [],
   "source": [
    "# case2\n",
    "test_df.index\n",
    "\n",
    "def change(x):\n",
    "    return datetime.strptime(x, '%Y-%m-%d')\n",
    "\n",
    "test_df.index = list(map(change, test_df.index))"
   ]
  },
  {
   "cell_type": "code",
   "execution_count": null,
   "metadata": {},
   "outputs": [],
   "source": [
    "test_df.head(2)"
   ]
  },
  {
   "cell_type": "code",
   "execution_count": null,
   "metadata": {},
   "outputs": [],
   "source": [
    "# map 함수\n",
    "x = [1,2,3,4]\n",
    "def change(x):\n",
    "    return x**2\n",
    "\n",
    "list(map(lambda y : y**2, x))"
   ]
  },
  {
   "cell_type": "code",
   "execution_count": null,
   "metadata": {},
   "outputs": [],
   "source": [
    "df.index"
   ]
  },
  {
   "cell_type": "code",
   "execution_count": null,
   "metadata": {},
   "outputs": [],
   "source": [
    "# 새로운 파생변수 년-월의 데이터를 대입\n",
    "df['STD-YM'] = list(map(lambda x : datetime.strftime(x, '%Y-%m'), df.index))"
   ]
  },
  {
   "cell_type": "code",
   "execution_count": null,
   "metadata": {},
   "outputs": [],
   "source": [
    "df.head(2)"
   ]
  },
  {
   "cell_type": "code",
   "execution_count": null,
   "metadata": {},
   "outputs": [],
   "source": [
    "(df['STD-YM'] != df.shift(-1)['STD-YM']).iloc[24:30]"
   ]
  },
  {
   "cell_type": "code",
   "execution_count": null,
   "metadata": {},
   "outputs": [],
   "source": [
    "# 월별 마지막 인덱스만 추출하여 새로운 데이터프레임에 대입\n",
    "\n",
    "# case1 (shift 이용)\n",
    "# 현재의 STD-YM의 값과 다음 행의 STD-YM의 값이 다른 경우 \n",
    "df.loc[df['STD-YM'] != df.shift(-1)['STD-YM']]"
   ]
  },
  {
   "cell_type": "code",
   "execution_count": null,
   "metadata": {},
   "outputs": [],
   "source": [
    "last_df = df.loc[df['STD-YM'] == \"2006-06\"]\n",
    "last_df.tail(1)"
   ]
  },
  {
   "cell_type": "code",
   "execution_count": null,
   "metadata": {},
   "outputs": [],
   "source": [
    "# case2 (for문)\n",
    "month_list_df = pd.DataFrame()\n",
    "\n",
    "_list = df['STD-YM'].unique()\n",
    "\n",
    "for i in _list:\n",
    "    last_df = df.loc[df['STD-YM'] == i].tail(1)\n",
    "    month_list_df = pd.concat([month_list_df, last_df])\n",
    "\n",
    "month_list_df"
   ]
  },
  {
   "cell_type": "code",
   "execution_count": null,
   "metadata": {},
   "outputs": [],
   "source": [
    "x = pd.Series([1,1,1,2,2,4,4,4,4,7,7,7,7,7,7])\n",
    "\n",
    "x.unique()"
   ]
  },
  {
   "cell_type": "code",
   "execution_count": null,
   "metadata": {},
   "outputs": [],
   "source": [
    "# 전월의 종가(Adj Close)를 가지는 파생변수(BF_1M)을 생성하고 결측치는 0으로 대체\n",
    "# 전년도의 종가(Adj Close)를 가지는 파생변수(BF_12M)을 생성하고 결측치는 0으로 대체\n",
    "\n",
    "month_list_df['BF_1M'] = month_list_df.shift(1)['Adj Close'].fillna(0)"
   ]
  },
  {
   "cell_type": "code",
   "execution_count": null,
   "metadata": {},
   "outputs": [],
   "source": [
    "month_list_df.head(3)"
   ]
  },
  {
   "cell_type": "code",
   "execution_count": null,
   "metadata": {},
   "outputs": [],
   "source": [
    "month_list_df['BF_12M'] = month_list_df.shift(12)['Adj Close'].fillna(0)"
   ]
  },
  {
   "cell_type": "code",
   "execution_count": 69,
   "metadata": {},
   "outputs": [
    {
     "data": {
      "text/html": [
       "<div>\n",
       "<style scoped>\n",
       "    .dataframe tbody tr th:only-of-type {\n",
       "        vertical-align: middle;\n",
       "    }\n",
       "\n",
       "    .dataframe tbody tr th {\n",
       "        vertical-align: top;\n",
       "    }\n",
       "\n",
       "    .dataframe thead th {\n",
       "        text-align: right;\n",
       "    }\n",
       "</style>\n",
       "<table border=\"1\" class=\"dataframe\">\n",
       "  <thead>\n",
       "    <tr style=\"text-align: right;\">\n",
       "      <th></th>\n",
       "      <th>Adj Close</th>\n",
       "      <th>BF_12M</th>\n",
       "    </tr>\n",
       "    <tr>\n",
       "      <th>Date</th>\n",
       "      <th></th>\n",
       "      <th></th>\n",
       "    </tr>\n",
       "  </thead>\n",
       "  <tbody>\n",
       "    <tr>\n",
       "      <th>2006-05-31</th>\n",
       "      <td>35.771877</td>\n",
       "      <td>0.000000</td>\n",
       "    </tr>\n",
       "    <tr>\n",
       "      <th>2007-05-31</th>\n",
       "      <td>36.162109</td>\n",
       "      <td>35.771877</td>\n",
       "    </tr>\n",
       "  </tbody>\n",
       "</table>\n",
       "</div>"
      ],
      "text/plain": [
       "            Adj Close     BF_12M\n",
       "Date                            \n",
       "2006-05-31  35.771877   0.000000\n",
       "2007-05-31  36.162109  35.771877"
      ]
     },
     "execution_count": 69,
     "metadata": {},
     "output_type": "execute_result"
    }
   ],
   "source": [
    "month_list_df.iloc[[0,12], [4, 8]]"
   ]
  },
  {
   "cell_type": "code",
   "execution_count": 71,
   "metadata": {},
   "outputs": [
    {
     "name": "stdout",
     "output_type": "stream",
     "text": [
      "날짜 : 2006-05-31 00:00:00 모멘텀 인덱스 : nan flag : False signal : \n",
      "날짜 : 2006-06-30 00:00:00 모멘텀 인덱스 : inf flag : False signal : \n",
      "날짜 : 2006-07-31 00:00:00 모멘텀 인덱스 : inf flag : False signal : \n",
      "날짜 : 2006-08-31 00:00:00 모멘텀 인덱스 : inf flag : False signal : \n",
      "날짜 : 2006-09-29 00:00:00 모멘텀 인덱스 : inf flag : False signal : \n",
      "날짜 : 2006-10-31 00:00:00 모멘텀 인덱스 : inf flag : False signal : \n",
      "날짜 : 2006-11-30 00:00:00 모멘텀 인덱스 : inf flag : False signal : \n",
      "날짜 : 2006-12-29 00:00:00 모멘텀 인덱스 : inf flag : False signal : \n",
      "날짜 : 2007-01-31 00:00:00 모멘텀 인덱스 : inf flag : False signal : \n",
      "날짜 : 2007-02-28 00:00:00 모멘텀 인덱스 : inf flag : False signal : \n",
      "날짜 : 2007-03-30 00:00:00 모멘텀 인덱스 : inf flag : False signal : \n",
      "날짜 : 2007-04-30 00:00:00 모멘텀 인덱스 : inf flag : False signal : \n",
      "날짜 : 2007-05-31 00:00:00 모멘텀 인덱스 : 0.02123525695897932 flag : True signal : buy\n",
      "날짜 : 2007-06-29 00:00:00 모멘텀 인덱스 : 0.014827231670955676 flag : True signal : buy\n",
      "날짜 : 2007-07-31 00:00:00 모멘텀 인덱스 : -0.019604388455949806 flag : False signal : \n",
      "날짜 : 2007-08-31 00:00:00 모멘텀 인덱스 : -0.013153819290259716 flag : False signal : \n",
      "날짜 : 2007-09-28 00:00:00 모멘텀 인덱스 : 0.05917033742480693 flag : True signal : buy\n",
      "날짜 : 2007-10-31 00:00:00 모멘텀 인덱스 : 0.19815092488803265 flag : True signal : buy\n",
      "날짜 : 2007-11-30 00:00:00 모멘텀 인덱스 : 0.20883941344357249 flag : True signal : buy\n",
      "날짜 : 2007-12-31 00:00:00 모멘텀 인덱스 : 0.16161379606082193 flag : True signal : buy\n",
      "날짜 : 2008-01-31 00:00:00 모멘텀 인덱스 : 0.17680617026317558 flag : True signal : buy\n",
      "날짜 : 2008-02-29 00:00:00 모멘텀 인덱스 : 0.2802601898253487 flag : True signal : buy\n",
      "날짜 : 2008-03-31 00:00:00 모멘텀 인덱스 : 0.365029677976082 flag : True signal : buy\n",
      "날짜 : 2008-04-30 00:00:00 모멘텀 인덱스 : 0.22606127719577462 flag : True signal : buy\n",
      "날짜 : 2008-05-30 00:00:00 모멘텀 인덱스 : 0.13212409707630712 flag : True signal : buy\n",
      "날짜 : 2008-06-30 00:00:00 모멘텀 인덱스 : 0.23501487796082343 flag : True signal : buy\n",
      "날짜 : 2008-07-31 00:00:00 모멘텀 인덱스 : 0.23705506591070358 flag : True signal : buy\n",
      "날짜 : 2008-08-29 00:00:00 모멘텀 인덱스 : 0.1742883942766662 flag : True signal : buy\n",
      "날짜 : 2008-09-30 00:00:00 모멘텀 인덱스 : -0.15603876113042192 flag : False signal : \n",
      "날짜 : 2008-10-31 00:00:00 모멘텀 인덱스 : -0.320971751900909 flag : False signal : \n",
      "날짜 : 2008-11-28 00:00:00 모멘텀 인덱스 : -0.5404943986138491 flag : False signal : \n",
      "날짜 : 2008-12-31 00:00:00 모멘텀 인덱스 : -0.42024876314505843 flag : False signal : \n",
      "날짜 : 2009-01-30 00:00:00 모멘텀 인덱스 : -0.32711021681097885 flag : False signal : \n",
      "날짜 : 2009-02-27 00:00:00 모멘텀 인덱스 : -0.3556099402987438 flag : False signal : \n",
      "날짜 : 2009-03-31 00:00:00 모멘텀 인덱스 : -0.3006290263019352 flag : False signal : \n",
      "날짜 : 2009-04-30 00:00:00 모멘텀 인덱스 : -0.1541283285452283 flag : False signal : \n",
      "날짜 : 2009-05-29 00:00:00 모멘텀 인덱스 : -0.284876132526271 flag : False signal : \n",
      "날짜 : 2009-06-30 00:00:00 모멘텀 인덱스 : -0.09117102143686517 flag : False signal : \n",
      "날짜 : 2009-07-31 00:00:00 모멘텀 인덱스 : -0.13040470257706882 flag : False signal : \n",
      "날짜 : 2009-08-31 00:00:00 모멘텀 인덱스 : 0.05658880997819882 flag : True signal : buy\n",
      "날짜 : 2009-09-30 00:00:00 모멘텀 인덱스 : 0.1692807519599573 flag : True signal : buy\n",
      "날짜 : 2009-10-30 00:00:00 모멘텀 인덱스 : 1.1618139476199958 flag : True signal : buy\n",
      "날짜 : 2009-11-30 00:00:00 모멘텀 인덱스 : 0.5946554777541244 flag : True signal : buy\n",
      "날짜 : 2009-12-31 00:00:00 모멘텀 인덱스 : 0.5085595015548512 flag : True signal : buy\n",
      "날짜 : 2010-01-29 00:00:00 모멘텀 인덱스 : 0.3532863324289095 flag : True signal : buy\n",
      "날짜 : 2010-02-26 00:00:00 모멘텀 인덱스 : 0.2236080389907935 flag : True signal : buy\n",
      "날짜 : 2010-03-31 00:00:00 모멘텀 인덱스 : 0.19298566196193812 flag : True signal : buy\n",
      "날짜 : 2010-04-30 00:00:00 모멘텀 인덱스 : 0.3527373549799149 flag : True signal : buy\n",
      "날짜 : 2010-05-28 00:00:00 모멘텀 인덱스 : 0.14659192175379476 flag : True signal : buy\n",
      "날짜 : 2010-06-30 00:00:00 모멘텀 인덱스 : 0.3219229105894048 flag : True signal : buy\n",
      "날짜 : 2010-07-30 00:00:00 모멘텀 인덱스 : 0.3097067652650922 flag : True signal : buy\n",
      "날짜 : 2010-08-31 00:00:00 모멘텀 인덱스 : 0.2234347385931279 flag : True signal : buy\n",
      "날짜 : 2010-09-30 00:00:00 모멘텀 인덱스 : 0.186598965826263 flag : True signal : buy\n",
      "날짜 : 2010-10-29 00:00:00 모멘텀 인덱스 : 0.3232654268939421 flag : True signal : buy\n",
      "날짜 : 2010-11-30 00:00:00 모멘텀 인덱스 : 0.1238524684322746 flag : True signal : buy\n",
      "날짜 : 2010-12-31 00:00:00 모멘텀 인덱스 : 0.28759992934661915 flag : True signal : buy\n",
      "날짜 : 2011-01-31 00:00:00 모멘텀 인덱스 : 0.5197617669395509 flag : True signal : buy\n",
      "날짜 : 2011-02-28 00:00:00 모멘텀 인덱스 : 0.23681388302472395 flag : True signal : buy\n",
      "날짜 : 2011-03-31 00:00:00 모멘텀 인덱스 : 0.356307942053282 flag : True signal : buy\n",
      "날짜 : 2011-04-29 00:00:00 모멘텀 인덱스 : 0.1978906111905363 flag : True signal : buy\n",
      "날짜 : 2011-05-31 00:00:00 모멘텀 인덱스 : 0.255909198539376 flag : True signal : buy\n",
      "날짜 : 2011-06-30 00:00:00 모멘텀 인덱스 : 0.12668014223566537 flag : True signal : buy\n",
      "날짜 : 2011-07-29 00:00:00 모멘텀 인덱스 : 0.13974039523897108 flag : True signal : buy\n",
      "날짜 : 2011-08-31 00:00:00 모멘텀 인덱스 : 0.06834185281658978 flag : True signal : buy\n",
      "날짜 : 2011-09-30 00:00:00 모멘텀 인덱스 : 0.1304070990172881 flag : True signal : buy\n",
      "날짜 : 2011-10-31 00:00:00 모멘텀 인덱스 : -0.030325708813168317 flag : False signal : \n",
      "날짜 : 2011-11-30 00:00:00 모멘텀 인덱스 : -0.00458998099329444 flag : False signal : \n",
      "날짜 : 2011-12-30 00:00:00 모멘텀 인덱스 : -0.017244097618804077 flag : False signal : \n",
      "날짜 : 2012-01-31 00:00:00 모멘텀 인덱스 : -0.04344126273341076 flag : False signal : \n",
      "날짜 : 2012-02-29 00:00:00 모멘텀 인덱스 : -0.05361718833075768 flag : False signal : \n",
      "날짜 : 2012-03-30 00:00:00 모멘텀 인덱스 : -0.07555659602406029 flag : False signal : \n",
      "날짜 : 2012-04-30 00:00:00 모멘텀 인덱스 : -0.2012505636799743 flag : False signal : \n",
      "날짜 : 2012-05-31 00:00:00 모멘텀 인덱스 : -0.19994534805437103 flag : False signal : \n",
      "날짜 : 2012-06-29 00:00:00 모멘텀 인덱스 : -0.1957194203864071 flag : False signal : \n",
      "날짜 : 2012-07-31 00:00:00 모멘텀 인덱스 : -0.21078350447692895 flag : False signal : \n",
      "날짜 : 2012-08-31 00:00:00 모멘텀 인덱스 : -0.31603571761219706 flag : False signal : \n",
      "날짜 : 2012-09-28 00:00:00 모멘텀 인덱스 : -0.12887077062573693 flag : False signal : \n",
      "날짜 : 2012-10-31 00:00:00 모멘텀 인덱스 : -0.08475042126401144 flag : False signal : \n",
      "날짜 : 2012-11-30 00:00:00 모멘텀 인덱스 : -0.12180330738798684 flag : False signal : \n",
      "날짜 : 2012-12-31 00:00:00 모멘텀 인덱스 : -0.07544241622128056 flag : False signal : \n",
      "날짜 : 2013-01-31 00:00:00 모멘텀 인덱스 : -0.16986767678813952 flag : False signal : \n",
      "날짜 : 2013-02-28 00:00:00 모멘텀 인덱스 : -0.24097491874755916 flag : False signal : \n",
      "날짜 : 2013-03-28 00:00:00 모멘텀 인덱스 : -0.23725482099842843 flag : False signal : \n",
      "날짜 : 2013-04-30 00:00:00 모멘텀 인덱스 : -0.1756618798823547 flag : False signal : \n",
      "날짜 : 2013-05-31 00:00:00 모멘텀 인덱스 : -0.2993680335638734 flag : False signal : \n",
      "날짜 : 2013-06-28 00:00:00 모멘텀 인덱스 : -0.33426900912464863 flag : False signal : \n",
      "날짜 : 2013-07-31 00:00:00 모멘텀 인덱스 : -0.4222970413281275 flag : False signal : \n",
      "날짜 : 2013-08-30 00:00:00 모멘텀 인덱스 : -0.43118802709324955 flag : False signal : \n",
      "날짜 : 2013-09-30 00:00:00 모멘텀 인덱스 : -0.47065335371274875 flag : False signal : \n",
      "날짜 : 2013-10-31 00:00:00 모멘텀 인덱스 : -0.5221457542295851 flag : False signal : \n",
      "날짜 : 2013-11-29 00:00:00 모멘텀 인덱스 : -0.4666810033332749 flag : False signal : \n",
      "날짜 : 2013-12-31 00:00:00 모멘텀 인덱스 : -0.5197240472746099 flag : False signal : \n",
      "날짜 : 2014-01-31 00:00:00 모멘텀 인덱스 : -0.4875437913438945 flag : False signal : \n",
      "날짜 : 2014-02-28 00:00:00 모멘텀 인덱스 : -0.36629692419337145 flag : False signal : \n",
      "날짜 : 2014-03-31 00:00:00 모멘텀 인덱스 : -0.3098274399790064 flag : False signal : \n",
      "날짜 : 2014-04-30 00:00:00 모멘텀 인덱스 : -0.21502910609200898 flag : False signal : \n",
      "날짜 : 2014-05-30 00:00:00 모멘텀 인덱스 : -0.17503681352181566 flag : False signal : \n",
      "날짜 : 2014-06-30 00:00:00 모멘텀 인덱스 : -0.07262981960056658 flag : False signal : \n",
      "날짜 : 2014-07-31 00:00:00 모멘텀 인덱스 : -0.010804375880855366 flag : False signal : \n",
      "날짜 : 2014-08-29 00:00:00 모멘텀 인덱스 : -0.07026959303729896 flag : False signal : \n",
      "날짜 : 2014-09-30 00:00:00 모멘텀 인덱스 : 0.07676435478149446 flag : True signal : buy\n",
      "날짜 : 2014-10-31 00:00:00 모멘텀 인덱스 : -0.14101226642828624 flag : False signal : \n",
      "날짜 : 2014-11-28 00:00:00 모멘텀 인덱스 : -0.22030462794374095 flag : False signal : \n",
      "날짜 : 2014-12-31 00:00:00 모멘텀 인덱스 : -0.13109333922944244 flag : False signal : \n",
      "날짜 : 2015-01-30 00:00:00 모멘텀 인덱스 : -0.21206096065566782 flag : False signal : \n",
      "날짜 : 2015-02-27 00:00:00 모멘텀 인덱스 : -0.13305597888840237 flag : False signal : \n",
      "날짜 : 2015-03-31 00:00:00 모멘텀 인덱스 : -0.09276271912844325 flag : False signal : \n",
      "날짜 : 2015-04-30 00:00:00 모멘텀 인덱스 : -0.23849484314342828 flag : False signal : \n",
      "날짜 : 2015-05-29 00:00:00 모멘텀 인덱스 : -0.10034755610384427 flag : False signal : \n",
      "날짜 : 2015-06-30 00:00:00 모멘텀 인덱스 : -0.2548697684675234 flag : False signal : \n",
      "날짜 : 2015-07-31 00:00:00 모멘텀 인덱스 : -0.3100449573793722 flag : False signal : \n",
      "날짜 : 2015-08-31 00:00:00 모멘텀 인덱스 : -0.4814395946397202 flag : False signal : \n",
      "날짜 : 2015-09-30 00:00:00 모멘텀 인덱스 : -0.33507764482203617 flag : False signal : \n",
      "날짜 : 2015-10-30 00:00:00 모멘텀 인덱스 : -0.19696412499811145 flag : False signal : \n",
      "날짜 : 2015-11-30 00:00:00 모멘텀 인덱스 : -0.1798294022785626 flag : False signal : \n",
      "날짜 : 2015-12-31 00:00:00 모멘텀 인덱스 : -0.2513601001268818 flag : False signal : \n",
      "날짜 : 2016-01-29 00:00:00 모멘텀 인덱스 : -0.3791977687870235 flag : False signal : \n",
      "날짜 : 2016-02-29 00:00:00 모멘텀 인덱스 : -0.3265092917938043 flag : False signal : \n",
      "날짜 : 2016-03-31 00:00:00 모멘텀 인덱스 : 0.07161337807956514 flag : True signal : buy\n",
      "날짜 : 2016-04-29 00:00:00 모멘텀 인덱스 : 0.0015557194365176663 flag : True signal : buy\n",
      "날짜 : 2016-05-31 00:00:00 모멘텀 인덱스 : 0.33051851459406967 flag : True signal : buy\n",
      "날짜 : 2016-06-30 00:00:00 모멘텀 인덱스 : 0.2823015373079145 flag : True signal : buy\n",
      "날짜 : 2016-07-29 00:00:00 모멘텀 인덱스 : 1.0325583142916508 flag : True signal : buy\n",
      "날짜 : 2016-08-31 00:00:00 모멘텀 인덱스 : 1.186561382780165 flag : True signal : buy\n",
      "날짜 : 2016-09-30 00:00:00 모멘텀 인덱스 : 0.8724427620599857 flag : True signal : buy\n",
      "날짜 : 2016-10-31 00:00:00 모멘텀 인덱스 : 0.7818649780217433 flag : True signal : buy\n",
      "날짜 : 2016-11-30 00:00:00 모멘텀 인덱스 : 0.7972612568962663 flag : True signal : buy\n",
      "날짜 : 2016-12-30 00:00:00 모멘텀 인덱스 : 0.5182214464916264 flag : True signal : buy\n",
      "날짜 : 2017-01-31 00:00:00 모멘텀 인덱스 : 0.4764586915556577 flag : True signal : buy\n",
      "날짜 : 2017-02-28 00:00:00 모멘텀 인덱스 : 0.23834767778472887 flag : True signal : buy\n",
      "날짜 : 2017-03-31 00:00:00 모멘텀 인덱스 : 0.1475242348287047 flag : True signal : buy\n",
      "날짜 : 2017-04-28 00:00:00 모멘텀 인덱스 : -0.11436539634531417 flag : False signal : \n",
      "날짜 : 2017-05-31 00:00:00 모멘텀 인덱스 : -0.012654408243646165 flag : False signal : \n",
      "날짜 : 2017-06-30 00:00:00 모멘텀 인덱스 : -0.17879477447836167 flag : False signal : \n",
      "날짜 : 2017-07-31 00:00:00 모멘텀 인덱스 : -0.2761088728634029 flag : False signal : \n",
      "날짜 : 2017-08-31 00:00:00 모멘텀 인덱스 : -0.10058512227018401 flag : False signal : \n",
      "날짜 : 2017-09-29 00:00:00 모멘텀 인덱스 : -0.061995417625173466 flag : False signal : \n",
      "날짜 : 2017-10-31 00:00:00 모멘텀 인덱스 : -0.06091453098866351 flag : False signal : \n",
      "날짜 : 2017-11-30 00:00:00 모멘텀 인덱스 : 0.08233261913633871 flag : True signal : buy\n",
      "날짜 : 2017-12-29 00:00:00 모멘텀 인덱스 : 0.07409174455740897 flag : True signal : buy\n",
      "날짜 : 2018-01-31 00:00:00 모멘텀 인덱스 : -0.02099855197441236 flag : False signal : \n",
      "날짜 : 2018-02-28 00:00:00 모멘텀 인덱스 : 0.0477733651797303 flag : True signal : buy\n",
      "날짜 : 2018-03-29 00:00:00 모멘텀 인덱스 : -0.05645515030092174 flag : False signal : \n",
      "날짜 : 2018-04-30 00:00:00 모멘텀 인덱스 : -0.003268551889144433 flag : False signal : \n",
      "날짜 : 2018-05-31 00:00:00 모멘텀 인덱스 : -0.01014723893992886 flag : False signal : \n",
      "날짜 : 2018-06-29 00:00:00 모멘텀 인덱스 : 0.019938683673460966 flag : True signal : buy\n",
      "날짜 : 2018-07-31 00:00:00 모멘텀 인덱스 : -0.016185393855149277 flag : False signal : \n",
      "날짜 : 2018-08-31 00:00:00 모멘텀 인덱스 : -0.13221300758854437 flag : False signal : \n",
      "날짜 : 2018-09-28 00:00:00 모멘텀 인덱스 : -0.1855546440136614 flag : False signal : \n",
      "날짜 : 2018-10-31 00:00:00 모멘텀 인덱스 : -0.1695095941618312 flag : False signal : \n",
      "날짜 : 2018-11-30 00:00:00 모멘텀 인덱스 : -0.15074622826845818 flag : False signal : \n",
      "날짜 : 2018-12-31 00:00:00 모멘텀 인덱스 : -0.17857135596158147 flag : False signal : \n",
      "날짜 : 2019-01-31 00:00:00 모멘텀 인덱스 : -0.10730158730158734 flag : False signal : \n",
      "날짜 : 2019-02-28 00:00:00 모멘텀 인덱스 : 0.06838652876240969 flag : True signal : buy\n",
      "날짜 : 2019-03-29 00:00:00 모멘텀 인덱스 : 0.017182564374872866 flag : True signal : buy\n",
      "날짜 : 2019-04-30 00:00:00 모멘텀 인덱스 : 0.01160790745294693 flag : True signal : buy\n",
      "날짜 : 2019-05-31 00:00:00 모멘텀 인덱스 : -0.059958495973121306 flag : False signal : \n",
      "날짜 : 2019-06-24 00:00:00 모멘텀 인덱스 : -0.0271522746409959 flag : False signal : \n"
     ]
    },
    {
     "name": "stderr",
     "output_type": "stream",
     "text": [
      "C:\\Users\\moons\\AppData\\Local\\Temp\\ipykernel_2528\\2280660222.py:10: RuntimeWarning: invalid value encountered in scalar divide\n",
      "  momentum_index = month_list_df.loc[i,'BF_1M'] / \\\n",
      "C:\\Users\\moons\\AppData\\Local\\Temp\\ipykernel_2528\\2280660222.py:10: RuntimeWarning: divide by zero encountered in scalar divide\n",
      "  momentum_index = month_list_df.loc[i,'BF_1M'] / \\\n"
     ]
    }
   ],
   "source": [
    "# 거래내역 추가 \n",
    "# 구매 조건 -> ((전월 종가 / 전 년도 종가) - 1)이 값이 0보다 크고 무한대가 아닌 경우\n",
    "\n",
    "df['trade'] = \"\"\n",
    "\n",
    "for i in month_list_df.index:\n",
    "    signal = \"\"\n",
    "\n",
    "    # 절대 모멘텀 계산\n",
    "    momentum_index = month_list_df.loc[i,'BF_1M'] / \\\n",
    "        month_list_df.loc[i,'BF_12M'] - 1\n",
    "\n",
    "    # 절대 모멘텀 지표에 따라서 True 와 False 로 구분\n",
    "    flag = True if((momentum_index > 0) and (momentum_index != -np.inf ) \\\n",
    "        and (momentum_index != np.inf)) else False\n",
    "    \n",
    "    if flag:\n",
    "        signal = 'buy'\n",
    "    \n",
    "    print('날짜 :', i, \"모멘텀 인덱스 :\", momentum_index, \"flag :\", flag, \\\n",
    "        \"signal :\", signal)\n",
    "    \n",
    "    df.loc[i, 'trade'] = signal"
   ]
  },
  {
   "cell_type": "code",
   "execution_count": 72,
   "metadata": {},
   "outputs": [
    {
     "data": {
      "text/plain": [
       "       3234\n",
       "buy      61\n",
       "Name: trade, dtype: int64"
      ]
     },
     "execution_count": 72,
     "metadata": {},
     "output_type": "execute_result"
    }
   ],
   "source": [
    "df['trade'].value_counts()"
   ]
  },
  {
   "attachments": {},
   "cell_type": "markdown",
   "metadata": {},
   "source": [
    "### 수익율 계산\n",
    "1. 파생변수(return) 값은 1로 생성\n",
    "2. rtn = 1.0, buy, sell 변수는 0으로 생성\n",
    "3. 반복문을 이용해서 현재의 trade가 buy이고 전 행의 trade가 \"\"는 경우 구매 날\n",
    "4. 전 행의 trade가 buy이고 현재의 trade가 \"\"인 경우 판매 날\n",
    "5. 수익율 계산해서 return 대입\n",
    "\n",
    "### 누적 수익율 계산\n",
    "1. acc_rtn = 1.0 생성\n",
    "2. return의 항목들을 누적 곱하여 acc_rtn 컬럼에 대입\n",
    "3. 최종적으로 acc_rtn을 출력"
   ]
  },
  {
   "cell_type": "code",
   "execution_count": 73,
   "metadata": {},
   "outputs": [
    {
     "name": "stdout",
     "output_type": "stream",
     "text": [
      "<class 'pandas.core.frame.DataFrame'>\n",
      "DatetimeIndex: 3295 entries, 2006-05-22 to 2019-06-24\n",
      "Data columns (total 8 columns):\n",
      " #   Column     Non-Null Count  Dtype  \n",
      "---  ------     --------------  -----  \n",
      " 0   Open       3295 non-null   float64\n",
      " 1   High       3295 non-null   float64\n",
      " 2   Low        3295 non-null   float64\n",
      " 3   Close      3295 non-null   float64\n",
      " 4   Adj Close  3295 non-null   float64\n",
      " 5   Volume     3295 non-null   int64  \n",
      " 6   STD-YM     3295 non-null   object \n",
      " 7   trade      3295 non-null   object \n",
      "dtypes: float64(5), int64(1), object(2)\n",
      "memory usage: 360.7+ KB\n"
     ]
    }
   ],
   "source": [
    "df.info()"
   ]
  },
  {
   "cell_type": "code",
   "execution_count": 76,
   "metadata": {},
   "outputs": [
    {
     "data": {
      "text/plain": [
       "3295"
      ]
     },
     "execution_count": 76,
     "metadata": {},
     "output_type": "execute_result"
    }
   ],
   "source": [
    "len(df.index.unique())"
   ]
  },
  {
   "cell_type": "code",
   "execution_count": 78,
   "metadata": {},
   "outputs": [
    {
     "data": {
      "text/plain": [
       "2006-05-22    1\n",
       "2006-06-09    1\n",
       "2006-05-24    1\n",
       "2006-05-25    1\n",
       "2006-05-26    1\n",
       "             ..\n",
       "2019-06-17    1\n",
       "2019-06-18    1\n",
       "2019-06-19    1\n",
       "2019-06-20    1\n",
       "2019-06-24    1\n",
       "Name: Date, Length: 3295, dtype: int64"
      ]
     },
     "execution_count": 78,
     "metadata": {},
     "output_type": "execute_result"
    }
   ],
   "source": [
    "df.index.value_counts().sort_values(ascending=False)"
   ]
  },
  {
   "cell_type": "code",
   "execution_count": null,
   "metadata": {},
   "outputs": [],
   "source": [
    "df['return'] = 1\n",
    "rtn = 1.0\n",
    "buy = 0\n",
    "sell = 0\n",
    "\n",
    "for i in df.index:\n",
    "    # 구매한 날을 체크 , 구매가 지정\n",
    "    if (df.loc[i, 'trade'] == \"buy\") and (df.shift(1).loc[i, 'trade'] == \"\"):\n",
    "        buy = df.loc[i, 'Adj Close']\n",
    "        print('진입일 :', i, '구입 가격 :', buy)\n",
    "    # 판매한 날을 체크, 판매가 지정, 수익율 계산\n",
    "    elif (df.loc[i, 'trade'] == \"\") and (df.shift(1).loc[i, 'trade'] == 'buy'):\n",
    "        sell = df.loc[i, 'Adj Close']\n",
    "        rtn = (sell - buy) / buy + 1\n",
    "        df.loc[i, 'return'] = rtn\n",
    "        print('판매일 :', i, \"판매 가격 :\", sell, \"수익율 :\", rtn)\n",
    "\n"
   ]
  },
  {
   "cell_type": "code",
   "execution_count": 81,
   "metadata": {},
   "outputs": [
    {
     "name": "stdout",
     "output_type": "stream",
     "text": [
      "누적 수익율 : 1.165001849964831\n"
     ]
    }
   ],
   "source": [
    "acc_rtn = 1.0\n",
    "\n",
    "for i in df.index:\n",
    "    acc_rtn *= df.loc[i, 'return']\n",
    "    df.loc[i, 'acc_rtn'] = acc_rtn\n",
    "\n",
    "print('누적 수익율 :', acc_rtn)"
   ]
  },
  {
   "cell_type": "code",
   "execution_count": 82,
   "metadata": {},
   "outputs": [
    {
     "data": {
      "text/plain": [
       "Date\n",
       "2006-05-22    1.000000\n",
       "2006-05-23    1.000000\n",
       "2006-05-24    1.000000\n",
       "2006-05-25    1.000000\n",
       "2006-05-26    1.000000\n",
       "                ...   \n",
       "2019-06-18    1.165002\n",
       "2019-06-19    1.165002\n",
       "2019-06-20    1.165002\n",
       "2019-06-21    1.165002\n",
       "2019-06-24    1.165002\n",
       "Name: return, Length: 3295, dtype: float64"
      ]
     },
     "execution_count": 82,
     "metadata": {},
     "output_type": "execute_result"
    }
   ],
   "source": [
    "# 누적곱를 해주는 함수 \n",
    "df['return'].cumprod()"
   ]
  }
 ],
 "metadata": {
  "kernelspec": {
   "display_name": "Python 3",
   "language": "python",
   "name": "python3"
  },
  "language_info": {
   "codemirror_mode": {
    "name": "ipython",
    "version": 3
   },
   "file_extension": ".py",
   "mimetype": "text/x-python",
   "name": "python",
   "nbconvert_exporter": "python",
   "pygments_lexer": "ipython3",
   "version": "3.11.1"
  },
  "orig_nbformat": 4
 },
 "nbformat": 4,
 "nbformat_minor": 2
}
