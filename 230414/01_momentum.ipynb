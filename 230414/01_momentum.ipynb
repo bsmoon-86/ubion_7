{
 "cells": [
  {
   "cell_type": "code",
   "execution_count": null,
   "metadata": {},
   "outputs": [],
   "source": [
    "import pandas as pd\n",
    "import numpy as np"
   ]
  },
  {
   "attachments": {},
   "cell_type": "markdown",
   "metadata": {},
   "source": [
    "# 절대 모멘텀\n",
    "1. 주식 데이터 로드 \n",
    "2. 파생변수 년월 파생변수 생성 -> Date 컬럼에서 년-월 추출하여 대입\n",
    "3. 년, 월 별 마지막날의 month_last_dt 데이터프레임을 생성\n",
    "4. 전월의 종가를 가지는 파생변수 하나 생성\n",
    "5. 전년도의 종가를 가지는 파생변수 하나 생성\n",
    "6. 전월, 전년도의 종가를 가지고 거래내역 생성\n",
    "7. 수익율 계산"
   ]
  },
  {
   "cell_type": "code",
   "execution_count": null,
   "metadata": {},
   "outputs": [],
   "source": [
    "df = pd.read_csv(\"../csv/GDX.csv\", index_col='Date')\n",
    "df.head(3)"
   ]
  },
  {
   "cell_type": "code",
   "execution_count": null,
   "metadata": {},
   "outputs": [],
   "source": [
    "# index를 시계열 데이터로 변경\n",
    "df.index = pd.to_datetime(df.index, format='%Y-%m-%d')"
   ]
  },
  {
   "cell_type": "code",
   "execution_count": null,
   "metadata": {},
   "outputs": [],
   "source": [
    "from datetime import datetime"
   ]
  },
  {
   "cell_type": "code",
   "execution_count": null,
   "metadata": {},
   "outputs": [],
   "source": [
    "# datetime 라이브러리를 이용하여 시계열로 변경\n",
    "test_df = df.copy()"
   ]
  },
  {
   "cell_type": "code",
   "execution_count": null,
   "metadata": {},
   "outputs": [],
   "source": [
    "# case1\n",
    "test_df = test_df.reset_index()\n",
    "test_df['Date'] = test_df['Date'].apply(lambda x : datetime.strptime(x, '%Y-%m-%d'))\n",
    "test_df.set_index('Date')"
   ]
  },
  {
   "cell_type": "code",
   "execution_count": null,
   "metadata": {},
   "outputs": [],
   "source": [
    "# case2\n",
    "test_df.index\n",
    "\n",
    "def change(x):\n",
    "    return datetime.strptime(x, '%Y-%m-%d')\n",
    "\n",
    "test_df.index = list(map(change, test_df.index))"
   ]
  },
  {
   "cell_type": "code",
   "execution_count": null,
   "metadata": {},
   "outputs": [],
   "source": [
    "test_df.head(2)"
   ]
  },
  {
   "cell_type": "code",
   "execution_count": null,
   "metadata": {},
   "outputs": [],
   "source": [
    "# map 함수\n",
    "x = [1,2,3,4]\n",
    "def change(x):\n",
    "    return x**2\n",
    "\n",
    "list(map(lambda y : y**2, x))"
   ]
  },
  {
   "cell_type": "code",
   "execution_count": null,
   "metadata": {},
   "outputs": [],
   "source": [
    "df.index"
   ]
  },
  {
   "cell_type": "code",
   "execution_count": null,
   "metadata": {},
   "outputs": [],
   "source": [
    "# 새로운 파생변수 년-월의 데이터를 대입\n",
    "df['STD-YM'] = list(map(lambda x : datetime.strftime(x, '%Y-%m'), df.index))"
   ]
  },
  {
   "cell_type": "code",
   "execution_count": null,
   "metadata": {},
   "outputs": [],
   "source": [
    "df.head(2)"
   ]
  },
  {
   "cell_type": "code",
   "execution_count": null,
   "metadata": {},
   "outputs": [],
   "source": [
    "(df['STD-YM'] != df.shift(-1)['STD-YM']).iloc[24:30]"
   ]
  },
  {
   "cell_type": "code",
   "execution_count": null,
   "metadata": {},
   "outputs": [],
   "source": [
    "# 월별 마지막 인덱스만 추출하여 새로운 데이터프레임에 대입\n",
    "\n",
    "# case1 (shift 이용)\n",
    "# 현재의 STD-YM의 값과 다음 행의 STD-YM의 값이 다른 경우 \n",
    "df.loc[df['STD-YM'] != df.shift(-1)['STD-YM']]"
   ]
  },
  {
   "cell_type": "code",
   "execution_count": null,
   "metadata": {},
   "outputs": [],
   "source": [
    "last_df = df.loc[df['STD-YM'] == \"2006-06\"]\n",
    "last_df.tail(1)"
   ]
  },
  {
   "cell_type": "code",
   "execution_count": null,
   "metadata": {},
   "outputs": [],
   "source": [
    "# case2 (for문)\n",
    "month_list_df = pd.DataFrame()\n",
    "\n",
    "_list = df['STD-YM'].unique()\n",
    "\n",
    "for i in _list:\n",
    "    last_df = df.loc[df['STD-YM'] == i].tail(1)\n",
    "    month_list_df = pd.concat([month_list_df, last_df])\n",
    "\n",
    "month_list_df"
   ]
  },
  {
   "cell_type": "code",
   "execution_count": null,
   "metadata": {},
   "outputs": [],
   "source": [
    "x = pd.Series([1,1,1,2,2,4,4,4,4,7,7,7,7,7,7])\n",
    "\n",
    "x.unique()"
   ]
  },
  {
   "cell_type": "code",
   "execution_count": null,
   "metadata": {},
   "outputs": [],
   "source": [
    "# 전월의 종가(Adj Close)를 가지는 파생변수(BF_1M)을 생성하고 결측치는 0으로 대체\n",
    "# 전년도의 종가(Adj Close)를 가지는 파생변수(BF_12M)을 생성하고 결측치는 0으로 대체\n",
    "\n",
    "month_list_df['BF_1M'] = month_list_df.shift(1)['Adj Close'].fillna(0)"
   ]
  },
  {
   "cell_type": "code",
   "execution_count": null,
   "metadata": {},
   "outputs": [],
   "source": [
    "month_list_df.head(3)"
   ]
  },
  {
   "cell_type": "code",
   "execution_count": null,
   "metadata": {},
   "outputs": [],
   "source": [
    "month_list_df['BF_12M'] = month_list_df.shift(12)['Adj Close'].fillna(0)"
   ]
  },
  {
   "cell_type": "code",
   "execution_count": null,
   "metadata": {},
   "outputs": [],
   "source": [
    "month_list_df.iloc[[0,12], [4, 8]]"
   ]
  },
  {
   "cell_type": "code",
   "execution_count": null,
   "metadata": {},
   "outputs": [],
   "source": [
    "# 거래내역 추가 \n",
    "# 구매 조건 -> ((전월 종가 / 전 년도 종가) - 1)이 값이 0보다 크고 무한대가 아닌 경우\n",
    "\n",
    "df['trade'] = \"\"\n",
    "\n",
    "for i in month_list_df.index:\n",
    "    signal = \"\"\n",
    "\n",
    "    # 절대 모멘텀 계산\n",
    "    momentum_index = month_list_df.loc[i,'BF_1M'] / \\\n",
    "        month_list_df.loc[i,'BF_12M'] - 1\n",
    "\n",
    "    # 절대 모멘텀 지표에 따라서 True 와 False 로 구분\n",
    "    flag = True if((momentum_index > 0) and (momentum_index != -np.inf ) \\\n",
    "        and (momentum_index != np.inf)) else False\n",
    "    \n",
    "    if flag:\n",
    "        signal = 'buy'\n",
    "    \n",
    "    print('날짜 :', i, \"모멘텀 인덱스 :\", momentum_index, \"flag :\", flag, \\\n",
    "        \"signal :\", signal)\n",
    "    \n",
    "    df.loc[i, 'trade'] = signal"
   ]
  },
  {
   "cell_type": "code",
   "execution_count": null,
   "metadata": {},
   "outputs": [],
   "source": [
    "df['trade'].value_counts()"
   ]
  },
  {
   "attachments": {},
   "cell_type": "markdown",
   "metadata": {},
   "source": [
    "### 수익율 계산\n",
    "1. 파생변수(return) 값은 1로 생성\n",
    "2. rtn = 1.0, buy, sell 변수는 0으로 생성\n",
    "3. 반복문을 이용해서 현재의 trade가 buy이고 전 행의 trade가 \"\"는 경우 구매 날\n",
    "4. 전 행의 trade가 buy이고 현재의 trade가 \"\"인 경우 판매 날\n",
    "5. 수익율 계산해서 return 대입\n",
    "\n",
    "### 누적 수익율 계산\n",
    "1. acc_rtn = 1.0 생성\n",
    "2. return의 항목들을 누적 곱하여 acc_rtn 컬럼에 대입\n",
    "3. 최종적으로 acc_rtn을 출력"
   ]
  },
  {
   "cell_type": "code",
   "execution_count": null,
   "metadata": {},
   "outputs": [],
   "source": [
    "df.info()"
   ]
  },
  {
   "cell_type": "code",
   "execution_count": null,
   "metadata": {},
   "outputs": [],
   "source": [
    "len(df.index.unique())"
   ]
  },
  {
   "cell_type": "code",
   "execution_count": null,
   "metadata": {},
   "outputs": [],
   "source": [
    "df.index.value_counts().sort_values(ascending=False)"
   ]
  },
  {
   "cell_type": "code",
   "execution_count": null,
   "metadata": {},
   "outputs": [],
   "source": [
    "df['return'] = 1\n",
    "rtn = 1.0\n",
    "buy = 0\n",
    "sell = 0\n",
    "\n",
    "for i in df.index:\n",
    "    # 구매한 날을 체크 , 구매가 지정\n",
    "    if (df.loc[i, 'trade'] == \"buy\") and (df.shift(1).loc[i, 'trade'] == \"\"):\n",
    "        buy = df.loc[i, 'Adj Close']\n",
    "        print('진입일 :', i, '구입 가격 :', buy)\n",
    "    # 판매한 날을 체크, 판매가 지정, 수익율 계산\n",
    "    elif (df.loc[i, 'trade'] == \"\") and (df.shift(1).loc[i, 'trade'] == 'buy'):\n",
    "        sell = df.loc[i, 'Adj Close']\n",
    "        rtn = (sell - buy) / buy + 1\n",
    "        df.loc[i, 'return'] = rtn\n",
    "        print('판매일 :', i, \"판매 가격 :\", sell, \"수익율 :\", rtn)\n",
    "\n"
   ]
  },
  {
   "cell_type": "code",
   "execution_count": null,
   "metadata": {},
   "outputs": [],
   "source": [
    "acc_rtn = 1.0\n",
    "\n",
    "for i in df.index:\n",
    "    acc_rtn *= df.loc[i, 'return']\n",
    "    df.loc[i, 'acc_rtn'] = acc_rtn\n",
    "\n",
    "print('누적 수익율 :', acc_rtn)"
   ]
  },
  {
   "cell_type": "code",
   "execution_count": null,
   "metadata": {},
   "outputs": [],
   "source": [
    "# 누적곱를 해주는 함수 \n",
    "df['return'].cumprod()"
   ]
  },
  {
   "attachments": {},
   "cell_type": "markdown",
   "metadata": {},
   "source": [
    "# 절대 모멘텀을 함수화\n",
    "1. 첫 번째 함수\n",
    "    - 매개변수 1개(데이터프레임)\n",
    "    - 데이터프레임에 결측치와 이상치를 제거 \n",
    "    - 수정종가를 제외한 나머지 컬럼은 삭제\n",
    "    - 인덱스를 시계열로 변경\n",
    "    - 'STD-YM' 파생변수를 생성하여 인덱스의 년-월 추출해서 대입\n",
    "2. 두 번째 함수\n",
    "    - 매개변수 1개(데이터프레임)\n",
    "    - 새로운 데이터프레임(df2) 생성\n",
    "    - 인자값으로 받아온 데이터프레임에서 년-월별 마지막 데이터들을 새로운 데이터프레임에 대입\n",
    "    - df2에 파생변수 2개 생성\n",
    "        - 'BF_1M' : 전월의 종가, 결측치는 0으로 대체\n",
    "        - 'BF_12M' : 전 년도의 종가, 결측치는 0으로 대체\n",
    "    - df2를 리턴\n",
    "3. 세 번째 함수\n",
    "    - 매개변수 2개(첫번째 함수의 결과(df1), 두 번째 함수의 결과(df2))\n",
    "    - df1에 trade 컬럼을 생성, 값은  \"\"\n",
    "    - df1에 return 컬럼을 생성, 값은 1\n",
    "    - df2의 값들을 이용하여 momentum_index를 구하고 df1에 거래 내역 삽입\n",
    "    - df1의 거래 내역을 이용하여 수익율 return 컬럼에 대입\n",
    "    - return 컬럼의 데이터를 가지고 누적수익율(acc_rtn)에 대입\n",
    "    - 누적 수익율을 print를 이용하여 출력\n",
    "    - df1을 리턴"
   ]
  },
  {
   "cell_type": "code",
   "execution_count": null,
   "metadata": {},
   "outputs": [],
   "source": [
    "# 1번 함수 생성\n",
    "def first(df):\n",
    "    # 인덱스가 Date가 아니면? Date컬럼을 인덱스로 변경\n",
    "    if 'Date' in df.columns:\n",
    "        df = df.set_index('Date')\n",
    "    # 결측치와 이상치를 제거\n",
    "    df = df.loc[~df.isin([np.nan, np.inf, -np.inf]).any(axis='columns')]\n",
    "    # 수정종가를 제외한 나머지 컬럼 삭제\n",
    "    df = df[['Adj Close']]\n",
    "    # 인덱스를 시계열로 변경\n",
    "    df.index = pd.to_datetime(df.index, format='%Y-%m-%d')\n",
    "    # STD-YM 컬럼을 생성 \n",
    "    df['STD-YM'] = list(map(lambda x : datetime.strftime(x, '%Y-%m'), df.index))\n",
    "\n",
    "    return df"
   ]
  },
  {
   "cell_type": "code",
   "execution_count": null,
   "metadata": {},
   "outputs": [],
   "source": [
    "data = pd.read_csv(\"../csv/GDX.csv\")"
   ]
  },
  {
   "cell_type": "code",
   "execution_count": null,
   "metadata": {},
   "outputs": [],
   "source": [
    "df1 = first(data)"
   ]
  },
  {
   "cell_type": "code",
   "execution_count": null,
   "metadata": {},
   "outputs": [],
   "source": [
    "# 2번함수 \n",
    "def second(df):\n",
    "    # df2 = pd.DataFrame()\n",
    "\n",
    "    # _list = df['STD-YM'].unique()\n",
    "\n",
    "    # for i in _list:\n",
    "    #     last_df = df.loc[df['STD-YM'] == i].tail(1)\n",
    "    #     df2 = pd.concat([df2, last_df])\n",
    "\n",
    "    df2 = df.loc[df['STD-YM'] != df.shift(-1)['STD-YM']]\n",
    "    \n",
    "    df2['BF_1M'] = df2.shift(1)['Adj Close'].fillna(0)\n",
    "    df2['BF_12M'] = df2.shift(12)['Adj Close'].fillna(0)\n",
    "\n",
    "    return df2"
   ]
  },
  {
   "cell_type": "code",
   "execution_count": null,
   "metadata": {},
   "outputs": [],
   "source": [
    "df2 = second(df1)"
   ]
  },
  {
   "cell_type": "code",
   "execution_count": null,
   "metadata": {},
   "outputs": [],
   "source": [
    "# 3번 함수\n",
    "def third(df1, df2):\n",
    "    df1['trade'] = \"\"\n",
    "    df1['return'] = 1\n",
    "\n",
    "    for i in df2.index:\n",
    "        signal = \"\"\n",
    "\n",
    "        momentum_index = df2.loc[i, 'BF_1M'] / df2.loc[i, 'BF_12M'] - 1\n",
    "\n",
    "        flag = True if((momentum_index > 0) \\\n",
    "                and (momentum_index != np.inf) \\\n",
    "                and (momentum_index != -np.inf)) else False\n",
    "        \n",
    "        if flag : \n",
    "            signal = 'buy'\n",
    "        \n",
    "        df1.loc[i, 'trade'] = signal\n",
    "    \n",
    "    rtn = 1.0\n",
    "    buy = 0\n",
    "    sell = 0\n",
    "\n",
    "    for i in df1.index:\n",
    "        if (df1.loc[i, 'trade'] == \"buy\") and (df1.shift(1).loc[i, 'trade'] == \"\"):\n",
    "            buy = df1.loc[i, 'Adj Close']\n",
    "            print('구입일 :', i, \"구입 가격 :\", buy)\n",
    "        elif (df1.loc[i, 'trade'] == \"\") and (df1.shift(1).loc[i, 'trade'] == \"buy\"):\n",
    "            sell = df1.loc[i, 'Adj Close']\n",
    "            print('판매일 :', i, \"판매 가격 :\", sell)\n",
    "            rtn = (sell - buy) / buy + 1\n",
    "            df1.loc[i, 'return'] = rtn\n",
    "    \n",
    "\n",
    "    acc_rtn = 1.0\n",
    "\n",
    "    for i in df1.index:\n",
    "        acc_rtn *= df1.loc[i, 'return']\n",
    "        df1.loc[i, 'acc_rtn'] = acc_rtn\n",
    "    print(acc_rtn)\n",
    "\n",
    "    return df1\n"
   ]
  },
  {
   "cell_type": "code",
   "execution_count": null,
   "metadata": {},
   "outputs": [],
   "source": [
    "third(df1, df2)"
   ]
  },
  {
   "cell_type": "code",
   "execution_count": null,
   "metadata": {},
   "outputs": [],
   "source": []
  }
 ],
 "metadata": {
  "kernelspec": {
   "display_name": "Python 3",
   "language": "python",
   "name": "python3"
  },
  "language_info": {
   "codemirror_mode": {
    "name": "ipython",
    "version": 3
   },
   "file_extension": ".py",
   "mimetype": "text/x-python",
   "name": "python",
   "nbconvert_exporter": "python",
   "pygments_lexer": "ipython3",
   "version": "3.11.1"
  },
  "orig_nbformat": 4
 },
 "nbformat": 4,
 "nbformat_minor": 2
}
