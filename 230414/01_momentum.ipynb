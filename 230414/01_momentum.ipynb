{
 "cells": [
  {
   "cell_type": "code",
   "execution_count": 98,
   "metadata": {},
   "outputs": [],
   "source": [
    "import pandas as pd\n",
    "import numpy as np"
   ]
  },
  {
   "attachments": {},
   "cell_type": "markdown",
   "metadata": {},
   "source": [
    "# 절대 모멘텀\n",
    "1. 주식 데이터 로드 \n",
    "2. 파생변수 년월 파생변수 생성 -> Date 컬럼에서 년-월 추출하여 대입\n",
    "3. 년, 월 별 마지막날의 month_last_dt 데이터프레임을 생성\n",
    "4. 전월의 종가를 가지는 파생변수 하나 생성\n",
    "5. 전년도의 종가를 가지는 파생변수 하나 생성\n",
    "6. 전월, 전년도의 종가를 가지고 거래내역 생성\n",
    "7. 수익율 계산"
   ]
  },
  {
   "cell_type": "code",
   "execution_count": 99,
   "metadata": {},
   "outputs": [
    {
     "data": {
      "text/html": [
       "<div>\n",
       "<style scoped>\n",
       "    .dataframe tbody tr th:only-of-type {\n",
       "        vertical-align: middle;\n",
       "    }\n",
       "\n",
       "    .dataframe tbody tr th {\n",
       "        vertical-align: top;\n",
       "    }\n",
       "\n",
       "    .dataframe thead th {\n",
       "        text-align: right;\n",
       "    }\n",
       "</style>\n",
       "<table border=\"1\" class=\"dataframe\">\n",
       "  <thead>\n",
       "    <tr style=\"text-align: right;\">\n",
       "      <th></th>\n",
       "      <th>Open</th>\n",
       "      <th>High</th>\n",
       "      <th>Low</th>\n",
       "      <th>Close</th>\n",
       "      <th>Adj Close</th>\n",
       "      <th>Volume</th>\n",
       "    </tr>\n",
       "    <tr>\n",
       "      <th>Date</th>\n",
       "      <th></th>\n",
       "      <th></th>\n",
       "      <th></th>\n",
       "      <th></th>\n",
       "      <th></th>\n",
       "      <th></th>\n",
       "    </tr>\n",
       "  </thead>\n",
       "  <tbody>\n",
       "    <tr>\n",
       "      <th>2006-05-22</th>\n",
       "      <td>36.520000</td>\n",
       "      <td>37.290001</td>\n",
       "      <td>35.869999</td>\n",
       "      <td>37.230000</td>\n",
       "      <td>34.280224</td>\n",
       "      <td>197100</td>\n",
       "    </tr>\n",
       "    <tr>\n",
       "      <th>2006-05-23</th>\n",
       "      <td>37.750000</td>\n",
       "      <td>39.220001</td>\n",
       "      <td>37.750000</td>\n",
       "      <td>37.959999</td>\n",
       "      <td>34.952393</td>\n",
       "      <td>620900</td>\n",
       "    </tr>\n",
       "    <tr>\n",
       "      <th>2006-05-24</th>\n",
       "      <td>37.130001</td>\n",
       "      <td>37.570000</td>\n",
       "      <td>35.869999</td>\n",
       "      <td>36.520000</td>\n",
       "      <td>33.626480</td>\n",
       "      <td>638600</td>\n",
       "    </tr>\n",
       "  </tbody>\n",
       "</table>\n",
       "</div>"
      ],
      "text/plain": [
       "                 Open       High        Low      Close  Adj Close  Volume\n",
       "Date                                                                     \n",
       "2006-05-22  36.520000  37.290001  35.869999  37.230000  34.280224  197100\n",
       "2006-05-23  37.750000  39.220001  37.750000  37.959999  34.952393  620900\n",
       "2006-05-24  37.130001  37.570000  35.869999  36.520000  33.626480  638600"
      ]
     },
     "execution_count": 99,
     "metadata": {},
     "output_type": "execute_result"
    }
   ],
   "source": [
    "df = pd.read_csv(\"../csv/GDX.csv\", index_col='Date')\n",
    "df.head(3)"
   ]
  },
  {
   "cell_type": "code",
   "execution_count": 100,
   "metadata": {},
   "outputs": [],
   "source": [
    "# index를 시계열 데이터로 변경\n",
    "df.index = pd.to_datetime(df.index, format='%Y-%m-%d')"
   ]
  },
  {
   "cell_type": "code",
   "execution_count": 101,
   "metadata": {},
   "outputs": [],
   "source": [
    "from datetime import datetime"
   ]
  },
  {
   "cell_type": "code",
   "execution_count": 102,
   "metadata": {},
   "outputs": [],
   "source": [
    "# datetime 라이브러리를 이용하여 시계열로 변경\n",
    "test_df = df.copy()"
   ]
  },
  {
   "cell_type": "code",
   "execution_count": 103,
   "metadata": {},
   "outputs": [
    {
     "ename": "TypeError",
     "evalue": "strptime() argument 1 must be str, not Timestamp",
     "output_type": "error",
     "traceback": [
      "\u001b[1;31m---------------------------------------------------------------------------\u001b[0m",
      "\u001b[1;31mTypeError\u001b[0m                                 Traceback (most recent call last)",
      "Cell \u001b[1;32mIn[103], line 3\u001b[0m\n\u001b[0;32m      1\u001b[0m \u001b[39m# case1\u001b[39;00m\n\u001b[0;32m      2\u001b[0m test_df \u001b[39m=\u001b[39m test_df\u001b[39m.\u001b[39mreset_index()\n\u001b[1;32m----> 3\u001b[0m test_df[\u001b[39m'\u001b[39m\u001b[39mDate\u001b[39m\u001b[39m'\u001b[39m] \u001b[39m=\u001b[39m test_df[\u001b[39m'\u001b[39;49m\u001b[39mDate\u001b[39;49m\u001b[39m'\u001b[39;49m]\u001b[39m.\u001b[39;49mapply(\u001b[39mlambda\u001b[39;49;00m x : datetime\u001b[39m.\u001b[39;49mstrptime(x, \u001b[39m'\u001b[39;49m\u001b[39m%\u001b[39;49m\u001b[39mY-\u001b[39;49m\u001b[39m%\u001b[39;49m\u001b[39mm-\u001b[39;49m\u001b[39m%d\u001b[39;49;00m\u001b[39m'\u001b[39;49m))\n\u001b[0;32m      4\u001b[0m test_df\u001b[39m.\u001b[39mset_index(\u001b[39m'\u001b[39m\u001b[39mDate\u001b[39m\u001b[39m'\u001b[39m)\n",
      "File \u001b[1;32mc:\\Users\\moons\\AppData\\Local\\Programs\\Python\\Python311\\Lib\\site-packages\\pandas\\core\\series.py:4771\u001b[0m, in \u001b[0;36mSeries.apply\u001b[1;34m(self, func, convert_dtype, args, **kwargs)\u001b[0m\n\u001b[0;32m   4661\u001b[0m \u001b[39mdef\u001b[39;00m \u001b[39mapply\u001b[39m(\n\u001b[0;32m   4662\u001b[0m     \u001b[39mself\u001b[39m,\n\u001b[0;32m   4663\u001b[0m     func: AggFuncType,\n\u001b[1;32m   (...)\u001b[0m\n\u001b[0;32m   4666\u001b[0m     \u001b[39m*\u001b[39m\u001b[39m*\u001b[39mkwargs,\n\u001b[0;32m   4667\u001b[0m ) \u001b[39m-\u001b[39m\u001b[39m>\u001b[39m DataFrame \u001b[39m|\u001b[39m Series:\n\u001b[0;32m   4668\u001b[0m     \u001b[39m\"\"\"\u001b[39;00m\n\u001b[0;32m   4669\u001b[0m \u001b[39m    Invoke function on values of Series.\u001b[39;00m\n\u001b[0;32m   4670\u001b[0m \n\u001b[1;32m   (...)\u001b[0m\n\u001b[0;32m   4769\u001b[0m \u001b[39m    dtype: float64\u001b[39;00m\n\u001b[0;32m   4770\u001b[0m \u001b[39m    \"\"\"\u001b[39;00m\n\u001b[1;32m-> 4771\u001b[0m     \u001b[39mreturn\u001b[39;00m SeriesApply(\u001b[39mself\u001b[39;49m, func, convert_dtype, args, kwargs)\u001b[39m.\u001b[39;49mapply()\n",
      "File \u001b[1;32mc:\\Users\\moons\\AppData\\Local\\Programs\\Python\\Python311\\Lib\\site-packages\\pandas\\core\\apply.py:1105\u001b[0m, in \u001b[0;36mSeriesApply.apply\u001b[1;34m(self)\u001b[0m\n\u001b[0;32m   1102\u001b[0m     \u001b[39mreturn\u001b[39;00m \u001b[39mself\u001b[39m\u001b[39m.\u001b[39mapply_str()\n\u001b[0;32m   1104\u001b[0m \u001b[39m# self.f is Callable\u001b[39;00m\n\u001b[1;32m-> 1105\u001b[0m \u001b[39mreturn\u001b[39;00m \u001b[39mself\u001b[39;49m\u001b[39m.\u001b[39;49mapply_standard()\n",
      "File \u001b[1;32mc:\\Users\\moons\\AppData\\Local\\Programs\\Python\\Python311\\Lib\\site-packages\\pandas\\core\\apply.py:1156\u001b[0m, in \u001b[0;36mSeriesApply.apply_standard\u001b[1;34m(self)\u001b[0m\n\u001b[0;32m   1154\u001b[0m     \u001b[39melse\u001b[39;00m:\n\u001b[0;32m   1155\u001b[0m         values \u001b[39m=\u001b[39m obj\u001b[39m.\u001b[39mastype(\u001b[39mobject\u001b[39m)\u001b[39m.\u001b[39m_values\n\u001b[1;32m-> 1156\u001b[0m         mapped \u001b[39m=\u001b[39m lib\u001b[39m.\u001b[39;49mmap_infer(\n\u001b[0;32m   1157\u001b[0m             values,\n\u001b[0;32m   1158\u001b[0m             f,\n\u001b[0;32m   1159\u001b[0m             convert\u001b[39m=\u001b[39;49m\u001b[39mself\u001b[39;49m\u001b[39m.\u001b[39;49mconvert_dtype,\n\u001b[0;32m   1160\u001b[0m         )\n\u001b[0;32m   1162\u001b[0m \u001b[39mif\u001b[39;00m \u001b[39mlen\u001b[39m(mapped) \u001b[39mand\u001b[39;00m \u001b[39misinstance\u001b[39m(mapped[\u001b[39m0\u001b[39m], ABCSeries):\n\u001b[0;32m   1163\u001b[0m     \u001b[39m# GH#43986 Need to do list(mapped) in order to get treated as nested\u001b[39;00m\n\u001b[0;32m   1164\u001b[0m     \u001b[39m#  See also GH#25959 regarding EA support\u001b[39;00m\n\u001b[0;32m   1165\u001b[0m     \u001b[39mreturn\u001b[39;00m obj\u001b[39m.\u001b[39m_constructor_expanddim(\u001b[39mlist\u001b[39m(mapped), index\u001b[39m=\u001b[39mobj\u001b[39m.\u001b[39mindex)\n",
      "File \u001b[1;32mc:\\Users\\moons\\AppData\\Local\\Programs\\Python\\Python311\\Lib\\site-packages\\pandas\\_libs\\lib.pyx:2918\u001b[0m, in \u001b[0;36mpandas._libs.lib.map_infer\u001b[1;34m()\u001b[0m\n",
      "Cell \u001b[1;32mIn[103], line 3\u001b[0m, in \u001b[0;36m<lambda>\u001b[1;34m(x)\u001b[0m\n\u001b[0;32m      1\u001b[0m \u001b[39m# case1\u001b[39;00m\n\u001b[0;32m      2\u001b[0m test_df \u001b[39m=\u001b[39m test_df\u001b[39m.\u001b[39mreset_index()\n\u001b[1;32m----> 3\u001b[0m test_df[\u001b[39m'\u001b[39m\u001b[39mDate\u001b[39m\u001b[39m'\u001b[39m] \u001b[39m=\u001b[39m test_df[\u001b[39m'\u001b[39m\u001b[39mDate\u001b[39m\u001b[39m'\u001b[39m]\u001b[39m.\u001b[39mapply(\u001b[39mlambda\u001b[39;00m x : datetime\u001b[39m.\u001b[39;49mstrptime(x, \u001b[39m'\u001b[39;49m\u001b[39m%\u001b[39;49m\u001b[39mY-\u001b[39;49m\u001b[39m%\u001b[39;49m\u001b[39mm-\u001b[39;49m\u001b[39m%d\u001b[39;49;00m\u001b[39m'\u001b[39;49m))\n\u001b[0;32m      4\u001b[0m test_df\u001b[39m.\u001b[39mset_index(\u001b[39m'\u001b[39m\u001b[39mDate\u001b[39m\u001b[39m'\u001b[39m)\n",
      "\u001b[1;31mTypeError\u001b[0m: strptime() argument 1 must be str, not Timestamp"
     ]
    }
   ],
   "source": [
    "# case1\n",
    "test_df = test_df.reset_index()\n",
    "test_df['Date'] = test_df['Date'].apply(lambda x : datetime.strptime(x, '%Y-%m-%d'))\n",
    "test_df.set_index('Date')"
   ]
  },
  {
   "cell_type": "code",
   "execution_count": null,
   "metadata": {},
   "outputs": [],
   "source": [
    "# case2\n",
    "test_df.index\n",
    "\n",
    "def change(x):\n",
    "    return datetime.strptime(x, '%Y-%m-%d')\n",
    "\n",
    "test_df.index = list(map(change, test_df.index))"
   ]
  },
  {
   "cell_type": "code",
   "execution_count": null,
   "metadata": {},
   "outputs": [],
   "source": [
    "test_df.head(2)"
   ]
  },
  {
   "cell_type": "code",
   "execution_count": null,
   "metadata": {},
   "outputs": [],
   "source": [
    "# map 함수\n",
    "x = [1,2,3,4]\n",
    "def change(x):\n",
    "    return x**2\n",
    "\n",
    "list(map(lambda y : y**2, x))"
   ]
  },
  {
   "cell_type": "code",
   "execution_count": null,
   "metadata": {},
   "outputs": [],
   "source": [
    "df.index"
   ]
  },
  {
   "cell_type": "code",
   "execution_count": null,
   "metadata": {},
   "outputs": [],
   "source": [
    "# 새로운 파생변수 년-월의 데이터를 대입\n",
    "df['STD-YM'] = list(map(lambda x : datetime.strftime(x, '%Y-%m'), df.index))"
   ]
  },
  {
   "cell_type": "code",
   "execution_count": null,
   "metadata": {},
   "outputs": [],
   "source": [
    "df.head(2)"
   ]
  },
  {
   "cell_type": "code",
   "execution_count": null,
   "metadata": {},
   "outputs": [],
   "source": [
    "(df['STD-YM'] != df.shift(-1)['STD-YM']).iloc[24:30]"
   ]
  },
  {
   "cell_type": "code",
   "execution_count": null,
   "metadata": {},
   "outputs": [],
   "source": [
    "# 월별 마지막 인덱스만 추출하여 새로운 데이터프레임에 대입\n",
    "\n",
    "# case1 (shift 이용)\n",
    "# 현재의 STD-YM의 값과 다음 행의 STD-YM의 값이 다른 경우 \n",
    "df.loc[df['STD-YM'] != df.shift(-1)['STD-YM']]"
   ]
  },
  {
   "cell_type": "code",
   "execution_count": null,
   "metadata": {},
   "outputs": [],
   "source": [
    "last_df = df.loc[df['STD-YM'] == \"2006-06\"]\n",
    "last_df.tail(1)"
   ]
  },
  {
   "cell_type": "code",
   "execution_count": null,
   "metadata": {},
   "outputs": [],
   "source": [
    "# case2 (for문)\n",
    "month_list_df = pd.DataFrame()\n",
    "\n",
    "_list = df['STD-YM'].unique()\n",
    "\n",
    "for i in _list:\n",
    "    last_df = df.loc[df['STD-YM'] == i].tail(1)\n",
    "    month_list_df = pd.concat([month_list_df, last_df])\n",
    "\n",
    "month_list_df"
   ]
  },
  {
   "cell_type": "code",
   "execution_count": null,
   "metadata": {},
   "outputs": [],
   "source": [
    "x = pd.Series([1,1,1,2,2,4,4,4,4,7,7,7,7,7,7])\n",
    "\n",
    "x.unique()"
   ]
  },
  {
   "cell_type": "code",
   "execution_count": null,
   "metadata": {},
   "outputs": [],
   "source": [
    "# 전월의 종가(Adj Close)를 가지는 파생변수(BF_1M)을 생성하고 결측치는 0으로 대체\n",
    "# 전년도의 종가(Adj Close)를 가지는 파생변수(BF_12M)을 생성하고 결측치는 0으로 대체\n",
    "\n",
    "month_list_df['BF_1M'] = month_list_df.shift(1)['Adj Close'].fillna(0)"
   ]
  },
  {
   "cell_type": "code",
   "execution_count": null,
   "metadata": {},
   "outputs": [],
   "source": [
    "month_list_df.head(3)"
   ]
  },
  {
   "cell_type": "code",
   "execution_count": null,
   "metadata": {},
   "outputs": [],
   "source": [
    "month_list_df['BF_12M'] = month_list_df.shift(12)['Adj Close'].fillna(0)"
   ]
  },
  {
   "cell_type": "code",
   "execution_count": null,
   "metadata": {},
   "outputs": [
    {
     "data": {
      "text/html": [
       "<div>\n",
       "<style scoped>\n",
       "    .dataframe tbody tr th:only-of-type {\n",
       "        vertical-align: middle;\n",
       "    }\n",
       "\n",
       "    .dataframe tbody tr th {\n",
       "        vertical-align: top;\n",
       "    }\n",
       "\n",
       "    .dataframe thead th {\n",
       "        text-align: right;\n",
       "    }\n",
       "</style>\n",
       "<table border=\"1\" class=\"dataframe\">\n",
       "  <thead>\n",
       "    <tr style=\"text-align: right;\">\n",
       "      <th></th>\n",
       "      <th>Adj Close</th>\n",
       "      <th>BF_12M</th>\n",
       "    </tr>\n",
       "    <tr>\n",
       "      <th>Date</th>\n",
       "      <th></th>\n",
       "      <th></th>\n",
       "    </tr>\n",
       "  </thead>\n",
       "  <tbody>\n",
       "    <tr>\n",
       "      <th>2006-05-31</th>\n",
       "      <td>35.771877</td>\n",
       "      <td>0.000000</td>\n",
       "    </tr>\n",
       "    <tr>\n",
       "      <th>2007-05-31</th>\n",
       "      <td>36.162109</td>\n",
       "      <td>35.771877</td>\n",
       "    </tr>\n",
       "  </tbody>\n",
       "</table>\n",
       "</div>"
      ],
      "text/plain": [
       "            Adj Close     BF_12M\n",
       "Date                            \n",
       "2006-05-31  35.771877   0.000000\n",
       "2007-05-31  36.162109  35.771877"
      ]
     },
     "execution_count": 69,
     "metadata": {},
     "output_type": "execute_result"
    }
   ],
   "source": [
    "month_list_df.iloc[[0,12], [4, 8]]"
   ]
  },
  {
   "cell_type": "code",
   "execution_count": null,
   "metadata": {},
   "outputs": [
    {
     "name": "stdout",
     "output_type": "stream",
     "text": [
      "날짜 : 2006-05-31 00:00:00 모멘텀 인덱스 : nan flag : False signal : \n",
      "날짜 : 2006-06-30 00:00:00 모멘텀 인덱스 : inf flag : False signal : \n",
      "날짜 : 2006-07-31 00:00:00 모멘텀 인덱스 : inf flag : False signal : \n",
      "날짜 : 2006-08-31 00:00:00 모멘텀 인덱스 : inf flag : False signal : \n",
      "날짜 : 2006-09-29 00:00:00 모멘텀 인덱스 : inf flag : False signal : \n",
      "날짜 : 2006-10-31 00:00:00 모멘텀 인덱스 : inf flag : False signal : \n",
      "날짜 : 2006-11-30 00:00:00 모멘텀 인덱스 : inf flag : False signal : \n",
      "날짜 : 2006-12-29 00:00:00 모멘텀 인덱스 : inf flag : False signal : \n",
      "날짜 : 2007-01-31 00:00:00 모멘텀 인덱스 : inf flag : False signal : \n",
      "날짜 : 2007-02-28 00:00:00 모멘텀 인덱스 : inf flag : False signal : \n",
      "날짜 : 2007-03-30 00:00:00 모멘텀 인덱스 : inf flag : False signal : \n",
      "날짜 : 2007-04-30 00:00:00 모멘텀 인덱스 : inf flag : False signal : \n",
      "날짜 : 2007-05-31 00:00:00 모멘텀 인덱스 : 0.02123525695897932 flag : True signal : buy\n",
      "날짜 : 2007-06-29 00:00:00 모멘텀 인덱스 : 0.014827231670955676 flag : True signal : buy\n",
      "날짜 : 2007-07-31 00:00:00 모멘텀 인덱스 : -0.019604388455949806 flag : False signal : \n",
      "날짜 : 2007-08-31 00:00:00 모멘텀 인덱스 : -0.013153819290259716 flag : False signal : \n",
      "날짜 : 2007-09-28 00:00:00 모멘텀 인덱스 : 0.05917033742480693 flag : True signal : buy\n",
      "날짜 : 2007-10-31 00:00:00 모멘텀 인덱스 : 0.19815092488803265 flag : True signal : buy\n",
      "날짜 : 2007-11-30 00:00:00 모멘텀 인덱스 : 0.20883941344357249 flag : True signal : buy\n",
      "날짜 : 2007-12-31 00:00:00 모멘텀 인덱스 : 0.16161379606082193 flag : True signal : buy\n",
      "날짜 : 2008-01-31 00:00:00 모멘텀 인덱스 : 0.17680617026317558 flag : True signal : buy\n",
      "날짜 : 2008-02-29 00:00:00 모멘텀 인덱스 : 0.2802601898253487 flag : True signal : buy\n",
      "날짜 : 2008-03-31 00:00:00 모멘텀 인덱스 : 0.365029677976082 flag : True signal : buy\n",
      "날짜 : 2008-04-30 00:00:00 모멘텀 인덱스 : 0.22606127719577462 flag : True signal : buy\n",
      "날짜 : 2008-05-30 00:00:00 모멘텀 인덱스 : 0.13212409707630712 flag : True signal : buy\n",
      "날짜 : 2008-06-30 00:00:00 모멘텀 인덱스 : 0.23501487796082343 flag : True signal : buy\n",
      "날짜 : 2008-07-31 00:00:00 모멘텀 인덱스 : 0.23705506591070358 flag : True signal : buy\n",
      "날짜 : 2008-08-29 00:00:00 모멘텀 인덱스 : 0.1742883942766662 flag : True signal : buy\n",
      "날짜 : 2008-09-30 00:00:00 모멘텀 인덱스 : -0.15603876113042192 flag : False signal : \n",
      "날짜 : 2008-10-31 00:00:00 모멘텀 인덱스 : -0.320971751900909 flag : False signal : \n",
      "날짜 : 2008-11-28 00:00:00 모멘텀 인덱스 : -0.5404943986138491 flag : False signal : \n",
      "날짜 : 2008-12-31 00:00:00 모멘텀 인덱스 : -0.42024876314505843 flag : False signal : \n",
      "날짜 : 2009-01-30 00:00:00 모멘텀 인덱스 : -0.32711021681097885 flag : False signal : \n",
      "날짜 : 2009-02-27 00:00:00 모멘텀 인덱스 : -0.3556099402987438 flag : False signal : \n",
      "날짜 : 2009-03-31 00:00:00 모멘텀 인덱스 : -0.3006290263019352 flag : False signal : \n",
      "날짜 : 2009-04-30 00:00:00 모멘텀 인덱스 : -0.1541283285452283 flag : False signal : \n",
      "날짜 : 2009-05-29 00:00:00 모멘텀 인덱스 : -0.284876132526271 flag : False signal : \n",
      "날짜 : 2009-06-30 00:00:00 모멘텀 인덱스 : -0.09117102143686517 flag : False signal : \n",
      "날짜 : 2009-07-31 00:00:00 모멘텀 인덱스 : -0.13040470257706882 flag : False signal : \n",
      "날짜 : 2009-08-31 00:00:00 모멘텀 인덱스 : 0.05658880997819882 flag : True signal : buy\n",
      "날짜 : 2009-09-30 00:00:00 모멘텀 인덱스 : 0.1692807519599573 flag : True signal : buy\n",
      "날짜 : 2009-10-30 00:00:00 모멘텀 인덱스 : 1.1618139476199958 flag : True signal : buy\n",
      "날짜 : 2009-11-30 00:00:00 모멘텀 인덱스 : 0.5946554777541244 flag : True signal : buy\n",
      "날짜 : 2009-12-31 00:00:00 모멘텀 인덱스 : 0.5085595015548512 flag : True signal : buy\n",
      "날짜 : 2010-01-29 00:00:00 모멘텀 인덱스 : 0.3532863324289095 flag : True signal : buy\n",
      "날짜 : 2010-02-26 00:00:00 모멘텀 인덱스 : 0.2236080389907935 flag : True signal : buy\n",
      "날짜 : 2010-03-31 00:00:00 모멘텀 인덱스 : 0.19298566196193812 flag : True signal : buy\n",
      "날짜 : 2010-04-30 00:00:00 모멘텀 인덱스 : 0.3527373549799149 flag : True signal : buy\n",
      "날짜 : 2010-05-28 00:00:00 모멘텀 인덱스 : 0.14659192175379476 flag : True signal : buy\n",
      "날짜 : 2010-06-30 00:00:00 모멘텀 인덱스 : 0.3219229105894048 flag : True signal : buy\n",
      "날짜 : 2010-07-30 00:00:00 모멘텀 인덱스 : 0.3097067652650922 flag : True signal : buy\n",
      "날짜 : 2010-08-31 00:00:00 모멘텀 인덱스 : 0.2234347385931279 flag : True signal : buy\n",
      "날짜 : 2010-09-30 00:00:00 모멘텀 인덱스 : 0.186598965826263 flag : True signal : buy\n",
      "날짜 : 2010-10-29 00:00:00 모멘텀 인덱스 : 0.3232654268939421 flag : True signal : buy\n",
      "날짜 : 2010-11-30 00:00:00 모멘텀 인덱스 : 0.1238524684322746 flag : True signal : buy\n",
      "날짜 : 2010-12-31 00:00:00 모멘텀 인덱스 : 0.28759992934661915 flag : True signal : buy\n",
      "날짜 : 2011-01-31 00:00:00 모멘텀 인덱스 : 0.5197617669395509 flag : True signal : buy\n",
      "날짜 : 2011-02-28 00:00:00 모멘텀 인덱스 : 0.23681388302472395 flag : True signal : buy\n",
      "날짜 : 2011-03-31 00:00:00 모멘텀 인덱스 : 0.356307942053282 flag : True signal : buy\n",
      "날짜 : 2011-04-29 00:00:00 모멘텀 인덱스 : 0.1978906111905363 flag : True signal : buy\n",
      "날짜 : 2011-05-31 00:00:00 모멘텀 인덱스 : 0.255909198539376 flag : True signal : buy\n",
      "날짜 : 2011-06-30 00:00:00 모멘텀 인덱스 : 0.12668014223566537 flag : True signal : buy\n",
      "날짜 : 2011-07-29 00:00:00 모멘텀 인덱스 : 0.13974039523897108 flag : True signal : buy\n",
      "날짜 : 2011-08-31 00:00:00 모멘텀 인덱스 : 0.06834185281658978 flag : True signal : buy\n",
      "날짜 : 2011-09-30 00:00:00 모멘텀 인덱스 : 0.1304070990172881 flag : True signal : buy\n",
      "날짜 : 2011-10-31 00:00:00 모멘텀 인덱스 : -0.030325708813168317 flag : False signal : \n",
      "날짜 : 2011-11-30 00:00:00 모멘텀 인덱스 : -0.00458998099329444 flag : False signal : \n",
      "날짜 : 2011-12-30 00:00:00 모멘텀 인덱스 : -0.017244097618804077 flag : False signal : \n",
      "날짜 : 2012-01-31 00:00:00 모멘텀 인덱스 : -0.04344126273341076 flag : False signal : \n",
      "날짜 : 2012-02-29 00:00:00 모멘텀 인덱스 : -0.05361718833075768 flag : False signal : \n",
      "날짜 : 2012-03-30 00:00:00 모멘텀 인덱스 : -0.07555659602406029 flag : False signal : \n",
      "날짜 : 2012-04-30 00:00:00 모멘텀 인덱스 : -0.2012505636799743 flag : False signal : \n",
      "날짜 : 2012-05-31 00:00:00 모멘텀 인덱스 : -0.19994534805437103 flag : False signal : \n",
      "날짜 : 2012-06-29 00:00:00 모멘텀 인덱스 : -0.1957194203864071 flag : False signal : \n",
      "날짜 : 2012-07-31 00:00:00 모멘텀 인덱스 : -0.21078350447692895 flag : False signal : \n",
      "날짜 : 2012-08-31 00:00:00 모멘텀 인덱스 : -0.31603571761219706 flag : False signal : \n",
      "날짜 : 2012-09-28 00:00:00 모멘텀 인덱스 : -0.12887077062573693 flag : False signal : \n",
      "날짜 : 2012-10-31 00:00:00 모멘텀 인덱스 : -0.08475042126401144 flag : False signal : \n",
      "날짜 : 2012-11-30 00:00:00 모멘텀 인덱스 : -0.12180330738798684 flag : False signal : \n",
      "날짜 : 2012-12-31 00:00:00 모멘텀 인덱스 : -0.07544241622128056 flag : False signal : \n",
      "날짜 : 2013-01-31 00:00:00 모멘텀 인덱스 : -0.16986767678813952 flag : False signal : \n",
      "날짜 : 2013-02-28 00:00:00 모멘텀 인덱스 : -0.24097491874755916 flag : False signal : \n",
      "날짜 : 2013-03-28 00:00:00 모멘텀 인덱스 : -0.23725482099842843 flag : False signal : \n",
      "날짜 : 2013-04-30 00:00:00 모멘텀 인덱스 : -0.1756618798823547 flag : False signal : \n",
      "날짜 : 2013-05-31 00:00:00 모멘텀 인덱스 : -0.2993680335638734 flag : False signal : \n",
      "날짜 : 2013-06-28 00:00:00 모멘텀 인덱스 : -0.33426900912464863 flag : False signal : \n",
      "날짜 : 2013-07-31 00:00:00 모멘텀 인덱스 : -0.4222970413281275 flag : False signal : \n",
      "날짜 : 2013-08-30 00:00:00 모멘텀 인덱스 : -0.43118802709324955 flag : False signal : \n",
      "날짜 : 2013-09-30 00:00:00 모멘텀 인덱스 : -0.47065335371274875 flag : False signal : \n",
      "날짜 : 2013-10-31 00:00:00 모멘텀 인덱스 : -0.5221457542295851 flag : False signal : \n",
      "날짜 : 2013-11-29 00:00:00 모멘텀 인덱스 : -0.4666810033332749 flag : False signal : \n",
      "날짜 : 2013-12-31 00:00:00 모멘텀 인덱스 : -0.5197240472746099 flag : False signal : \n",
      "날짜 : 2014-01-31 00:00:00 모멘텀 인덱스 : -0.4875437913438945 flag : False signal : \n",
      "날짜 : 2014-02-28 00:00:00 모멘텀 인덱스 : -0.36629692419337145 flag : False signal : \n",
      "날짜 : 2014-03-31 00:00:00 모멘텀 인덱스 : -0.3098274399790064 flag : False signal : \n",
      "날짜 : 2014-04-30 00:00:00 모멘텀 인덱스 : -0.21502910609200898 flag : False signal : \n",
      "날짜 : 2014-05-30 00:00:00 모멘텀 인덱스 : -0.17503681352181566 flag : False signal : \n",
      "날짜 : 2014-06-30 00:00:00 모멘텀 인덱스 : -0.07262981960056658 flag : False signal : \n",
      "날짜 : 2014-07-31 00:00:00 모멘텀 인덱스 : -0.010804375880855366 flag : False signal : \n",
      "날짜 : 2014-08-29 00:00:00 모멘텀 인덱스 : -0.07026959303729896 flag : False signal : \n",
      "날짜 : 2014-09-30 00:00:00 모멘텀 인덱스 : 0.07676435478149446 flag : True signal : buy\n",
      "날짜 : 2014-10-31 00:00:00 모멘텀 인덱스 : -0.14101226642828624 flag : False signal : \n",
      "날짜 : 2014-11-28 00:00:00 모멘텀 인덱스 : -0.22030462794374095 flag : False signal : \n",
      "날짜 : 2014-12-31 00:00:00 모멘텀 인덱스 : -0.13109333922944244 flag : False signal : \n",
      "날짜 : 2015-01-30 00:00:00 모멘텀 인덱스 : -0.21206096065566782 flag : False signal : \n",
      "날짜 : 2015-02-27 00:00:00 모멘텀 인덱스 : -0.13305597888840237 flag : False signal : \n",
      "날짜 : 2015-03-31 00:00:00 모멘텀 인덱스 : -0.09276271912844325 flag : False signal : \n",
      "날짜 : 2015-04-30 00:00:00 모멘텀 인덱스 : -0.23849484314342828 flag : False signal : \n",
      "날짜 : 2015-05-29 00:00:00 모멘텀 인덱스 : -0.10034755610384427 flag : False signal : \n",
      "날짜 : 2015-06-30 00:00:00 모멘텀 인덱스 : -0.2548697684675234 flag : False signal : \n",
      "날짜 : 2015-07-31 00:00:00 모멘텀 인덱스 : -0.3100449573793722 flag : False signal : \n",
      "날짜 : 2015-08-31 00:00:00 모멘텀 인덱스 : -0.4814395946397202 flag : False signal : \n",
      "날짜 : 2015-09-30 00:00:00 모멘텀 인덱스 : -0.33507764482203617 flag : False signal : \n",
      "날짜 : 2015-10-30 00:00:00 모멘텀 인덱스 : -0.19696412499811145 flag : False signal : \n",
      "날짜 : 2015-11-30 00:00:00 모멘텀 인덱스 : -0.1798294022785626 flag : False signal : \n",
      "날짜 : 2015-12-31 00:00:00 모멘텀 인덱스 : -0.2513601001268818 flag : False signal : \n",
      "날짜 : 2016-01-29 00:00:00 모멘텀 인덱스 : -0.3791977687870235 flag : False signal : \n",
      "날짜 : 2016-02-29 00:00:00 모멘텀 인덱스 : -0.3265092917938043 flag : False signal : \n",
      "날짜 : 2016-03-31 00:00:00 모멘텀 인덱스 : 0.07161337807956514 flag : True signal : buy\n",
      "날짜 : 2016-04-29 00:00:00 모멘텀 인덱스 : 0.0015557194365176663 flag : True signal : buy\n",
      "날짜 : 2016-05-31 00:00:00 모멘텀 인덱스 : 0.33051851459406967 flag : True signal : buy\n",
      "날짜 : 2016-06-30 00:00:00 모멘텀 인덱스 : 0.2823015373079145 flag : True signal : buy\n",
      "날짜 : 2016-07-29 00:00:00 모멘텀 인덱스 : 1.0325583142916508 flag : True signal : buy\n",
      "날짜 : 2016-08-31 00:00:00 모멘텀 인덱스 : 1.186561382780165 flag : True signal : buy\n",
      "날짜 : 2016-09-30 00:00:00 모멘텀 인덱스 : 0.8724427620599857 flag : True signal : buy\n",
      "날짜 : 2016-10-31 00:00:00 모멘텀 인덱스 : 0.7818649780217433 flag : True signal : buy\n",
      "날짜 : 2016-11-30 00:00:00 모멘텀 인덱스 : 0.7972612568962663 flag : True signal : buy\n",
      "날짜 : 2016-12-30 00:00:00 모멘텀 인덱스 : 0.5182214464916264 flag : True signal : buy\n",
      "날짜 : 2017-01-31 00:00:00 모멘텀 인덱스 : 0.4764586915556577 flag : True signal : buy\n",
      "날짜 : 2017-02-28 00:00:00 모멘텀 인덱스 : 0.23834767778472887 flag : True signal : buy\n",
      "날짜 : 2017-03-31 00:00:00 모멘텀 인덱스 : 0.1475242348287047 flag : True signal : buy\n",
      "날짜 : 2017-04-28 00:00:00 모멘텀 인덱스 : -0.11436539634531417 flag : False signal : \n",
      "날짜 : 2017-05-31 00:00:00 모멘텀 인덱스 : -0.012654408243646165 flag : False signal : \n",
      "날짜 : 2017-06-30 00:00:00 모멘텀 인덱스 : -0.17879477447836167 flag : False signal : \n",
      "날짜 : 2017-07-31 00:00:00 모멘텀 인덱스 : -0.2761088728634029 flag : False signal : \n",
      "날짜 : 2017-08-31 00:00:00 모멘텀 인덱스 : -0.10058512227018401 flag : False signal : \n",
      "날짜 : 2017-09-29 00:00:00 모멘텀 인덱스 : -0.061995417625173466 flag : False signal : \n",
      "날짜 : 2017-10-31 00:00:00 모멘텀 인덱스 : -0.06091453098866351 flag : False signal : \n",
      "날짜 : 2017-11-30 00:00:00 모멘텀 인덱스 : 0.08233261913633871 flag : True signal : buy\n",
      "날짜 : 2017-12-29 00:00:00 모멘텀 인덱스 : 0.07409174455740897 flag : True signal : buy\n",
      "날짜 : 2018-01-31 00:00:00 모멘텀 인덱스 : -0.02099855197441236 flag : False signal : \n",
      "날짜 : 2018-02-28 00:00:00 모멘텀 인덱스 : 0.0477733651797303 flag : True signal : buy\n",
      "날짜 : 2018-03-29 00:00:00 모멘텀 인덱스 : -0.05645515030092174 flag : False signal : \n",
      "날짜 : 2018-04-30 00:00:00 모멘텀 인덱스 : -0.003268551889144433 flag : False signal : \n",
      "날짜 : 2018-05-31 00:00:00 모멘텀 인덱스 : -0.01014723893992886 flag : False signal : \n",
      "날짜 : 2018-06-29 00:00:00 모멘텀 인덱스 : 0.019938683673460966 flag : True signal : buy\n",
      "날짜 : 2018-07-31 00:00:00 모멘텀 인덱스 : -0.016185393855149277 flag : False signal : \n",
      "날짜 : 2018-08-31 00:00:00 모멘텀 인덱스 : -0.13221300758854437 flag : False signal : \n",
      "날짜 : 2018-09-28 00:00:00 모멘텀 인덱스 : -0.1855546440136614 flag : False signal : \n",
      "날짜 : 2018-10-31 00:00:00 모멘텀 인덱스 : -0.1695095941618312 flag : False signal : \n",
      "날짜 : 2018-11-30 00:00:00 모멘텀 인덱스 : -0.15074622826845818 flag : False signal : \n",
      "날짜 : 2018-12-31 00:00:00 모멘텀 인덱스 : -0.17857135596158147 flag : False signal : \n",
      "날짜 : 2019-01-31 00:00:00 모멘텀 인덱스 : -0.10730158730158734 flag : False signal : \n",
      "날짜 : 2019-02-28 00:00:00 모멘텀 인덱스 : 0.06838652876240969 flag : True signal : buy\n",
      "날짜 : 2019-03-29 00:00:00 모멘텀 인덱스 : 0.017182564374872866 flag : True signal : buy\n",
      "날짜 : 2019-04-30 00:00:00 모멘텀 인덱스 : 0.01160790745294693 flag : True signal : buy\n",
      "날짜 : 2019-05-31 00:00:00 모멘텀 인덱스 : -0.059958495973121306 flag : False signal : \n",
      "날짜 : 2019-06-24 00:00:00 모멘텀 인덱스 : -0.0271522746409959 flag : False signal : \n"
     ]
    },
    {
     "name": "stderr",
     "output_type": "stream",
     "text": [
      "C:\\Users\\moons\\AppData\\Local\\Temp\\ipykernel_2528\\2280660222.py:10: RuntimeWarning: invalid value encountered in scalar divide\n",
      "  momentum_index = month_list_df.loc[i,'BF_1M'] / \\\n",
      "C:\\Users\\moons\\AppData\\Local\\Temp\\ipykernel_2528\\2280660222.py:10: RuntimeWarning: divide by zero encountered in scalar divide\n",
      "  momentum_index = month_list_df.loc[i,'BF_1M'] / \\\n"
     ]
    }
   ],
   "source": [
    "# 거래내역 추가 \n",
    "# 구매 조건 -> ((전월 종가 / 전 년도 종가) - 1)이 값이 0보다 크고 무한대가 아닌 경우\n",
    "\n",
    "df['trade'] = \"\"\n",
    "\n",
    "for i in month_list_df.index:\n",
    "    signal = \"\"\n",
    "\n",
    "    # 절대 모멘텀 계산\n",
    "    momentum_index = month_list_df.loc[i,'BF_1M'] / \\\n",
    "        month_list_df.loc[i,'BF_12M'] - 1\n",
    "\n",
    "    # 절대 모멘텀 지표에 따라서 True 와 False 로 구분\n",
    "    flag = True if((momentum_index > 0) and (momentum_index != -np.inf ) \\\n",
    "        and (momentum_index != np.inf)) else False\n",
    "    \n",
    "    if flag:\n",
    "        signal = 'buy'\n",
    "    \n",
    "    print('날짜 :', i, \"모멘텀 인덱스 :\", momentum_index, \"flag :\", flag, \\\n",
    "        \"signal :\", signal)\n",
    "    \n",
    "    df.loc[i, 'trade'] = signal"
   ]
  },
  {
   "cell_type": "code",
   "execution_count": null,
   "metadata": {},
   "outputs": [
    {
     "data": {
      "text/plain": [
       "       3234\n",
       "buy      61\n",
       "Name: trade, dtype: int64"
      ]
     },
     "execution_count": 72,
     "metadata": {},
     "output_type": "execute_result"
    }
   ],
   "source": [
    "df['trade'].value_counts()"
   ]
  },
  {
   "attachments": {},
   "cell_type": "markdown",
   "metadata": {},
   "source": [
    "### 수익율 계산\n",
    "1. 파생변수(return) 값은 1로 생성\n",
    "2. rtn = 1.0, buy, sell 변수는 0으로 생성\n",
    "3. 반복문을 이용해서 현재의 trade가 buy이고 전 행의 trade가 \"\"는 경우 구매 날\n",
    "4. 전 행의 trade가 buy이고 현재의 trade가 \"\"인 경우 판매 날\n",
    "5. 수익율 계산해서 return 대입\n",
    "\n",
    "### 누적 수익율 계산\n",
    "1. acc_rtn = 1.0 생성\n",
    "2. return의 항목들을 누적 곱하여 acc_rtn 컬럼에 대입\n",
    "3. 최종적으로 acc_rtn을 출력"
   ]
  },
  {
   "cell_type": "code",
   "execution_count": null,
   "metadata": {},
   "outputs": [
    {
     "name": "stdout",
     "output_type": "stream",
     "text": [
      "<class 'pandas.core.frame.DataFrame'>\n",
      "DatetimeIndex: 3295 entries, 2006-05-22 to 2019-06-24\n",
      "Data columns (total 8 columns):\n",
      " #   Column     Non-Null Count  Dtype  \n",
      "---  ------     --------------  -----  \n",
      " 0   Open       3295 non-null   float64\n",
      " 1   High       3295 non-null   float64\n",
      " 2   Low        3295 non-null   float64\n",
      " 3   Close      3295 non-null   float64\n",
      " 4   Adj Close  3295 non-null   float64\n",
      " 5   Volume     3295 non-null   int64  \n",
      " 6   STD-YM     3295 non-null   object \n",
      " 7   trade      3295 non-null   object \n",
      "dtypes: float64(5), int64(1), object(2)\n",
      "memory usage: 360.7+ KB\n"
     ]
    }
   ],
   "source": [
    "df.info()"
   ]
  },
  {
   "cell_type": "code",
   "execution_count": null,
   "metadata": {},
   "outputs": [
    {
     "data": {
      "text/plain": [
       "3295"
      ]
     },
     "execution_count": 76,
     "metadata": {},
     "output_type": "execute_result"
    }
   ],
   "source": [
    "len(df.index.unique())"
   ]
  },
  {
   "cell_type": "code",
   "execution_count": null,
   "metadata": {},
   "outputs": [
    {
     "data": {
      "text/plain": [
       "2006-05-22    1\n",
       "2006-06-09    1\n",
       "2006-05-24    1\n",
       "2006-05-25    1\n",
       "2006-05-26    1\n",
       "             ..\n",
       "2019-06-17    1\n",
       "2019-06-18    1\n",
       "2019-06-19    1\n",
       "2019-06-20    1\n",
       "2019-06-24    1\n",
       "Name: Date, Length: 3295, dtype: int64"
      ]
     },
     "execution_count": 78,
     "metadata": {},
     "output_type": "execute_result"
    }
   ],
   "source": [
    "df.index.value_counts().sort_values(ascending=False)"
   ]
  },
  {
   "cell_type": "code",
   "execution_count": null,
   "metadata": {},
   "outputs": [],
   "source": [
    "df['return'] = 1\n",
    "rtn = 1.0\n",
    "buy = 0\n",
    "sell = 0\n",
    "\n",
    "for i in df.index:\n",
    "    # 구매한 날을 체크 , 구매가 지정\n",
    "    if (df.loc[i, 'trade'] == \"buy\") and (df.shift(1).loc[i, 'trade'] == \"\"):\n",
    "        buy = df.loc[i, 'Adj Close']\n",
    "        print('진입일 :', i, '구입 가격 :', buy)\n",
    "    # 판매한 날을 체크, 판매가 지정, 수익율 계산\n",
    "    elif (df.loc[i, 'trade'] == \"\") and (df.shift(1).loc[i, 'trade'] == 'buy'):\n",
    "        sell = df.loc[i, 'Adj Close']\n",
    "        rtn = (sell - buy) / buy + 1\n",
    "        df.loc[i, 'return'] = rtn\n",
    "        print('판매일 :', i, \"판매 가격 :\", sell, \"수익율 :\", rtn)\n",
    "\n"
   ]
  },
  {
   "cell_type": "code",
   "execution_count": null,
   "metadata": {},
   "outputs": [
    {
     "name": "stdout",
     "output_type": "stream",
     "text": [
      "누적 수익율 : 1.165001849964831\n"
     ]
    }
   ],
   "source": [
    "acc_rtn = 1.0\n",
    "\n",
    "for i in df.index:\n",
    "    acc_rtn *= df.loc[i, 'return']\n",
    "    df.loc[i, 'acc_rtn'] = acc_rtn\n",
    "\n",
    "print('누적 수익율 :', acc_rtn)"
   ]
  },
  {
   "cell_type": "code",
   "execution_count": null,
   "metadata": {},
   "outputs": [
    {
     "data": {
      "text/plain": [
       "Date\n",
       "2006-05-22    1.000000\n",
       "2006-05-23    1.000000\n",
       "2006-05-24    1.000000\n",
       "2006-05-25    1.000000\n",
       "2006-05-26    1.000000\n",
       "                ...   \n",
       "2019-06-18    1.165002\n",
       "2019-06-19    1.165002\n",
       "2019-06-20    1.165002\n",
       "2019-06-21    1.165002\n",
       "2019-06-24    1.165002\n",
       "Name: return, Length: 3295, dtype: float64"
      ]
     },
     "execution_count": 82,
     "metadata": {},
     "output_type": "execute_result"
    }
   ],
   "source": [
    "# 누적곱를 해주는 함수 \n",
    "df['return'].cumprod()"
   ]
  },
  {
   "attachments": {},
   "cell_type": "markdown",
   "metadata": {},
   "source": [
    "# 절대 모멘텀을 함수화\n",
    "1. 첫 번째 함수\n",
    "    - 매개변수 1개(데이터프레임)\n",
    "    - 데이터프레임에 결측치와 이상치를 제거 \n",
    "    - 수정종가를 제외한 나머지 컬럼은 삭제\n",
    "    - 인덱스를 시계열로 변경\n",
    "    - 'STD-YM' 파생변수를 생성하여 인덱스의 년-월 추출해서 대입\n",
    "2. 두 번째 함수\n",
    "    - 매개변수 1개(데이터프레임)\n",
    "    - 새로운 데이터프레임(df2) 생성\n",
    "    - 인자값으로 받아온 데이터프레임에서 년-월별 마지막 데이터들을 새로운 데이터프레임에 대입\n",
    "    - df2에 파생변수 2개 생성\n",
    "        - 'BF_1M' : 전월의 종가, 결측치는 0으로 대체\n",
    "        - 'BF_12M' : 전 년도의 종가, 결측치는 0으로 대체\n",
    "    - df2를 리턴\n",
    "3. 세 번째 함수\n",
    "    - 매개변수 2개(첫번째 함수의 결과(df1), 두 번째 함수의 결과(df2))\n",
    "    - df1에 trade 컬럼을 생성, 값은  \"\"\n",
    "    - df1에 return 컬럼을 생성, 값은 1\n",
    "    - df2의 값들을 이용하여 momentum_index를 구하고 df1에 거래 내역 삽입\n",
    "    - df1의 거래 내역을 이용하여 수익율 return 컬럼에 대입\n",
    "    - return 컬럼의 데이터를 가지고 누적수익율(acc_rtn)에 대입\n",
    "    - 누적 수익율을 print를 이용하여 출력\n",
    "    - df1을 리턴"
   ]
  },
  {
   "cell_type": "code",
   "execution_count": 104,
   "metadata": {},
   "outputs": [],
   "source": [
    "# 1번 함수 생성\n",
    "def first(df):\n",
    "    # 인덱스가 Date가 아니면? Date컬럼을 인덱스로 변경\n",
    "    if 'Date' in df.columns:\n",
    "        df = df.set_index('Date')\n",
    "    # 결측치와 이상치를 제거\n",
    "    df = df.loc[~df.isin([np.nan, np.inf, -np.inf]).any(axis='columns')]\n",
    "    # 수정종가를 제외한 나머지 컬럼 삭제\n",
    "    df = df[['Adj Close']]\n",
    "    # 인덱스를 시계열로 변경\n",
    "    df.index = pd.to_datetime(df.index, format='%Y-%m-%d')\n",
    "    # STD-YM 컬럼을 생성 \n",
    "    df['STD-YM'] = list(map(lambda x : datetime.strftime(x, '%Y-%m'), df.index))\n",
    "\n",
    "    return df"
   ]
  },
  {
   "cell_type": "code",
   "execution_count": 105,
   "metadata": {},
   "outputs": [],
   "source": [
    "data = pd.read_csv(\"../csv/GDX.csv\")"
   ]
  },
  {
   "cell_type": "code",
   "execution_count": 106,
   "metadata": {},
   "outputs": [],
   "source": [
    "df1 = first(data)"
   ]
  },
  {
   "cell_type": "code",
   "execution_count": 107,
   "metadata": {},
   "outputs": [],
   "source": [
    "# 2번함수 \n",
    "def second(df):\n",
    "    # df2 = pd.DataFrame()\n",
    "\n",
    "    # _list = df['STD-YM'].unique()\n",
    "\n",
    "    # for i in _list:\n",
    "    #     last_df = df.loc[df['STD-YM'] == i].tail(1)\n",
    "    #     df2 = pd.concat([df2, last_df])\n",
    "\n",
    "    df2 = df.loc[df['STD-YM'] != df.shift(-1)['STD-YM']]\n",
    "    \n",
    "    df2['BF_1M'] = df2.shift(1)['Adj Close'].fillna(0)\n",
    "    df2['BF_12M'] = df2.shift(12)['Adj Close'].fillna(0)\n",
    "\n",
    "    return df2"
   ]
  },
  {
   "cell_type": "code",
   "execution_count": 108,
   "metadata": {},
   "outputs": [
    {
     "name": "stderr",
     "output_type": "stream",
     "text": [
      "C:\\Users\\moons\\AppData\\Local\\Temp\\ipykernel_2528\\449586186.py:13: SettingWithCopyWarning: \n",
      "A value is trying to be set on a copy of a slice from a DataFrame.\n",
      "Try using .loc[row_indexer,col_indexer] = value instead\n",
      "\n",
      "See the caveats in the documentation: https://pandas.pydata.org/pandas-docs/stable/user_guide/indexing.html#returning-a-view-versus-a-copy\n",
      "  df2['BF_1M'] = df2.shift(1)['Adj Close'].fillna(0)\n",
      "C:\\Users\\moons\\AppData\\Local\\Temp\\ipykernel_2528\\449586186.py:14: SettingWithCopyWarning: \n",
      "A value is trying to be set on a copy of a slice from a DataFrame.\n",
      "Try using .loc[row_indexer,col_indexer] = value instead\n",
      "\n",
      "See the caveats in the documentation: https://pandas.pydata.org/pandas-docs/stable/user_guide/indexing.html#returning-a-view-versus-a-copy\n",
      "  df2['BF_12M'] = df2.shift(12)['Adj Close'].fillna(0)\n"
     ]
    }
   ],
   "source": [
    "df2 = second(df1)"
   ]
  },
  {
   "cell_type": "code",
   "execution_count": 109,
   "metadata": {},
   "outputs": [],
   "source": [
    "# 3번 함수\n",
    "def third(df1, df2):\n",
    "    df1['trade'] = \"\"\n",
    "    df1['return'] = 1\n",
    "\n",
    "    for i in df2.index:\n",
    "        signal = \"\"\n",
    "\n",
    "        momentum_index = df2.loc[i, 'BF_1M'] / df2.loc[i, 'BF_12M'] - 1\n",
    "\n",
    "        flag = True if((momentum_index > 0) \\\n",
    "                and (momentum_index != np.inf) \\\n",
    "                and (momentum_index != -np.inf)) else False\n",
    "        \n",
    "        if flag : \n",
    "            signal = 'buy'\n",
    "        \n",
    "        df1.loc[i, 'trade'] = signal\n",
    "    \n",
    "    rtn = 1.0\n",
    "    buy = 0\n",
    "    sell = 0\n",
    "\n",
    "    for i in df1.index:\n",
    "        if (df1.loc[i, 'trade'] == \"buy\") and (df1.shift(1).loc[i, 'trade'] == \"\"):\n",
    "            buy = df1.loc[i, 'Adj Close']\n",
    "            print('구입일 :', i, \"구입 가격 :\", buy)\n",
    "        elif (df1.loc[i, 'trade'] == \"\") and (df1.shift(1).loc[i, 'trade'] == \"buy\"):\n",
    "            sell = df1.loc[i, 'Adj Close']\n",
    "            print('판매일 :', i, \"판매 가격 :\", sell)\n",
    "            rtn = (sell - buy) / buy + 1\n",
    "            df1.loc[i, 'return'] = rtn\n",
    "    \n",
    "\n",
    "    acc_rtn = 1.0\n",
    "\n",
    "    for i in df1.index:\n",
    "        acc_rtn *= df1.loc[i, 'return']\n",
    "        df1.loc[i, 'acc_rtn'] = acc_rtn\n",
    "    print(acc_rtn)\n",
    "\n",
    "    return df1\n"
   ]
  },
  {
   "cell_type": "code",
   "execution_count": 110,
   "metadata": {},
   "outputs": [
    {
     "name": "stderr",
     "output_type": "stream",
     "text": [
      "C:\\Users\\moons\\AppData\\Local\\Temp\\ipykernel_2528\\2487612304.py:9: RuntimeWarning: invalid value encountered in scalar divide\n",
      "  momentum_index = df2.loc[i, 'BF_1M'] / df2.loc[i, 'BF_12M'] - 1\n",
      "C:\\Users\\moons\\AppData\\Local\\Temp\\ipykernel_2528\\2487612304.py:9: RuntimeWarning: divide by zero encountered in scalar divide\n",
      "  momentum_index = df2.loc[i, 'BF_1M'] / df2.loc[i, 'BF_12M'] - 1\n"
     ]
    },
    {
     "name": "stdout",
     "output_type": "stream",
     "text": [
      "구입일 : 2007-05-31 00:00:00 구입 가격 : 36.162109\n",
      "판매일 : 2007-06-01 00:00:00 판매 가격 : 36.993214\n",
      "구입일 : 2007-06-29 00:00:00 구입 가격 : 34.989338\n",
      "판매일 : 2007-07-02 00:00:00 판매 가격 : 35.866615\n",
      "구입일 : 2007-09-28 00:00:00 구입 가격 : 41.878242\n",
      "판매일 : 2007-10-01 00:00:00 판매 가격 : 42.312256\n",
      "구입일 : 2007-10-31 00:00:00 구입 가격 : 46.72633\n",
      "판매일 : 2007-11-01 00:00:00 판매 가격 : 45.082588\n",
      "구입일 : 2007-11-30 00:00:00 구입 가격 : 42.810921\n",
      "판매일 : 2007-12-03 00:00:00 판매 가격 : 43.235706\n",
      "구입일 : 2007-12-31 00:00:00 구입 가격 : 43.033947\n",
      "판매일 : 2008-01-02 00:00:00 판매 가격 : 46.235912\n",
      "구입일 : 2008-01-31 00:00:00 구입 가격 : 47.278187\n",
      "판매일 : 2008-02-01 00:00:00 판매 가격 : 46.151402\n",
      "구입일 : 2008-02-29 00:00:00 구입 가격 : 49.879185\n",
      "판매일 : 2008-03-03 00:00:00 판매 가격 : 51.287678\n",
      "구입일 : 2008-03-31 00:00:00 구입 가격 : 44.78986\n",
      "판매일 : 2008-04-01 00:00:00 판매 가격 : 43.559784\n",
      "구입일 : 2008-04-30 00:00:00 구입 가격 : 40.939995\n",
      "판매일 : 2008-05-01 00:00:00 판매 가격 : 40.047958\n",
      "구입일 : 2008-05-30 00:00:00 구입 가격 : 43.212353\n",
      "판매일 : 2008-06-02 00:00:00 판매 가격 : 43.57856\n",
      "구입일 : 2008-06-30 00:00:00 구입 가격 : 45.625561\n",
      "판매일 : 2008-07-01 00:00:00 판매 가격 : 46.508213\n",
      "구입일 : 2008-07-31 00:00:00 구입 가격 : 40.827316\n",
      "판매일 : 2008-08-01 00:00:00 판매 가격 : 39.813213\n",
      "구입일 : 2008-08-29 00:00:00 구입 가격 : 35.343613\n",
      "판매일 : 2008-09-02 00:00:00 판매 가격 : 33.099422\n",
      "구입일 : 2009-08-31 00:00:00 구입 가격 : 37.099522\n",
      "판매일 : 2009-09-01 00:00:00 판매 가격 : 36.423454\n",
      "구입일 : 2009-09-30 00:00:00 구입 가격 : 42.526897\n",
      "판매일 : 2009-10-01 00:00:00 판매 가격 : 40.432941\n",
      "구입일 : 2009-10-30 00:00:00 구입 가격 : 39.785034\n",
      "판매일 : 2009-11-02 00:00:00 판매 가격 : 40.263927\n",
      "구입일 : 2009-11-30 00:00:00 구입 가격 : 47.991817\n",
      "판매일 : 2009-12-01 00:00:00 판매 가격 : 50.405022\n",
      "구입일 : 2009-12-31 00:00:00 구입 가격 : 43.496857\n",
      "판매일 : 2010-01-04 00:00:00 판매 가격 : 44.908779\n",
      "구입일 : 2010-01-29 00:00:00 구입 가격 : 38.329189\n",
      "판매일 : 2010-02-01 00:00:00 판매 가격 : 40.418842\n",
      "구입일 : 2010-02-26 00:00:00 구입 가격 : 41.313072\n",
      "판매일 : 2010-03-01 00:00:00 판매 가격 : 42.019035\n",
      "구입일 : 2010-03-31 00:00:00 구입 가격 : 41.80254\n",
      "판매일 : 2010-04-01 00:00:00 판매 가격 : 43.675705\n",
      "구입일 : 2010-04-30 00:00:00 구입 가격 : 47.544388\n",
      "판매일 : 2010-05-03 00:00:00 판매 가격 : 46.951374\n",
      "구입일 : 2010-05-28 00:00:00 구입 가격 : 46.932549\n",
      "판매일 : 2010-06-01 00:00:00 판매 가격 : 46.885487\n",
      "구입일 : 2010-06-30 00:00:00 구입 가격 : 48.909252\n",
      "판매일 : 2010-07-01 00:00:00 판매 가격 : 46.706642\n",
      "구입일 : 2010-07-30 00:00:00 구입 가격 : 45.388844\n",
      "판매일 : 2010-08-02 00:00:00 판매 가격 : 45.228813\n",
      "구입일 : 2010-08-31 00:00:00 구입 가격 : 50.462372\n",
      "판매일 : 2010-09-01 00:00:00 판매 가격 : 49.746994\n",
      "구입일 : 2010-09-30 00:00:00 구입 가격 : 52.64616\n",
      "판매일 : 2010-10-01 00:00:00 판매 가격 : 53.276817\n",
      "구입일 : 2010-10-29 00:00:00 구입 가격 : 53.935722\n",
      "판매일 : 2010-11-01 00:00:00 판매 가격 : 53.869831\n",
      "구입일 : 2010-11-30 00:00:00 구입 가격 : 56.00655\n",
      "판매일 : 2010-12-01 00:00:00 판매 가격 : 56.740753\n",
      "구입일 : 2010-12-31 00:00:00 구입 가격 : 58.251236\n",
      "판매일 : 2011-01-03 00:00:00 판매 가격 : 57.587898\n",
      "구입일 : 2011-01-31 00:00:00 구입 가격 : 51.096581\n",
      "판매일 : 2011-02-01 00:00:00 판매 가격 : 52.536987\n",
      "구입일 : 2011-02-28 00:00:00 구입 가격 : 56.697117\n",
      "판매일 : 2011-03-01 00:00:00 판매 가격 : 57.616322\n",
      "구입일 : 2011-03-31 00:00:00 구입 가격 : 56.952976\n",
      "판매일 : 2011-04-01 00:00:00 판매 가격 : 56.640263\n",
      "구입일 : 2011-04-29 00:00:00 구입 가격 : 58.94302\n",
      "판매일 : 2011-05-02 00:00:00 판매 가격 : 56.971931\n",
      "구입일 : 2011-05-31 00:00:00 구입 가격 : 55.105083\n",
      "판매일 : 2011-06-01 00:00:00 판매 가격 : 54.081638\n",
      "구입일 : 2011-06-30 00:00:00 구입 가격 : 51.731499\n",
      "판매일 : 2011-07-01 00:00:00 판매 가격 : 50.92601\n",
      "구입일 : 2011-07-29 00:00:00 구입 가격 : 53.911064\n",
      "판매일 : 2011-08-01 00:00:00 판매 가격 : 54.356449\n",
      "구입일 : 2011-08-31 00:00:00 구입 가격 : 59.511593\n",
      "판매일 : 2011-09-01 00:00:00 판매 가격 : 60.06123\n",
      "구입일 : 2011-09-30 00:00:00 구입 가격 : 52.300083\n",
      "판매일 : 2011-10-03 00:00:00 판매 가격 : 51.598824\n",
      "구입일 : 2014-09-30 00:00:00 구입 가격 : 20.70196\n",
      "판매일 : 2014-10-01 00:00:00 판매 가격 : 20.740725\n",
      "구입일 : 2016-03-31 00:00:00 구입 가격 : 19.649097\n",
      "판매일 : 2016-04-01 00:00:00 판매 가격 : 19.796688\n",
      "구입일 : 2016-04-29 00:00:00 구입 가격 : 25.414934\n",
      "판매일 : 2016-05-02 00:00:00 판매 가격 : 24.982004\n",
      "구입일 : 2016-05-31 00:00:00 구입 가격 : 22.217159\n",
      "판매일 : 2016-06-01 00:00:00 판매 가격 : 22.354908\n",
      "구입일 : 2016-06-30 00:00:00 구입 가격 : 27.264723\n",
      "판매일 : 2016-07-01 00:00:00 판매 가격 : 28.583189\n",
      "구입일 : 2016-07-29 00:00:00 구입 가격 : 30.098446\n",
      "판매일 : 2016-08-01 00:00:00 판매 가격 : 30.432981\n",
      "구입일 : 2016-08-31 00:00:00 구입 가격 : 25.080399\n",
      "판매일 : 2016-09-01 00:00:00 판매 가격 : 25.995451\n",
      "구입일 : 2016-09-30 00:00:00 구입 가격 : 26.005293\n",
      "판매일 : 2016-10-03 00:00:00 판매 가격 : 25.542843\n",
      "구입일 : 2016-10-31 00:00:00 구입 가격 : 24.125984\n",
      "판매일 : 2016-11-01 00:00:00 판매 가격 : 24.726181\n",
      "구입일 : 2016-11-30 00:00:00 구입 가격 : 20.495279\n",
      "판매일 : 2016-12-01 00:00:00 판매 가격 : 20.328011\n",
      "구입일 : 2016-12-30 00:00:00 구입 가격 : 20.643339\n",
      "판매일 : 2017-01-03 00:00:00 판매 가격 : 21.472231\n",
      "구입일 : 2017-01-31 00:00:00 구입 가격 : 23.613533\n",
      "판매일 : 2017-02-01 00:00:00 판매 가격 : 23.534592\n",
      "구입일 : 2017-02-28 00:00:00 구입 가격 : 22.547815\n",
      "판매일 : 2017-03-01 00:00:00 판매 가격 : 22.676096\n",
      "구입일 : 2017-03-31 00:00:00 구입 가격 : 22.508345\n",
      "판매일 : 2017-04-03 00:00:00 판매 가격 : 22.893188\n",
      "구입일 : 2017-11-30 00:00:00 구입 가격 : 22.17284\n",
      "판매일 : 2017-12-01 00:00:00 판매 가격 : 22.192577\n",
      "구입일 : 2017-12-29 00:00:00 구입 가격 : 23.117683\n",
      "판매일 : 2018-01-02 00:00:00 판매 가격 : 23.694632\n",
      "구입일 : 2018-02-28 00:00:00 구입 가격 : 21.237633\n",
      "판매일 : 2018-03-01 00:00:00 판매 가격 : 21.456474\n",
      "구입일 : 2018-06-29 00:00:00 구입 가격 : 22.192579\n",
      "판매일 : 2018-07-02 00:00:00 판매 가격 : 21.963789\n",
      "구입일 : 2019-02-28 00:00:00 구입 가격 : 22.24\n",
      "판매일 : 2019-03-01 00:00:00 판매 가격 : 21.700001\n",
      "구입일 : 2019-03-29 00:00:00 구입 가격 : 22.42\n",
      "판매일 : 2019-04-01 00:00:00 판매 가격 : 21.959999\n",
      "구입일 : 2019-04-30 00:00:00 구입 가격 : 20.889999\n",
      "판매일 : 2019-05-01 00:00:00 판매 가격 : 20.52\n",
      "1.165001849964831\n"
     ]
    },
    {
     "data": {
      "text/html": [
       "<div>\n",
       "<style scoped>\n",
       "    .dataframe tbody tr th:only-of-type {\n",
       "        vertical-align: middle;\n",
       "    }\n",
       "\n",
       "    .dataframe tbody tr th {\n",
       "        vertical-align: top;\n",
       "    }\n",
       "\n",
       "    .dataframe thead th {\n",
       "        text-align: right;\n",
       "    }\n",
       "</style>\n",
       "<table border=\"1\" class=\"dataframe\">\n",
       "  <thead>\n",
       "    <tr style=\"text-align: right;\">\n",
       "      <th></th>\n",
       "      <th>Adj Close</th>\n",
       "      <th>STD-YM</th>\n",
       "      <th>trade</th>\n",
       "      <th>return</th>\n",
       "      <th>acc_rtn</th>\n",
       "    </tr>\n",
       "    <tr>\n",
       "      <th>Date</th>\n",
       "      <th></th>\n",
       "      <th></th>\n",
       "      <th></th>\n",
       "      <th></th>\n",
       "      <th></th>\n",
       "    </tr>\n",
       "  </thead>\n",
       "  <tbody>\n",
       "    <tr>\n",
       "      <th>2006-05-22</th>\n",
       "      <td>34.280224</td>\n",
       "      <td>2006-05</td>\n",
       "      <td></td>\n",
       "      <td>1.0</td>\n",
       "      <td>1.000000</td>\n",
       "    </tr>\n",
       "    <tr>\n",
       "      <th>2006-05-23</th>\n",
       "      <td>34.952393</td>\n",
       "      <td>2006-05</td>\n",
       "      <td></td>\n",
       "      <td>1.0</td>\n",
       "      <td>1.000000</td>\n",
       "    </tr>\n",
       "    <tr>\n",
       "      <th>2006-05-24</th>\n",
       "      <td>33.626480</td>\n",
       "      <td>2006-05</td>\n",
       "      <td></td>\n",
       "      <td>1.0</td>\n",
       "      <td>1.000000</td>\n",
       "    </tr>\n",
       "    <tr>\n",
       "      <th>2006-05-25</th>\n",
       "      <td>35.283867</td>\n",
       "      <td>2006-05</td>\n",
       "      <td></td>\n",
       "      <td>1.0</td>\n",
       "      <td>1.000000</td>\n",
       "    </tr>\n",
       "    <tr>\n",
       "      <th>2006-05-26</th>\n",
       "      <td>35.495640</td>\n",
       "      <td>2006-05</td>\n",
       "      <td></td>\n",
       "      <td>1.0</td>\n",
       "      <td>1.000000</td>\n",
       "    </tr>\n",
       "    <tr>\n",
       "      <th>...</th>\n",
       "      <td>...</td>\n",
       "      <td>...</td>\n",
       "      <td>...</td>\n",
       "      <td>...</td>\n",
       "      <td>...</td>\n",
       "    </tr>\n",
       "    <tr>\n",
       "      <th>2019-06-18</th>\n",
       "      <td>23.670000</td>\n",
       "      <td>2019-06</td>\n",
       "      <td></td>\n",
       "      <td>1.0</td>\n",
       "      <td>1.165002</td>\n",
       "    </tr>\n",
       "    <tr>\n",
       "      <th>2019-06-19</th>\n",
       "      <td>24.000000</td>\n",
       "      <td>2019-06</td>\n",
       "      <td></td>\n",
       "      <td>1.0</td>\n",
       "      <td>1.165002</td>\n",
       "    </tr>\n",
       "    <tr>\n",
       "      <th>2019-06-20</th>\n",
       "      <td>25.049999</td>\n",
       "      <td>2019-06</td>\n",
       "      <td></td>\n",
       "      <td>1.0</td>\n",
       "      <td>1.165002</td>\n",
       "    </tr>\n",
       "    <tr>\n",
       "      <th>2019-06-21</th>\n",
       "      <td>25.209999</td>\n",
       "      <td>2019-06</td>\n",
       "      <td></td>\n",
       "      <td>1.0</td>\n",
       "      <td>1.165002</td>\n",
       "    </tr>\n",
       "    <tr>\n",
       "      <th>2019-06-24</th>\n",
       "      <td>25.703501</td>\n",
       "      <td>2019-06</td>\n",
       "      <td></td>\n",
       "      <td>1.0</td>\n",
       "      <td>1.165002</td>\n",
       "    </tr>\n",
       "  </tbody>\n",
       "</table>\n",
       "<p>3295 rows × 5 columns</p>\n",
       "</div>"
      ],
      "text/plain": [
       "            Adj Close   STD-YM trade  return   acc_rtn\n",
       "Date                                                  \n",
       "2006-05-22  34.280224  2006-05           1.0  1.000000\n",
       "2006-05-23  34.952393  2006-05           1.0  1.000000\n",
       "2006-05-24  33.626480  2006-05           1.0  1.000000\n",
       "2006-05-25  35.283867  2006-05           1.0  1.000000\n",
       "2006-05-26  35.495640  2006-05           1.0  1.000000\n",
       "...               ...      ...   ...     ...       ...\n",
       "2019-06-18  23.670000  2019-06           1.0  1.165002\n",
       "2019-06-19  24.000000  2019-06           1.0  1.165002\n",
       "2019-06-20  25.049999  2019-06           1.0  1.165002\n",
       "2019-06-21  25.209999  2019-06           1.0  1.165002\n",
       "2019-06-24  25.703501  2019-06           1.0  1.165002\n",
       "\n",
       "[3295 rows x 5 columns]"
      ]
     },
     "execution_count": 110,
     "metadata": {},
     "output_type": "execute_result"
    }
   ],
   "source": [
    "third(df1, df2)"
   ]
  },
  {
   "cell_type": "code",
   "execution_count": null,
   "metadata": {},
   "outputs": [],
   "source": []
  }
 ],
 "metadata": {
  "kernelspec": {
   "display_name": "Python 3",
   "language": "python",
   "name": "python3"
  },
  "language_info": {
   "codemirror_mode": {
    "name": "ipython",
    "version": 3
   },
   "file_extension": ".py",
   "mimetype": "text/x-python",
   "name": "python",
   "nbconvert_exporter": "python",
   "pygments_lexer": "ipython3",
   "version": "3.11.1"
  },
  "orig_nbformat": 4
 },
 "nbformat": 4,
 "nbformat_minor": 2
}
