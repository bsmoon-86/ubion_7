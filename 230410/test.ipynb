{
 "cells": [
  {
   "cell_type": "code",
   "execution_count": null,
   "metadata": {},
   "outputs": [],
   "source": [
    "import requests"
   ]
  },
  {
   "cell_type": "code",
   "execution_count": null,
   "metadata": {},
   "outputs": [],
   "source": [
    "url = \"http://localhost:3000/corona\"\n",
    "params = {\n",
    "    'servicekey' : 'aaa'\n",
    "}\n",
    "\n",
    "data = requests.get(url, params=params).content"
   ]
  },
  {
   "cell_type": "code",
   "execution_count": null,
   "metadata": {},
   "outputs": [],
   "source": [
    "import pprint as pp"
   ]
  },
  {
   "cell_type": "code",
   "execution_count": null,
   "metadata": {},
   "outputs": [],
   "source": [
    "url = \"https://www.naver.com\"\n",
    "\n",
    "data = requests.get(url)"
   ]
  },
  {
   "cell_type": "code",
   "execution_count": null,
   "metadata": {},
   "outputs": [],
   "source": [
    "data = data.text"
   ]
  },
  {
   "cell_type": "code",
   "execution_count": null,
   "metadata": {},
   "outputs": [],
   "source": [
    "data.find('네이버')"
   ]
  },
  {
   "cell_type": "code",
   "execution_count": null,
   "metadata": {},
   "outputs": [],
   "source": [
    "data[365:368]"
   ]
  },
  {
   "cell_type": "code",
   "execution_count": null,
   "metadata": {},
   "outputs": [],
   "source": [
    "!pip install bs4"
   ]
  },
  {
   "attachments": {},
   "cell_type": "markdown",
   "metadata": {},
   "source": [
    "# beautifulsoup 라이브러리\n",
    "1. html tag의 데이터를 쉽게 추출하기 위한 라이브러리 \n",
    "2. 웹의 구조를 어느정도 인지를 한 상태에서 라이브러리 사용하면 쉽게 데이터 추출\n",
    "3. 파서(parser)를 활용하여 파이썬에서 접근이 쉽게 객체 형태로 제공"
   ]
  },
  {
   "cell_type": "code",
   "execution_count": null,
   "metadata": {},
   "outputs": [],
   "source": [
    "from bs4 import BeautifulSoup as bs"
   ]
  },
  {
   "cell_type": "code",
   "execution_count": null,
   "metadata": {},
   "outputs": [],
   "source": [
    "# html 형태로 파싱 \n",
    "soup = bs(data, 'html.parser')"
   ]
  },
  {
   "cell_type": "code",
   "execution_count": null,
   "metadata": {},
   "outputs": [],
   "source": [
    "print(soup)"
   ]
  },
  {
   "attachments": {},
   "cell_type": "markdown",
   "metadata": {},
   "source": [
    "- 태그의 이름을 사용해서 검색\n",
    "    - soup[태그명] : 해당 태그의 첫번째 정보를 출력\n",
    "    - soup[태그명][속성] : 해당 태그의 첫번째 속성에 대한 값을 출력"
   ]
  },
  {
   "cell_type": "code",
   "execution_count": null,
   "metadata": {},
   "outputs": [],
   "source": [
    "print(soup.title)\n",
    "print(soup.title.name)\n",
    "print(soup.title.string)"
   ]
  },
  {
   "cell_type": "code",
   "execution_count": null,
   "metadata": {},
   "outputs": [],
   "source": [
    "print(soup.img)\n",
    "print(soup.img['alt'])"
   ]
  },
  {
   "attachments": {},
   "cell_type": "markdown",
   "metadata": {},
   "source": [
    "- find()\n",
    "    - HTML 문서 안에서 해당 태그의 첫번째 정보 출력\n",
    "    - find(속성 = 값) : HTML 문서 안에서 해당 속성과 일치하는 값을 가진 태그의 첫번째 정보 출력"
   ]
  },
  {
   "cell_type": "code",
   "execution_count": null,
   "metadata": {},
   "outputs": [],
   "source": [
    "print(soup.find('a'))"
   ]
  },
  {
   "cell_type": "code",
   "execution_count": null,
   "metadata": {},
   "outputs": [],
   "source": [
    "print(soup.find(id = 'newsstand'))"
   ]
  },
  {
   "attachments": {},
   "cell_type": "markdown",
   "metadata": {},
   "source": [
    "- find_all()\n",
    "    - HTML 문서 안에서 해당 태그에 대한 정보를 모두 출력 (데이터형태가 list)\n",
    "    - limit 매개변수 : 리스트의 길이 지정"
   ]
  },
  {
   "cell_type": "code",
   "execution_count": null,
   "metadata": {},
   "outputs": [],
   "source": [
    "print(soup.find_all('span')[2])"
   ]
  },
  {
   "cell_type": "code",
   "execution_count": null,
   "metadata": {},
   "outputs": [],
   "source": [
    "sample = soup.find('div', attrs={\n",
    "    'class' : 'media_view'\n",
    "})"
   ]
  },
  {
   "cell_type": "code",
   "execution_count": null,
   "metadata": {},
   "outputs": [],
   "source": [
    "print(sample)"
   ]
  },
  {
   "cell_type": "code",
   "execution_count": null,
   "metadata": {},
   "outputs": [],
   "source": [
    "sample_list = sample.find_all('strong')\n",
    "print(sample_list)"
   ]
  },
  {
   "cell_type": "code",
   "execution_count": null,
   "metadata": {},
   "outputs": [],
   "source": [
    "sample_list[0].get_text()"
   ]
  },
  {
   "cell_type": "code",
   "execution_count": 51,
   "metadata": {},
   "outputs": [
    {
     "name": "stdout",
     "output_type": "stream",
     "text": [
      "['[스페셜] 가정교육은커녕, 돈이 없어서 학교까지 자퇴한 어린 소녀의 무자비한 악플💥, 누가 잘못일까(=부모)? | JTBC 230409 '\n",
      " '방송',\n",
      " '이게 되네..? 귀국할 뻔한 백종원을 잡아준 은인❣ #highlight',\n",
      " '찬또의 초간단 도시락 메뉴★ 꾸미유부초밥부터 묵은지말이쌈밥까지 뚝딱! | KBS 230407 방송',\n",
      " '[19화 선공개] 박형식을 향한 전소니의 애틋한 사랑 고백♥',\n",
      " \"1회 선공개｜이찬원이 부릅니다 '희망가'｜도원차트 ON THE STAGE｜월요일 저녁 7시 30분\",\n",
      " '(울컥) 김태향의 증언으로, 마침내 김준의의 후견인이 된 조승우 | JTBC 230409 방송',\n",
      " '[단독 선공개] 철웅이 고것도... 나 뱃속에서 나온 새끼랑께... | KBS 방송',\n",
      " '서인영의 로망을 실현 해내는 빛키정✨ | KBS 230409 방송',\n",
      " '[선공개] 새로운 사랑꾼 대공개! 국경을 초월한 찐 사랑꾼들이 온다! TV CHOSUN 230410 방송']\n"
     ]
    }
   ],
   "source": [
    "result = []\n",
    "\n",
    "for i in sample_list:\n",
    "    result.append(i.get_text())\n",
    "\n",
    "pp.pprint(result)"
   ]
  },
  {
   "cell_type": "code",
   "execution_count": 52,
   "metadata": {},
   "outputs": [],
   "source": [
    "url = \"https://finance.naver.com/\"\n",
    "\n",
    "html_data = requests.get(url).text"
   ]
  },
  {
   "cell_type": "code",
   "execution_count": 53,
   "metadata": {},
   "outputs": [],
   "source": [
    "soup = bs(html_data, 'html.parser')"
   ]
  },
  {
   "cell_type": "code",
   "execution_count": 55,
   "metadata": {},
   "outputs": [],
   "source": [
    "data = soup.find('table', attrs={\n",
    "    'class' : 'tbl_home'\n",
    "})"
   ]
  },
  {
   "cell_type": "code",
   "execution_count": 57,
   "metadata": {},
   "outputs": [],
   "source": [
    "data2 = data.find('tbody')"
   ]
  },
  {
   "cell_type": "code",
   "execution_count": 59,
   "metadata": {},
   "outputs": [],
   "source": [
    "_list = data2.find_all('th')"
   ]
  },
  {
   "cell_type": "code",
   "execution_count": 60,
   "metadata": {},
   "outputs": [
    {
     "name": "stdout",
     "output_type": "stream",
     "text": [
      "['DB', '이트론', 'KODEX 200선물인버스2X', '크리스탈신소재', 'KODEX 코스닥150선물인버스', '엘컴텍', '이아이디', '동국산업', '유니온머티리얼', '엔에스엔', '포스코 ICT', '이스트아시아홀딩스', '디젠스', '제이스코홀딩스', '넥스턴바이오']\n"
     ]
    }
   ],
   "source": [
    "result = []\n",
    "\n",
    "for i in _list:\n",
    "    result.append(i.get_text())\n",
    "\n",
    "print(result)"
   ]
  },
  {
   "cell_type": "code",
   "execution_count": 63,
   "metadata": {},
   "outputs": [],
   "source": [
    "data3 = data2.find_all('tr', attrs={\n",
    "    'class' : 'up'\n",
    "})"
   ]
  },
  {
   "cell_type": "code",
   "execution_count": 64,
   "metadata": {},
   "outputs": [
    {
     "data": {
      "text/plain": [
       "[<tr class=\"up\">\n",
       " <th scope=\"row\"><a href=\"/item/main.naver?code=012030\" onclick=\"clickcr(this, 'spe.slist', '012030', '1', event);\">DB</a></th>\n",
       " <td>2,840</td>\n",
       " <td><em class=\"bu_p bu_pup\"><span class=\"blind\">상승</span></em> 280</td>\n",
       " <td> <em class=\"up\"> +10.94% </em> </td>\n",
       " </tr>,\n",
       " <tr class=\"up\">\n",
       " <th scope=\"row\"><a href=\"/item/main.naver?code=096040\" onclick=\"clickcr(this, 'spe.slist', '096040', '2', event);\">이트론</a></th>\n",
       " <td>264</td>\n",
       " <td><em class=\"bu_p bu_pup\"><span class=\"blind\">상승</span></em> 16</td>\n",
       " <td> <em class=\"up\"> +6.45% </em> </td>\n",
       " </tr>,\n",
       " <tr class=\"up\">\n",
       " <th scope=\"row\"><a href=\"/item/main.naver?code=900250\" onclick=\"clickcr(this, 'spe.slist', '900250', '4', event);\">크리스탈신소재</a></th>\n",
       " <td>1,615</td>\n",
       " <td><em class=\"bu_p bu_pup\"><span class=\"blind\">상승</span></em> 329</td>\n",
       " <td> <em class=\"up\"> +25.58% </em> </td>\n",
       " </tr>,\n",
       " <tr class=\"up\">\n",
       " <th scope=\"row\"><a href=\"/item/main.naver?code=037950\" onclick=\"clickcr(this, 'spe.slist', '037950', '6', event);\">엘컴텍</a></th>\n",
       " <td>2,155</td>\n",
       " <td><em class=\"bu_p bu_pup\"><span class=\"blind\">상승</span></em> 159</td>\n",
       " <td> <em class=\"up\"> +7.97% </em> </td>\n",
       " </tr>,\n",
       " <tr class=\"up\">\n",
       " <th scope=\"row\"><a href=\"/item/main.naver?code=093230\" onclick=\"clickcr(this, 'spe.slist', '093230', '7', event);\">이아이디</a></th>\n",
       " <td>2,185</td>\n",
       " <td><em class=\"bu_p bu_pup\"><span class=\"blind\">상승</span></em> 463</td>\n",
       " <td> <em class=\"up\"> +26.89% </em> </td>\n",
       " </tr>,\n",
       " <tr class=\"up\">\n",
       " <th scope=\"row\"><a href=\"/item/main.naver?code=005160\" onclick=\"clickcr(this, 'spe.slist', '005160', '8', event);\">동국산업</a></th>\n",
       " <td>7,830</td>\n",
       " <td><em class=\"bu_p bu_pup\"><span class=\"blind\">상승</span></em> 1,310</td>\n",
       " <td> <em class=\"up\"> +20.09% </em> </td>\n",
       " </tr>,\n",
       " <tr class=\"up\">\n",
       " <th scope=\"row\"><a href=\"/item/main.naver?code=047400\" onclick=\"clickcr(this, 'spe.slist', '047400', '9', event);\">유니온머티리얼</a></th>\n",
       " <td>3,640</td>\n",
       " <td><em class=\"bu_p bu_pup\"><span class=\"blind\">상승</span></em> 330</td>\n",
       " <td> <em class=\"up\"> +9.97% </em> </td>\n",
       " </tr>,\n",
       " <tr class=\"up\">\n",
       " <th scope=\"row\"><a href=\"/item/main.naver?code=031860\" onclick=\"clickcr(this, 'spe.slist', '031860', '10', event);\">엔에스엔</a></th>\n",
       " <td>904</td>\n",
       " <td><em class=\"bu_p bu_pup\"><span class=\"blind\">상승</span></em> 193</td>\n",
       " <td> <em class=\"up\"> +27.14% </em> </td>\n",
       " </tr>,\n",
       " <tr class=\"up\">\n",
       " <th scope=\"row\"><a href=\"/item/main.naver?code=022100\" onclick=\"clickcr(this, 'spe.slist', '022100', '11', event);\">포스코 ICT</a></th>\n",
       " <td>10,770</td>\n",
       " <td><em class=\"bu_p bu_pup\"><span class=\"blind\">상승</span></em> 430</td>\n",
       " <td> <em class=\"up\"> +4.16% </em> </td>\n",
       " </tr>,\n",
       " <tr class=\"up\">\n",
       " <th scope=\"row\"><a href=\"/item/main.naver?code=900110\" onclick=\"clickcr(this, 'spe.slist', '900110', '12', event);\">이스트아시아홀딩스</a></th>\n",
       " <td>169</td>\n",
       " <td><em class=\"bu_p bu_pup\"><span class=\"blind\">상승</span></em> 3</td>\n",
       " <td> <em class=\"up\"> +1.81% </em> </td>\n",
       " </tr>,\n",
       " <tr class=\"up\">\n",
       " <th scope=\"row\"><a href=\"/item/main.naver?code=113810\" onclick=\"clickcr(this, 'spe.slist', '113810', '13', event);\">디젠스</a></th>\n",
       " <td>1,280</td>\n",
       " <td><em class=\"bu_p bu_pup\"><span class=\"blind\">상승</span></em> 117</td>\n",
       " <td> <em class=\"up\"> +10.06% </em> </td>\n",
       " </tr>,\n",
       " <tr class=\"up\">\n",
       " <th scope=\"row\"><a href=\"/item/main.naver?code=023440\" onclick=\"clickcr(this, 'spe.slist', '023440', '14', event);\">제이스코홀딩스</a></th>\n",
       " <td>4,700</td>\n",
       " <td><em class=\"bu_p bu_pup\"><span class=\"blind\">상승</span></em> 600</td>\n",
       " <td> <em class=\"up\"> +14.63% </em> </td>\n",
       " </tr>,\n",
       " <tr class=\"up\">\n",
       " <th scope=\"row\"><a href=\"/item/main.naver?code=089140\" onclick=\"clickcr(this, 'spe.slist', '089140', '15', event);\">넥스턴바이오</a></th>\n",
       " <td>2,180</td>\n",
       " <td><em class=\"bu_p bu_pup\"><span class=\"blind\">상승</span></em> 207</td>\n",
       " <td> <em class=\"up\"> +10.49% </em> </td>\n",
       " </tr>]"
      ]
     },
     "execution_count": 64,
     "metadata": {},
     "output_type": "execute_result"
    }
   ],
   "source": [
    "data3"
   ]
  },
  {
   "cell_type": "code",
   "execution_count": null,
   "metadata": {},
   "outputs": [],
   "source": [
    "# td 리스트\n",
    "_list3 = []\n",
    "\n",
    "for i in data3:\n",
    "    _sample_list = []\n",
    "    _sample_list.append(i.find('th').get_text())\n",
    "    _list4 = i.find_all('td')\n",
    "    for j in _list4:\n",
    "        _sample_list.append(j.get_text())\n",
    "    _list3.append(_sample_list)\n",
    "\n",
    "_list3"
   ]
  },
  {
   "cell_type": "code",
   "execution_count": 67,
   "metadata": {},
   "outputs": [
    {
     "data": {
      "text/html": [
       "<div>\n",
       "<style scoped>\n",
       "    .dataframe tbody tr th:only-of-type {\n",
       "        vertical-align: middle;\n",
       "    }\n",
       "\n",
       "    .dataframe tbody tr th {\n",
       "        vertical-align: top;\n",
       "    }\n",
       "\n",
       "    .dataframe thead th {\n",
       "        text-align: right;\n",
       "    }\n",
       "</style>\n",
       "<table border=\"1\" class=\"dataframe\">\n",
       "  <thead>\n",
       "    <tr style=\"text-align: right;\">\n",
       "      <th></th>\n",
       "      <th>0</th>\n",
       "      <th>1</th>\n",
       "      <th>2</th>\n",
       "      <th>3</th>\n",
       "    </tr>\n",
       "  </thead>\n",
       "  <tbody>\n",
       "    <tr>\n",
       "      <th>0</th>\n",
       "      <td>DB</td>\n",
       "      <td>2,840</td>\n",
       "      <td>상승 280</td>\n",
       "      <td>+10.94%</td>\n",
       "    </tr>\n",
       "    <tr>\n",
       "      <th>1</th>\n",
       "      <td>이트론</td>\n",
       "      <td>264</td>\n",
       "      <td>상승 16</td>\n",
       "      <td>+6.45%</td>\n",
       "    </tr>\n",
       "    <tr>\n",
       "      <th>2</th>\n",
       "      <td>크리스탈신소재</td>\n",
       "      <td>1,615</td>\n",
       "      <td>상승 329</td>\n",
       "      <td>+25.58%</td>\n",
       "    </tr>\n",
       "    <tr>\n",
       "      <th>3</th>\n",
       "      <td>엘컴텍</td>\n",
       "      <td>2,155</td>\n",
       "      <td>상승 159</td>\n",
       "      <td>+7.97%</td>\n",
       "    </tr>\n",
       "    <tr>\n",
       "      <th>4</th>\n",
       "      <td>이아이디</td>\n",
       "      <td>2,185</td>\n",
       "      <td>상승 463</td>\n",
       "      <td>+26.89%</td>\n",
       "    </tr>\n",
       "    <tr>\n",
       "      <th>5</th>\n",
       "      <td>동국산업</td>\n",
       "      <td>7,830</td>\n",
       "      <td>상승 1,310</td>\n",
       "      <td>+20.09%</td>\n",
       "    </tr>\n",
       "    <tr>\n",
       "      <th>6</th>\n",
       "      <td>유니온머티리얼</td>\n",
       "      <td>3,640</td>\n",
       "      <td>상승 330</td>\n",
       "      <td>+9.97%</td>\n",
       "    </tr>\n",
       "    <tr>\n",
       "      <th>7</th>\n",
       "      <td>엔에스엔</td>\n",
       "      <td>904</td>\n",
       "      <td>상승 193</td>\n",
       "      <td>+27.14%</td>\n",
       "    </tr>\n",
       "    <tr>\n",
       "      <th>8</th>\n",
       "      <td>포스코 ICT</td>\n",
       "      <td>10,770</td>\n",
       "      <td>상승 430</td>\n",
       "      <td>+4.16%</td>\n",
       "    </tr>\n",
       "    <tr>\n",
       "      <th>9</th>\n",
       "      <td>이스트아시아홀딩스</td>\n",
       "      <td>169</td>\n",
       "      <td>상승 3</td>\n",
       "      <td>+1.81%</td>\n",
       "    </tr>\n",
       "    <tr>\n",
       "      <th>10</th>\n",
       "      <td>디젠스</td>\n",
       "      <td>1,280</td>\n",
       "      <td>상승 117</td>\n",
       "      <td>+10.06%</td>\n",
       "    </tr>\n",
       "    <tr>\n",
       "      <th>11</th>\n",
       "      <td>제이스코홀딩스</td>\n",
       "      <td>4,700</td>\n",
       "      <td>상승 600</td>\n",
       "      <td>+14.63%</td>\n",
       "    </tr>\n",
       "    <tr>\n",
       "      <th>12</th>\n",
       "      <td>넥스턴바이오</td>\n",
       "      <td>2,180</td>\n",
       "      <td>상승 207</td>\n",
       "      <td>+10.49%</td>\n",
       "    </tr>\n",
       "  </tbody>\n",
       "</table>\n",
       "</div>"
      ],
      "text/plain": [
       "            0       1         2            3\n",
       "0          DB   2,840    상승 280    +10.94%  \n",
       "1         이트론     264     상승 16     +6.45%  \n",
       "2     크리스탈신소재   1,615    상승 329    +25.58%  \n",
       "3         엘컴텍   2,155    상승 159     +7.97%  \n",
       "4        이아이디   2,185    상승 463    +26.89%  \n",
       "5        동국산업   7,830  상승 1,310    +20.09%  \n",
       "6     유니온머티리얼   3,640    상승 330     +9.97%  \n",
       "7        엔에스엔     904    상승 193    +27.14%  \n",
       "8     포스코 ICT  10,770    상승 430     +4.16%  \n",
       "9   이스트아시아홀딩스     169      상승 3     +1.81%  \n",
       "10        디젠스   1,280    상승 117    +10.06%  \n",
       "11    제이스코홀딩스   4,700    상승 600    +14.63%  \n",
       "12     넥스턴바이오   2,180    상승 207    +10.49%  "
      ]
     },
     "execution_count": 67,
     "metadata": {},
     "output_type": "execute_result"
    }
   ],
   "source": [
    "pd.DataFrame(_list3)"
   ]
  },
  {
   "cell_type": "code",
   "execution_count": null,
   "metadata": {},
   "outputs": [],
   "source": []
  }
 ],
 "metadata": {
  "kernelspec": {
   "display_name": "Python 3",
   "language": "python",
   "name": "python3"
  },
  "language_info": {
   "codemirror_mode": {
    "name": "ipython",
    "version": 3
   },
   "file_extension": ".py",
   "mimetype": "text/x-python",
   "name": "python",
   "nbconvert_exporter": "python",
   "pygments_lexer": "ipython3",
   "version": "3.11.1"
  },
  "orig_nbformat": 4
 },
 "nbformat": 4,
 "nbformat_minor": 2
}
