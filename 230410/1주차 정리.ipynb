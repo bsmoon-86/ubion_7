{
 "cells": [
  {
   "attachments": {},
   "cell_type": "markdown",
   "metadata": {},
   "source": [
    "# 변수\n",
    "1. 메모리에 데이터를 저장하는 공간의 이름\n",
    "2. 데이터들의 종류\n",
    "    - string\n",
    "    - int \n",
    "    - float\n",
    "    - bool\n",
    "    - tuple\n",
    "    - list\n",
    "    - dict\n",
    "3. python의 특징 -> 변수를 생성할 때 데이터 타입을 미리 지정하지 않아도 된다. \n",
    "    - python에서 자동으로 데이터의 타입을 지정"
   ]
  },
  {
   "cell_type": "code",
   "execution_count": null,
   "metadata": {},
   "outputs": [],
   "source": [
    "a = \"test\"\n",
    "b = 10\n",
    "print(type(a))\n",
    "print(type(b))"
   ]
  },
  {
   "cell_type": "code",
   "execution_count": null,
   "metadata": {},
   "outputs": [],
   "source": [
    "c = \"test\"\n",
    "print(c)\n",
    "c = 1234\n",
    "print(c)"
   ]
  },
  {
   "attachments": {},
   "cell_type": "markdown",
   "metadata": {},
   "source": [
    "# 연산자\n",
    "1. 일반적인 사칙연산 \n",
    "    - +(덧셈), -(뺄셈), *(곱셈), /(나눗셈), //(몫), %(나머지), **(제곱)\n",
    "2. 대입 연산자\n",
    "    - +=, -=, *=, /=, //=, %=, **=\n",
    "    - ex) a += 1 --> a = a + 1\n",
    "3. 비교 연산자\n",
    "    - 두 개의 값을 비교하여 참/거짓의 형태로 출력\n",
    "    - 주로 사용되는 곳은 조건문, 반복문에서 사용\n",
    "    - ==(두 값이 같다), !=(두 값이 다르다), >(값이 더 큰 경우), >=, <, <=\n",
    "    - 비교를 해야되는 조건이 2개 이상인 경우\n",
    "        - 두 조건이 모두 참이여야 참 : and (&)\n",
    "        - 두 조건 중 하나만 참이여도 참 : or (|)\n",
    "    - not : 부정의 표현으로 참을 거짓으로 거짓을 참으로 출력 (!, ~)"
   ]
  },
  {
   "cell_type": "code",
   "execution_count": null,
   "metadata": {},
   "outputs": [],
   "source": [
    "x = 10\n",
    "y = 7\n",
    "print(x == y)\n",
    "print(x != y)\n",
    "print(x > y)\n",
    "print(x < y)"
   ]
  },
  {
   "cell_type": "code",
   "execution_count": null,
   "metadata": {},
   "outputs": [],
   "source": [
    "print(True and True)\n",
    "print(True and False)\n",
    "print(True or False)\n",
    "print(not(True))"
   ]
  },
  {
   "attachments": {},
   "cell_type": "markdown",
   "metadata": {},
   "source": [
    "# 조건문\n",
    "1. 특정한 조건에 맞춰서 컴퓨터에게 지시를 내리기 위한 방법\n",
    "2. 조건식이 참인 경우 실행 할 코드를 작성\n",
    "3. 조건식이 거짓인 경우 실행 할 코드를 작성\n",
    "4. python 특징 : 일반적인 프로그래밍 언어에서는 {}이용하여 실행 할 코드를 작성하는데 python에서는 들여쓰기를 이용하여 실행 할 코드를 작성"
   ]
  },
  {
   "cell_type": "code",
   "execution_count": null,
   "metadata": {},
   "outputs": [],
   "source": [
    "x = 10\n",
    "\n",
    "if x > 20:\n",
    "    print(\"x는 20보다 크다\")\n",
    "else:\n",
    "    print(\"x는 20보다 작거나 같다.\")"
   ]
  },
  {
   "attachments": {},
   "cell_type": "markdown",
   "metadata": {},
   "source": [
    "# 반복문\n",
    "1. for문\n",
    "    - for 변수명 in range(시작값, 종료값, 증가값)\n",
    "    - for 변수명 in (list형태의 데이터)\n",
    "    - 리스트의 길이만큼 반복\n",
    "    - 리스트의 항목 하나 하나씩 변수에 담아서 아래의 코드를 실행\n",
    "2. while문\n",
    "    - 초기 값을 미리 지정\n",
    "    - while 조건식을 지정하여 조건식이 거짓이 될때 까지 반복 실행\n",
    "3. 반복문은 무한 반복이 되지 않도록 조건을 맞춰서 사용하여야 한다. "
   ]
  },
  {
   "cell_type": "code",
   "execution_count": null,
   "metadata": {},
   "outputs": [],
   "source": [
    "for i in range(1, 10, 1):\n",
    "    print(i)"
   ]
  },
  {
   "cell_type": "code",
   "execution_count": null,
   "metadata": {},
   "outputs": [],
   "source": [
    "_list = ['a', 'b', 'c', 'd']\n",
    "for i in _list:\n",
    "    print(i)"
   ]
  },
  {
   "cell_type": "code",
   "execution_count": null,
   "metadata": {},
   "outputs": [],
   "source": [
    "i = 0\n",
    "while i < 10:\n",
    "    print(i)\n",
    "    i += 1\n"
   ]
  },
  {
   "attachments": {},
   "cell_type": "markdown",
   "metadata": {},
   "source": [
    "1. tuple\n",
    "    - 여러 형태의 데이터를 담아두는 데이터 형태\n",
    "    - 가장 기본적인 형태\n",
    "    - 각 항목을 추가, 수정, 삭제가 불가능\n",
    "    - ()로 묶여서 표시\n",
    "2. list\n",
    "    - tuple과 매우 흡사 \n",
    "    - 항목들을 추가, 수정, 삭제가 가능 (list에 있는 내장함수를 이용)\n",
    "    - []로 묶여서 표시\n",
    "3. dict\n",
    "    - 사전형 데이터를 의미\n",
    "    - key : value의 쌍으로 이루어지는 데이터의 형태\n",
    "    - list와는 달리 위치의 상관없이 원하는 데이터를 key값을 이용하여 출력이 가능"
   ]
  },
  {
   "cell_type": "code",
   "execution_count": 10,
   "metadata": {},
   "outputs": [
    {
     "name": "stdout",
     "output_type": "stream",
     "text": [
      "<class 'tuple'>\n",
      "(1, 2, 3)\n"
     ]
    }
   ],
   "source": [
    "a = (1, 2)\n",
    "print(type(a))\n",
    "a = (1,2,3)\n",
    "print(a)"
   ]
  },
  {
   "cell_type": "code",
   "execution_count": 11,
   "metadata": {},
   "outputs": [
    {
     "name": "stdout",
     "output_type": "stream",
     "text": [
      "[1, 2, 3]\n"
     ]
    }
   ],
   "source": [
    "list_a = [1,2,3]\n",
    "print(list_a)"
   ]
  },
  {
   "cell_type": "code",
   "execution_count": 12,
   "metadata": {},
   "outputs": [
    {
     "name": "stdout",
     "output_type": "stream",
     "text": [
      "[1, 2, 3, 4]\n"
     ]
    }
   ],
   "source": [
    "list_a.append(4)\n",
    "print(list_a)"
   ]
  },
  {
   "cell_type": "code",
   "execution_count": null,
   "metadata": {},
   "outputs": [],
   "source": [
    "# list의 항목들 중에 3이라는 숫자가 존재하는가?\n"
   ]
  }
 ],
 "metadata": {
  "kernelspec": {
   "display_name": "Python 3",
   "language": "python",
   "name": "python3"
  },
  "language_info": {
   "codemirror_mode": {
    "name": "ipython",
    "version": 3
   },
   "file_extension": ".py",
   "mimetype": "text/x-python",
   "name": "python",
   "nbconvert_exporter": "python",
   "pygments_lexer": "ipython3",
   "version": "3.11.1"
  },
  "orig_nbformat": 4
 },
 "nbformat": 4,
 "nbformat_minor": 2
}
