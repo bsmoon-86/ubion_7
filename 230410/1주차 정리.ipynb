{
 "cells": [
  {
   "attachments": {},
   "cell_type": "markdown",
   "metadata": {},
   "source": [
    "# 변수\n",
    "1. 메모리에 데이터를 저장하는 공간의 이름\n",
    "2. 데이터들의 종류\n",
    "    - string\n",
    "    - int \n",
    "    - float\n",
    "    - bool\n",
    "    - tuple\n",
    "    - list\n",
    "    - dict\n",
    "3. python의 특징 -> 변수를 생성할 때 데이터 타입을 미리 지정하지 않아도 된다. \n",
    "    - python에서 자동으로 데이터의 타입을 지정"
   ]
  },
  {
   "cell_type": "code",
   "execution_count": null,
   "metadata": {},
   "outputs": [],
   "source": [
    "a = \"test\"\n",
    "b = 10\n",
    "print(type(a))\n",
    "print(type(b))"
   ]
  },
  {
   "cell_type": "code",
   "execution_count": null,
   "metadata": {},
   "outputs": [],
   "source": [
    "c = \"test\"\n",
    "print(c)\n",
    "c = 1234\n",
    "print(c)"
   ]
  },
  {
   "attachments": {},
   "cell_type": "markdown",
   "metadata": {},
   "source": [
    "# 연산자\n",
    "1. 일반적인 사칙연산 \n",
    "    - +(덧셈), -(뺄셈), *(곱셈), /(나눗셈), //(몫), %(나머지), **(제곱)\n",
    "2. 대입 연산자\n",
    "    - +=, -=, *=, /=, //=, %=, **=\n",
    "    - ex) a += 1 --> a = a + 1\n",
    "3. 비교 연산자\n",
    "    - 두 개의 값을 비교하여 참/거짓의 형태로 출력\n",
    "    - 주로 사용되는 곳은 조건문, 반복문에서 사용\n",
    "    - ==(두 값이 같다), !=(두 값이 다르다), >(값이 더 큰 경우), >=, <, <=\n",
    "    - 비교를 해야되는 조건이 2개 이상인 경우\n",
    "        - 두 조건이 모두 참이여야 참 : and (&)\n",
    "        - 두 조건 중 하나만 참이여도 참 : or (|)\n",
    "    - not : 부정의 표현으로 참을 거짓으로 거짓을 참으로 출력 (!, ~)"
   ]
  },
  {
   "cell_type": "code",
   "execution_count": null,
   "metadata": {},
   "outputs": [],
   "source": [
    "x = 10\n",
    "y = 7\n",
    "print(x == y)\n",
    "print(x != y)\n",
    "print(x > y)\n",
    "print(x < y)"
   ]
  },
  {
   "cell_type": "code",
   "execution_count": null,
   "metadata": {},
   "outputs": [],
   "source": [
    "print(True and True)\n",
    "print(True and False)\n",
    "print(True or False)\n",
    "print(not(True))"
   ]
  },
  {
   "attachments": {},
   "cell_type": "markdown",
   "metadata": {},
   "source": [
    "# 조건문\n",
    "1. 특정한 조건에 맞춰서 컴퓨터에게 지시를 내리기 위한 방법\n",
    "2. 조건식이 참인 경우 실행 할 코드를 작성\n",
    "3. 조건식이 거짓인 경우 실행 할 코드를 작성\n",
    "4. python 특징 : 일반적인 프로그래밍 언어에서는 {}이용하여 실행 할 코드를 작성하는데 python에서는 들여쓰기를 이용하여 실행 할 코드를 작성"
   ]
  },
  {
   "cell_type": "code",
   "execution_count": null,
   "metadata": {},
   "outputs": [],
   "source": [
    "x = 10\n",
    "\n",
    "if x > 20:\n",
    "    print(\"x는 20보다 크다\")\n",
    "else:\n",
    "    print(\"x는 20보다 작거나 같다.\")"
   ]
  },
  {
   "attachments": {},
   "cell_type": "markdown",
   "metadata": {},
   "source": [
    "# 반복문\n",
    "1. for문\n",
    "    - for 변수명 in range(시작값, 종료값, 증가값)\n",
    "    - for 변수명 in (list형태의 데이터)\n",
    "    - 리스트의 길이만큼 반복\n",
    "    - 리스트의 항목 하나 하나씩 변수에 담아서 아래의 코드를 실행\n",
    "2. while문\n",
    "    - 초기 값을 미리 지정\n",
    "    - while 조건식을 지정하여 조건식이 거짓이 될때 까지 반복 실행\n",
    "3. 반복문은 무한 반복이 되지 않도록 조건을 맞춰서 사용하여야 한다. "
   ]
  },
  {
   "cell_type": "code",
   "execution_count": null,
   "metadata": {},
   "outputs": [],
   "source": [
    "for i in range(1, 10, 1):\n",
    "    print(i)"
   ]
  },
  {
   "cell_type": "code",
   "execution_count": null,
   "metadata": {},
   "outputs": [],
   "source": [
    "_list = ['a', 'b', 'c', 'd']\n",
    "for i in _list:\n",
    "    print(i)"
   ]
  },
  {
   "cell_type": "code",
   "execution_count": null,
   "metadata": {},
   "outputs": [],
   "source": [
    "i = 0\n",
    "while i < 10:\n",
    "    print(i)\n",
    "    i += 1\n"
   ]
  },
  {
   "attachments": {},
   "cell_type": "markdown",
   "metadata": {},
   "source": [
    "1. tuple\n",
    "    - 여러 형태의 데이터를 담아두는 데이터 형태\n",
    "    - 가장 기본적인 형태\n",
    "    - 각 항목을 추가, 수정, 삭제가 불가능\n",
    "    - ()로 묶여서 표시\n",
    "2. list\n",
    "    - tuple과 매우 흡사 \n",
    "    - 항목들을 추가, 수정, 삭제가 가능 (list에 있는 내장함수를 이용)\n",
    "    - []로 묶여서 표시\n",
    "3. dict\n",
    "    - 사전형 데이터를 의미\n",
    "    - key : value의 쌍으로 이루어지는 데이터의 형태\n",
    "    - list와는 달리 위치의 상관없이 원하는 데이터를 key값을 이용하여 출력이 가능"
   ]
  },
  {
   "cell_type": "code",
   "execution_count": null,
   "metadata": {},
   "outputs": [],
   "source": [
    "a = (1, 2)\n",
    "print(type(a))\n",
    "a = (1,2,3)\n",
    "print(a)"
   ]
  },
  {
   "cell_type": "code",
   "execution_count": null,
   "metadata": {},
   "outputs": [],
   "source": [
    "list_a = [1,2,3]\n",
    "print(list_a)"
   ]
  },
  {
   "cell_type": "code",
   "execution_count": null,
   "metadata": {},
   "outputs": [],
   "source": [
    "list_a.append(4)\n",
    "print(list_a)"
   ]
  },
  {
   "cell_type": "code",
   "execution_count": null,
   "metadata": {},
   "outputs": [],
   "source": [
    "# list의 항목들 중에 3이라는 숫자가 존재하는가?\n",
    "if 3 in list_a:\n",
    "    print('존재')\n",
    "else:\n",
    "    print(\"존재하지 않는다\")"
   ]
  },
  {
   "cell_type": "code",
   "execution_count": null,
   "metadata": {},
   "outputs": [],
   "source": [
    "3 in list_a"
   ]
  },
  {
   "cell_type": "code",
   "execution_count": null,
   "metadata": {},
   "outputs": [],
   "source": [
    "result = False\n",
    "\n",
    "for i in list_a:\n",
    "    if i == 3:\n",
    "        result = True\n",
    "print(result)"
   ]
  },
  {
   "cell_type": "code",
   "execution_count": null,
   "metadata": {},
   "outputs": [],
   "source": [
    "list_a.index(3)"
   ]
  },
  {
   "attachments": {},
   "cell_type": "markdown",
   "metadata": {},
   "source": [
    "# 함수\n",
    "1. 고정된 데이터를 저장하는게 변수라면 함수는 행동을 저장한다. \n",
    "2. def 키워드를 이용하여 함수 생성\n",
    "3. 함수를 호출하는 경우에는 함수명(인자)\n",
    "4. 일반적인 경우에는 함수의 매개변수의 개수와 인자의 개수가 같아야 한다. "
   ]
  },
  {
   "cell_type": "code",
   "execution_count": null,
   "metadata": {},
   "outputs": [],
   "source": [
    "def func_1(x):\n",
    "    result = x ** 2\n",
    "    return result\n",
    "\n",
    "print(func_1(3))\n",
    "print(func_1(5))"
   ]
  },
  {
   "attachments": {},
   "cell_type": "markdown",
   "metadata": {},
   "source": [
    "### 연습 문제 \n",
    "1. 비어 있는 리스트를 하나 생성\n",
    "2. 함수 생성\n",
    "    - 매개 변수 1개\n",
    "    - 받아온 인자값을 비어있는 리스트에 추가\n",
    "    - 조건 : 리스트 안에 인자값이 존재하면 추가하지 않는다. 존재하지 않으면 추가\n",
    "3. input()함수를 이용하여 2번 과정에 만든 함수를 호출 인자값으로 input에서 받아온 데이터를 사용"
   ]
  },
  {
   "cell_type": "code",
   "execution_count": 32,
   "metadata": {},
   "outputs": [],
   "source": [
    "# 비어 있는 리스트 생성\n",
    "_list = [1,2,3]\n",
    "\n",
    "# 함수 생성\n",
    "def func_2(x):\n",
    "    x = int(x)\n",
    "    if not(x in _list):\n",
    "        _list.append(x)\n",
    "    else:\n",
    "        print(\"리스트에 값이 존재한다.\")\n",
    "    return \"함수 종료\""
   ]
  },
  {
   "cell_type": "code",
   "execution_count": 33,
   "metadata": {},
   "outputs": [
    {
     "name": "stdout",
     "output_type": "stream",
     "text": [
      "리스트에 값이 존재한다.\n"
     ]
    },
    {
     "data": {
      "text/plain": [
       "'함수 종료'"
      ]
     },
     "execution_count": 33,
     "metadata": {},
     "output_type": "execute_result"
    }
   ],
   "source": [
    "a = input()\n",
    "func_2(a)"
   ]
  },
  {
   "cell_type": "code",
   "execution_count": 31,
   "metadata": {},
   "outputs": [
    {
     "name": "stdout",
     "output_type": "stream",
     "text": [
      "[1, 2, 3, '1']\n"
     ]
    }
   ],
   "source": [
    "print(_list)"
   ]
  },
  {
   "attachments": {},
   "cell_type": "markdown",
   "metadata": {},
   "source": [
    "# 외부 라이브러리 \n",
    "1. 함수, 클래스들의 집합체\n",
    "2. 라이브러리 설치\n",
    "    - !pip install 라이브러리명\n",
    "3. 라이브러리 로드 \n",
    "    - import 라이브러리명 as 별칭\n",
    "    - import 라이브러리명.기능명 as 별칭\n",
    "    - from 라이브러리명 import (라이브러리 내부의 기능)"
   ]
  },
  {
   "attachments": {},
   "cell_type": "markdown",
   "metadata": {},
   "source": [
    "# pandas \n",
    "1. 외부의 파일을 가지고 오는 함수?\n",
    "    - read_csv, read_json, read_excel\n",
    "    - read_csv(파일의 경로, encoding=\"인코더 종류(utf-8, euc-kr, CP949)\")\n",
    "2. 데이터프레임에서 컬럼의 이름을 변경 하는 방법?\n",
    "    - 데이터프레임명.columns = [변경할 컬럼들의 리스트 항목]\n",
    "3. 데이터프레임에서 특정 컬럼을 추출하는 방법?\n",
    "    - 단일 컬럼을 추출 : 데이터프레임명[컬럼명] -> 스리즈\n",
    "    - 여러 개의 컬럼을 추출 : 데이터프레임명[['컬럼1', '컬럼2]] -> 데이터프레임\n",
    "4. 스리즈 형태의 데이터를 리스트형태로 변환?\n",
    "    - 스리즈명.tolist()\n",
    "5. 컬럼의 값을 기준으로 정렬을 변경하는 함수?\n",
    "    - sort_values(기준이 되는 컬럼)\n",
    "    - ascending : 오름차순(기본값), 내림차순 지정\n",
    "    - inplace : 기준이되는 데이터프레임을 변경 할지 지정 (기본값 : False)\n",
    "6. 인덱스를 재지정 하는 함수 ?\n",
    "    - reset_index()\n",
    "    - drop : 기존의 인덱스를 삭제 할지 지정(기본값 : False)\n",
    "    - inplace가 존재\n",
    "7. 결측치를 유무 판단\n",
    "    - isna() : 결측치인가를 판단하여 참/거짓을 형태로 출력\n",
    "    - isna().sum() : 컬럼별 결측치의 개수를 확인\n",
    "    - 결측치에 값을 치환 : fillna(n) -> n의 값으로 결측치를 치환\n",
    "8. 그룹화 함수\n",
    "    - groupby(그룹화할 컬럼명)\n",
    "    - sum() : 그룹화 한 데이터들의 합계\n",
    "    - mean() : 그룹화 한 데이터들의 평균\n",
    "    - min(), max() : 그룹화 한 데이터들의 최솟값, 최대값\n",
    "    - count() : 데이터의 개수\n",
    "    - agg() : 데이터들의 연산을 한줄로 처리하기 위한 함수\n",
    "9. 데이터프레임에 통계 요약 정보를 출력하는 함수?\n",
    "    - describe()\n",
    "10. 데이터 간의 차이를 구하는 함수\n",
    "    - diff(n)\n",
    "    - 현재의 행의 데이터와 n만큼 이동한 데이터간의 차이를 출력\n",
    "11. 행을 이동하는 함수?\n",
    "    - shift(n)\n",
    "    - 행을 n만큼 이동한 데이터의 값을 출력\n",
    "12. 데이터프레임간의 결합 함수\n",
    "    - concat()\n",
    "        - 단순하게 행이나 열을 결합하는 함수\n",
    "        - axis : 행을 결합할지 열을 결합할지 지정\n",
    "    - merge()\n",
    "        - 특정한 조건에 맞춰서 열을 추가해주는 함수\n",
    "        - SQL에 있는 join과 흡사\n",
    "        - on : 특정한 조건\n",
    "        - how : 기준이 되는 데이터프레임을 지정 (left, right, inner, outer)\n",
    "13. apply()\n",
    "    - 데이터프레임에 있는 각 원소들을 ()안에 함수에 대입하여 실행\n",
    "    - ex) apply(일반함수), apply(lambda함수)\n",
    "14. 시계열 변환\n",
    "    - to_datetime(변경할 데이터, format=\"\")\n",
    "    - format : 변경할 데이터의 형태\n",
    "    - format ex) \n",
    "        - 201901 데이터를 시계열 변경 -> format = '%Y%m'\n",
    "        - 01-2019 데이터를 시계열 변경 -> format = '%m-%Y'"
   ]
  },
  {
   "cell_type": "markdown",
   "metadata": {},
   "source": []
  }
 ],
 "metadata": {
  "kernelspec": {
   "display_name": "Python 3",
   "language": "python",
   "name": "python3"
  },
  "language_info": {
   "codemirror_mode": {
    "name": "ipython",
    "version": 3
   },
   "file_extension": ".py",
   "mimetype": "text/x-python",
   "name": "python",
   "nbconvert_exporter": "python",
   "pygments_lexer": "ipython3",
   "version": "3.11.1"
  },
  "orig_nbformat": 4
 },
 "nbformat": 4,
 "nbformat_minor": 2
}
