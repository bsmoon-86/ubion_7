{
 "cells": [
  {
   "attachments": {},
   "cell_type": "markdown",
   "metadata": {},
   "source": [
    "# 함수 "
   ]
  },
  {
   "cell_type": "code",
   "execution_count": 1,
   "metadata": {},
   "outputs": [
    {
     "name": "stdout",
     "output_type": "stream",
     "text": [
      "Hello\n"
     ]
    }
   ],
   "source": [
    "a = \"Hello\"\n",
    "print(a)"
   ]
  },
  {
   "cell_type": "code",
   "execution_count": 2,
   "metadata": {},
   "outputs": [
    {
     "name": "stdout",
     "output_type": "stream",
     "text": [
      "5\n"
     ]
    }
   ],
   "source": [
    "# 문자의 길이를 출력해주는 함수\n",
    "print(len(a))"
   ]
  },
  {
   "cell_type": "code",
   "execution_count": 3,
   "metadata": {},
   "outputs": [
    {
     "name": "stdout",
     "output_type": "stream",
     "text": [
      "HELLO\n",
      "hello\n"
     ]
    }
   ],
   "source": [
    "# 문자를 대문자나 소문자로 변경을 함수\n",
    "\n",
    "# 문자를 모두 대문자로 변경\n",
    "print(a.upper())\n",
    "# 문자를 모두 소문자로 변경\n",
    "print(a.lower())"
   ]
  },
  {
   "cell_type": "code",
   "execution_count": 4,
   "metadata": {},
   "outputs": [
    {
     "name": "stdout",
     "output_type": "stream",
     "text": [
      "Hello World\n"
     ]
    }
   ],
   "source": [
    "b = \"hello world\"\n",
    "# 단어의 첫글자만 대문자로 변경 함수\n",
    "print(b.title())"
   ]
  },
  {
   "cell_type": "code",
   "execution_count": 6,
   "metadata": {},
   "outputs": [
    {
     "data": {
      "text/plain": [
       "'   Hello World   '"
      ]
     },
     "execution_count": 6,
     "metadata": {},
     "output_type": "execute_result"
    }
   ],
   "source": [
    "#  좌우의 공백을 제거하는 함수\n",
    "# strip()\n",
    "a = \"   Hello World   \"\n",
    "a"
   ]
  },
  {
   "cell_type": "code",
   "execution_count": 7,
   "metadata": {},
   "outputs": [
    {
     "data": {
      "text/plain": [
       "'Hello World'"
      ]
     },
     "execution_count": 7,
     "metadata": {},
     "output_type": "execute_result"
    }
   ],
   "source": [
    "# 좌우 모두 공백을 제거 \n",
    "a.strip()"
   ]
  },
  {
   "cell_type": "code",
   "execution_count": 8,
   "metadata": {},
   "outputs": [
    {
     "data": {
      "text/plain": [
       "'Hello World   '"
      ]
     },
     "execution_count": 8,
     "metadata": {},
     "output_type": "execute_result"
    }
   ],
   "source": [
    "# 좌측 공백만 제거\n",
    "a.lstrip()"
   ]
  },
  {
   "cell_type": "code",
   "execution_count": 9,
   "metadata": {},
   "outputs": [
    {
     "data": {
      "text/plain": [
       "'   Hello World'"
      ]
     },
     "execution_count": 9,
     "metadata": {},
     "output_type": "execute_result"
    }
   ],
   "source": [
    "# 우측 공백만 제거\n",
    "a.rstrip()"
   ]
  },
  {
   "cell_type": "code",
   "execution_count": 14,
   "metadata": {},
   "outputs": [],
   "source": [
    "b = \"$2.$11$\""
   ]
  },
  {
   "cell_type": "code",
   "execution_count": 15,
   "metadata": {},
   "outputs": [
    {
     "data": {
      "text/plain": [
       "'2.$11$'"
      ]
     },
     "execution_count": 15,
     "metadata": {},
     "output_type": "execute_result"
    }
   ],
   "source": [
    "# b라는 변수에 있는 '$' 표시를 제거\n",
    "b.lstrip('$')"
   ]
  },
  {
   "cell_type": "code",
   "execution_count": 17,
   "metadata": {},
   "outputs": [
    {
     "data": {
      "text/plain": [
       "'$2.$11'"
      ]
     },
     "execution_count": 17,
     "metadata": {},
     "output_type": "execute_result"
    }
   ],
   "source": [
    "b.rstrip('$')"
   ]
  },
  {
   "cell_type": "code",
   "execution_count": 18,
   "metadata": {},
   "outputs": [
    {
     "data": {
      "text/plain": [
       "'2.$11'"
      ]
     },
     "execution_count": 18,
     "metadata": {},
     "output_type": "execute_result"
    }
   ],
   "source": [
    "b.strip('$')"
   ]
  },
  {
   "cell_type": "code",
   "execution_count": 19,
   "metadata": {},
   "outputs": [
    {
     "data": {
      "text/plain": [
       "'-2.-11-'"
      ]
     },
     "execution_count": 19,
     "metadata": {},
     "output_type": "execute_result"
    }
   ],
   "source": [
    "# 특정한 단어를 대체하는 함수 \n",
    "# replace(기준 단어, 대체할 단어)\n",
    "\n",
    "# b 변수의 '$' 표기를 '-' 변경\n",
    "b.replace('$', '-')"
   ]
  },
  {
   "cell_type": "code",
   "execution_count": 20,
   "metadata": {},
   "outputs": [
    {
     "data": {
      "text/plain": [
       "'2.11'"
      ]
     },
     "execution_count": 20,
     "metadata": {},
     "output_type": "execute_result"
    }
   ],
   "source": [
    "# b 변수의 '$' 표기를 삭제하려면?\n",
    "b.replace('$', '')"
   ]
  },
  {
   "cell_type": "code",
   "execution_count": 21,
   "metadata": {},
   "outputs": [
    {
     "data": {
      "text/plain": [
       "'HelloWorld'"
      ]
     },
     "execution_count": 21,
     "metadata": {},
     "output_type": "execute_result"
    }
   ],
   "source": [
    "# a 변수에 공백을 모두 삭제하려면?\n",
    "a.replace(\" \", \"\")"
   ]
  },
  {
   "cell_type": "code",
   "execution_count": 22,
   "metadata": {},
   "outputs": [
    {
     "name": "stdout",
     "output_type": "stream",
     "text": [
      "['1', '2', '3', '4', '5']\n"
     ]
    }
   ],
   "source": [
    "# 문자열을 특정한 값을 기준으로 나눠주는 함수\n",
    "# split(특정한 값)-> 인자 값을 아무것도 넣지 않으면 \" \"을 기준으로 나눠준다\n",
    "\n",
    "a = \"1,2,3,4,5\"\n",
    "b = \"1 2 3 4 5\"\n",
    "\n",
    "print(a.split(','))"
   ]
  },
  {
   "cell_type": "code",
   "execution_count": 23,
   "metadata": {},
   "outputs": [
    {
     "name": "stdout",
     "output_type": "stream",
     "text": [
      "['1', '2', '3', '4', '5']\n"
     ]
    }
   ],
   "source": [
    "print(b.split())"
   ]
  },
  {
   "cell_type": "code",
   "execution_count": 24,
   "metadata": {},
   "outputs": [
    {
     "name": "stdout",
     "output_type": "stream",
     "text": [
      "3\n"
     ]
    }
   ],
   "source": [
    "print(a.split(\",\")[2])"
   ]
  },
  {
   "cell_type": "code",
   "execution_count": 27,
   "metadata": {},
   "outputs": [
    {
     "name": "stdout",
     "output_type": "stream",
     "text": [
      "6\n",
      "1\n"
     ]
    }
   ],
   "source": [
    "# max() -> 인자값들 중에 가장 큰 숫자를 출력\n",
    "# min() -> 인자 값들 중에 가장 작은 숫자를 출력\n",
    "print(max(1,6,3,4))\n",
    "print(min(1,6,3,4))"
   ]
  },
  {
   "cell_type": "code",
   "execution_count": 28,
   "metadata": {},
   "outputs": [
    {
     "name": "stdout",
     "output_type": "stream",
     "text": [
      "Hello\n"
     ]
    }
   ],
   "source": [
    "# 일반함수\n",
    "\n",
    "# 매개변수가 존재하지 않는 경우\n",
    "# 함수 선언, 생성\n",
    "def func_1():\n",
    "    return \"Hello\"\n",
    "\n",
    "# 함수를 호출\n",
    "print(func_1())"
   ]
  },
  {
   "cell_type": "code",
   "execution_count": 29,
   "metadata": {},
   "outputs": [
    {
     "name": "stdout",
     "output_type": "stream",
     "text": [
      "9\n",
      "3\n",
      "Helloworld\n"
     ]
    }
   ],
   "source": [
    "# 매개변수가 존재하는 경우\n",
    "def func_2(a, b):\n",
    "    c = a + b\n",
    "    return c\n",
    "\n",
    "print(func_2(3, 6)) # 9 출력\n",
    "print(func_2(1, 2)) # 3 출력\n",
    "print(func_2('Hello', 'world')) #'Helloworld' 출력"
   ]
  },
  {
   "cell_type": "code",
   "execution_count": 30,
   "metadata": {},
   "outputs": [
    {
     "ename": "TypeError",
     "evalue": "func_2() missing 1 required positional argument: 'b'",
     "output_type": "error",
     "traceback": [
      "\u001b[1;31m---------------------------------------------------------------------------\u001b[0m",
      "\u001b[1;31mTypeError\u001b[0m                                 Traceback (most recent call last)",
      "Cell \u001b[1;32mIn[30], line 2\u001b[0m\n\u001b[0;32m      1\u001b[0m \u001b[39m# 함수의 매개변수의 개수와 호출할때 인자의 개수가 다르면 ?\u001b[39;00m\n\u001b[1;32m----> 2\u001b[0m func_2(\u001b[39m4\u001b[39;49m)\n",
      "\u001b[1;31mTypeError\u001b[0m: func_2() missing 1 required positional argument: 'b'"
     ]
    }
   ],
   "source": [
    "# 함수의 매개변수의 개수와 호출할때 인자의 개수가 다르면 ?\n",
    "func_2(4)"
   ]
  },
  {
   "cell_type": "code",
   "execution_count": 31,
   "metadata": {},
   "outputs": [
    {
     "ename": "TypeError",
     "evalue": "func_2() takes 2 positional arguments but 3 were given",
     "output_type": "error",
     "traceback": [
      "\u001b[1;31m---------------------------------------------------------------------------\u001b[0m",
      "\u001b[1;31mTypeError\u001b[0m                                 Traceback (most recent call last)",
      "Cell \u001b[1;32mIn[31], line 1\u001b[0m\n\u001b[1;32m----> 1\u001b[0m func_2(\u001b[39m1\u001b[39;49m,\u001b[39m2\u001b[39;49m,\u001b[39m3\u001b[39;49m)\n",
      "\u001b[1;31mTypeError\u001b[0m: func_2() takes 2 positional arguments but 3 were given"
     ]
    }
   ],
   "source": [
    "func_2(1,2,3)"
   ]
  },
  {
   "cell_type": "code",
   "execution_count": 34,
   "metadata": {},
   "outputs": [
    {
     "name": "stdout",
     "output_type": "stream",
     "text": [
      "10\n",
      "-2\n"
     ]
    }
   ],
   "source": [
    "def func_3(a, b):\n",
    "    c = 10\n",
    "    result = a + b - 10\n",
    "    print(c)\n",
    "    return result\n",
    "\n",
    "print(func_3(3, 5))\n",
    "# print(c)"
   ]
  },
  {
   "attachments": {},
   "cell_type": "markdown",
   "metadata": {},
   "source": [
    "- 전역 변수\n",
    "    1. 어디서든 사용이 가능한 변수\n",
    "    2. 들여쓰기를 하지 않은 공간에서 생성한 변수\n",
    "- 지역 변수\n",
    "    1. 특정한 구간에서만 사용이 가능한 변수\n",
    "    2. 들여쓰기가 된 공간에서 생성한 변수\n",
    "    3. 함수 안에서만 만들어진 변수, 클래스 안에서 만들어진 변수"
   ]
  },
  {
   "cell_type": "code",
   "execution_count": 35,
   "metadata": {},
   "outputs": [
    {
     "name": "stdout",
     "output_type": "stream",
     "text": [
      "15\n"
     ]
    }
   ],
   "source": [
    "x = 3\n",
    "\n",
    "def func_4(a):\n",
    "    result = a * x\n",
    "    return result\n",
    "\n",
    "print(func_4(5))\n",
    "\n",
    "# x는 전역변수\n",
    "# a는 매개변수(지역변수)\n"
   ]
  },
  {
   "cell_type": "code",
   "execution_count": 39,
   "metadata": {},
   "outputs": [
    {
     "name": "stdout",
     "output_type": "stream",
     "text": [
      "6/7\n",
      "-1\n"
     ]
    }
   ],
   "source": [
    "# 매개변수에 기본값 설정\n",
    "def func_5(a, b, c = 2):\n",
    "    result = a + b - c\n",
    "    return result\n",
    "\n",
    "print(func_5(5, 4, 3), end=\"/\")\n",
    "print(func_5(5, 4))\n",
    "print(func_5(c = 5, a = 3, b = 1))"
   ]
  },
  {
   "cell_type": "code",
   "execution_count": 42,
   "metadata": {},
   "outputs": [
    {
     "name": "stdout",
     "output_type": "stream",
     "text": [
      "8\n",
      "2\n",
      "c의 값이 잘못되었습니다\n"
     ]
    }
   ],
   "source": [
    "# c의 값이 1이면 a와 b의 합계 return\n",
    "# c의 값이 2이면 a와 b의 차이 return\n",
    "# c가 그 외의 데이터이면 'c의 값이 잘못되었습니다' return\n",
    "def func_6(a, b, c):\n",
    "    # c가 1인 경우\n",
    "    if c == 1:\n",
    "        # a와 b의 합계를  return\n",
    "        # return a + b\n",
    "        result = a+b\n",
    "    # c가 1이 아니고 2인 경우\n",
    "    elif c == 2:\n",
    "        # a와 b의 차이를 return\n",
    "        # return a-b\n",
    "        result = a - b\n",
    "    # c가 그 외의 데이터이면\n",
    "    else:\n",
    "        # return 'c의 값이 잘못되었습니다'\n",
    "        result = 'c의 값이 잘못되었습니다'\n",
    "\n",
    "    return result\n",
    "\n",
    "print(func_6(5,3,1))\n",
    "print(func_6(5,3,2))\n",
    "print(func_6(5,3,3))\n"
   ]
  },
  {
   "cell_type": "code",
   "execution_count": 43,
   "metadata": {},
   "outputs": [
    {
     "name": "stdout",
     "output_type": "stream",
     "text": [
      "1\n",
      "2\n",
      "3\n",
      "4\n",
      "5\n",
      "6\n",
      "7\n",
      "8\n",
      "9\n",
      "10\n"
     ]
    }
   ],
   "source": [
    "# 반복문\n",
    "for i in range(1, 11, 1):\n",
    "    print(i)"
   ]
  },
  {
   "cell_type": "code",
   "execution_count": 46,
   "metadata": {},
   "outputs": [
    {
     "name": "stdout",
     "output_type": "stream",
     "text": [
      "10\n",
      "20\n",
      "30\n",
      "40\n"
     ]
    }
   ],
   "source": [
    "_list = [10, 20, 30, 40]\n",
    "for i in _list:\n",
    "    print(i)"
   ]
  },
  {
   "cell_type": "code",
   "execution_count": 45,
   "metadata": {},
   "outputs": [
    {
     "name": "stdout",
     "output_type": "stream",
     "text": [
      "10\n",
      "20\n",
      "30\n",
      "40\n"
     ]
    }
   ],
   "source": [
    "for i in range(0, len(_list), 1):\n",
    "    print(_list[i])"
   ]
  },
  {
   "attachments": {},
   "cell_type": "markdown",
   "metadata": {},
   "source": [
    "### 예제 문제 \n",
    "1. 함수 생성 (매개변수 2개 : _min, _max)\n",
    "2. _min부터 _max까지의 합계를 출력하는 함수\n",
    "    1. 함수 생성 매개변수 2개를 넣어서 생성\n",
    "    2. 매개변수 2개가 print() 함수를 이용해서 출력\n",
    "    3. 함수 안에 반복문을 생성 _min부터 _max까지 반복해서 i 값을 출력\n",
    "    4. 합계라는 변수를 하나 생성 0 대입\n",
    "    5. 반복문에서 i 값을 합계라는 변수에 플러스 \n",
    "    6. 합계 리턴"
   ]
  },
  {
   "cell_type": "code",
   "execution_count": 59,
   "metadata": {},
   "outputs": [],
   "source": [
    "def func_7(_min, _max):\n",
    "    # print(_min)\n",
    "    # print(_max)\n",
    "    result = 0\n",
    "    # _max가 _min보다 큰 경우\n",
    "    if _min < _max :\n",
    "        for i in range(_min, _max+1):\n",
    "            # print(i)\n",
    "            result += i\n",
    "    else:\n",
    "        for i in range(_max, _min+1):\n",
    "            result += i\n",
    "    return result"
   ]
  },
  {
   "cell_type": "code",
   "execution_count": 61,
   "metadata": {},
   "outputs": [],
   "source": [
    "def func_8(_min, _max):\n",
    "    result = 0\n",
    "    for i in range(min(_min, _max), max(_min, _max) + 1):\n",
    "        result += i\n",
    "    return result"
   ]
  },
  {
   "cell_type": "code",
   "execution_count": 62,
   "metadata": {},
   "outputs": [
    {
     "name": "stdout",
     "output_type": "stream",
     "text": [
      "55\n",
      "55\n"
     ]
    }
   ],
   "source": [
    "print(func_8(1, 10))\n",
    "print(func_8(10, 1))"
   ]
  },
  {
   "cell_type": "code",
   "execution_count": 65,
   "metadata": {},
   "outputs": [
    {
     "name": "stdout",
     "output_type": "stream",
     "text": [
      "4\n",
      "None\n"
     ]
    }
   ],
   "source": [
    "def func_9(a, b):\n",
    "    result = a + b\n",
    "    print(result)\n",
    "\n",
    "x = func_9(1,3)\n",
    "print(x)"
   ]
  },
  {
   "cell_type": "code",
   "execution_count": 64,
   "metadata": {},
   "outputs": [
    {
     "data": {
      "text/plain": [
       "4"
      ]
     },
     "execution_count": 64,
     "metadata": {},
     "output_type": "execute_result"
    }
   ],
   "source": [
    "def func_10(a, b):\n",
    "    result = a + b\n",
    "    return result\n",
    "\n",
    "x = func_10(1, 3)\n",
    "print(x)"
   ]
  },
  {
   "cell_type": "code",
   "execution_count": 70,
   "metadata": {},
   "outputs": [],
   "source": [
    "# 함수 생성 -> 인자의 개수가 가변인 경우\n",
    "def func_11(x, *_list):\n",
    "    print(_list[0])"
   ]
  },
  {
   "cell_type": "code",
   "execution_count": 71,
   "metadata": {},
   "outputs": [
    {
     "name": "stdout",
     "output_type": "stream",
     "text": [
      "2\n",
      "2\n",
      "2\n"
     ]
    }
   ],
   "source": [
    "func_11(1,2,3,4,5)\n",
    "func_11(1,2,3)\n",
    "func_11(1,2,3,4,5,6,7,8,9,10)"
   ]
  },
  {
   "attachments": {},
   "cell_type": "markdown",
   "metadata": {},
   "source": [
    "- max(), min() 함수를 생성\n",
    "    1. 인자의 개수가 가변이다. -> *매개변수\n",
    "    2. 각각의 항목들을 비교해서 가장 큰 숫자를 출력 -> return int형태\n",
    "    3. 예를 들어 4개의 항목의 데이터가 대입\n",
    "        1. 첫번째 항목과 두번째 항목을 비교해서 큰 값을 새로운 변수에 대입\n",
    "        2. 1번 과정에서 나온 값과 세번째 항목을 비교해서 큰 값을 다시 변수에 대입\n",
    "        3. 2번 과정에서 나온 값과 마지막 항목을 비교해서 큰 값을 다시 변수에 대입\n",
    "        4. 최종 변수의 값을 return"
   ]
  },
  {
   "cell_type": "code",
   "execution_count": 75,
   "metadata": {},
   "outputs": [],
   "source": [
    "def custom_max(*_list):\n",
    "    result = _list[0]\n",
    "    # 첫번째 원소를 출력?\n",
    "    # 첫번째 원소와 두번째 원소의 값을 비교하여 큰 값을 result에 대입\n",
    "    # if result > _list[1]:\n",
    "    #     result = _list[0]\n",
    "    # else:\n",
    "    #     result = _list[1]\n",
    "    # if result < _list[1]:\n",
    "    #     result = _list[1]\n",
    "\n",
    "    # result와 세번째 원소를 비교\n",
    "    # if result > _list[2]:\n",
    "    #     result = result\n",
    "    # else:\n",
    "    #     result = _list[2]\n",
    "    # if result < _list[2]:\n",
    "    #     result = _list[2]\n",
    "\n",
    "    # for i in range(1, len(_list), 1):\n",
    "    #     if result < _list[i]:\n",
    "    #         result = _list[i]\n",
    "    for i in _list:\n",
    "        if result < i:\n",
    "            result = i\n",
    "    return result\n",
    "    "
   ]
  },
  {
   "cell_type": "code",
   "execution_count": 76,
   "metadata": {},
   "outputs": [
    {
     "name": "stdout",
     "output_type": "stream",
     "text": [
      "8\n",
      "50\n"
     ]
    }
   ],
   "source": [
    "print(custom_max(1, 6, 4, 8, 2))\n",
    "print(custom_max(6, 3, 2, 9, 11, 50, -100))"
   ]
  },
  {
   "attachments": {},
   "cell_type": "markdown",
   "metadata": {},
   "source": [
    "- 평균을 출력해주는 함수 생성\n",
    "    1. 인자 개수가 가변\n",
    "    2. 받아온 인자 값들을 원소 하나씩 출력\n",
    "    3. 각 원소들의 합계\n",
    "        1. 합계라는 변수 생성 0을 대입\n",
    "        2. 각 원소들의 값들은 합계에 추가\n",
    "    4. (합계) / (인자의 개수) -> 평균이라는 변수에 대입\n",
    "    5. 평균 값을 리턴"
   ]
  },
  {
   "cell_type": "code",
   "execution_count": 85,
   "metadata": {},
   "outputs": [],
   "source": [
    "def custom_mean(*_list):\n",
    "    # while문\n",
    "    # 초기값 지정\n",
    "    i = 0\n",
    "    # 합계 변수 생성 0을 대입\n",
    "    sum = 0\n",
    "    while i < len(_list):\n",
    "        # print(_list[i])\n",
    "        sum += _list[i]\n",
    "        # i값을 증가\n",
    "        i += 1   \n",
    "    # print(sum)\n",
    "    result = sum / len(_list)\n",
    "    return result"
   ]
  },
  {
   "cell_type": "code",
   "execution_count": 86,
   "metadata": {},
   "outputs": [
    {
     "name": "stdout",
     "output_type": "stream",
     "text": [
      "3.0\n",
      "5.5\n"
     ]
    }
   ],
   "source": [
    "print(custom_mean(1,2,3,4,5))\n",
    "print(custom_mean(1,2,3,4,5,6,7,8,9,10))"
   ]
  },
  {
   "cell_type": "code",
   "execution_count": 87,
   "metadata": {},
   "outputs": [],
   "source": [
    "# 외부의 모듈을 로드\n",
    "import mod1"
   ]
  },
  {
   "cell_type": "code",
   "execution_count": 88,
   "metadata": {},
   "outputs": [
    {
     "data": {
      "text/plain": [
       "5"
      ]
     },
     "execution_count": 88,
     "metadata": {},
     "output_type": "execute_result"
    }
   ],
   "source": [
    "mod1.custom_max(1,2,3,4,5)"
   ]
  },
  {
   "cell_type": "code",
   "execution_count": 89,
   "metadata": {},
   "outputs": [
    {
     "data": {
      "text/plain": [
       "3.0"
      ]
     },
     "execution_count": 89,
     "metadata": {},
     "output_type": "execute_result"
    }
   ],
   "source": [
    "mod1.custom_mean(1,2,3,4,5)"
   ]
  }
 ],
 "metadata": {
  "kernelspec": {
   "display_name": "Python 3",
   "language": "python",
   "name": "python3"
  },
  "language_info": {
   "codemirror_mode": {
    "name": "ipython",
    "version": 3
   },
   "file_extension": ".py",
   "mimetype": "text/x-python",
   "name": "python",
   "nbconvert_exporter": "python",
   "pygments_lexer": "ipython3",
   "version": "3.11.1"
  },
  "orig_nbformat": 4
 },
 "nbformat": 4,
 "nbformat_minor": 2
}
